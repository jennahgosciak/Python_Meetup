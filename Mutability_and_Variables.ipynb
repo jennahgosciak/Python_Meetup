{
  "nbformat": 4,
  "nbformat_minor": 0,
  "metadata": {
    "colab": {
      "name": "Mutability and Variables.ipynb",
      "provenance": [],
      "collapsed_sections": [],
      "toc_visible": true,
      "include_colab_link": true
    },
    "kernelspec": {
      "display_name": "Python 3",
      "language": "python",
      "name": "python3"
    },
    "language_info": {
      "codemirror_mode": {
        "name": "ipython",
        "version": 3
      },
      "file_extension": ".py",
      "mimetype": "text/x-python",
      "name": "python",
      "nbconvert_exporter": "python",
      "pygments_lexer": "ipython3",
      "version": "3.7.6"
    }
  },
  "cells": [
    {
      "cell_type": "markdown",
      "metadata": {
        "id": "view-in-github",
        "colab_type": "text"
      },
      "source": [
        "<a href=\"https://colab.research.google.com/github/jennahgosciak/Python_Meetup/blob/master/Mutability_and_Variables.ipynb\" target=\"_parent\"><img src=\"https://colab.research.google.com/assets/colab-badge.svg\" alt=\"Open In Colab\"/></a>"
      ]
    },
    {
      "cell_type": "markdown",
      "metadata": {
        "id": "WsMxqnaSaC7f"
      },
      "source": [
        "# Variables"
      ]
    },
    {
      "cell_type": "markdown",
      "metadata": {
        "id": "34hoqh72Qp-1"
      },
      "source": [
        "## Assignment: \n",
        "Variables are assigned with the '=' operator\n",
        "Variables are not declared or defined prior to assignment.  Instead, the act of assignment creates the variable.  The variable's type is defined when the variable is created (more on that below)"
      ]
    },
    {
      "cell_type": "code",
      "metadata": {
        "id": "dUZRFFA7Qp-3",
        "outputId": "5453ef11-8dc0-4baa-bbc0-12538a34bd9c"
      },
      "source": [
        "my_integer = 3\n",
        "print(f'my_integer == {my_integer}')"
      ],
      "execution_count": null,
      "outputs": [
        {
          "output_type": "stream",
          "text": [
            "my_integer == 3\n"
          ],
          "name": "stdout"
        }
      ]
    },
    {
      "cell_type": "code",
      "metadata": {
        "id": "xoqDfv-PQp--",
        "outputId": "83c998aa-c1a7-4b47-9ef5-5412cde302de"
      },
      "source": [
        "my_string = \"three\"\n",
        "print(f'my_string == {my_string}')"
      ],
      "execution_count": null,
      "outputs": [
        {
          "output_type": "stream",
          "text": [
            "my_string == three\n"
          ],
          "name": "stdout"
        }
      ]
    },
    {
      "cell_type": "markdown",
      "metadata": {
        "id": "yKxJ3-gbQp_C"
      },
      "source": [
        "Python also allows for chained assignment"
      ]
    },
    {
      "cell_type": "code",
      "metadata": {
        "id": "3M6p0mbRQp_D",
        "outputId": "bca8b15e-c0dd-400a-a7e4-5d4f2a810748"
      },
      "source": [
        "x = y = z = 1\n",
        "print(f'x == {x} and y == {y} and z == {z}')"
      ],
      "execution_count": null,
      "outputs": [
        {
          "output_type": "stream",
          "text": [
            "x == 1 and y == 1 and z == 1\n"
          ],
          "name": "stdout"
        }
      ]
    },
    {
      "cell_type": "markdown",
      "metadata": {
        "id": "RfmTEAEHQp_G"
      },
      "source": [
        "## Types\n",
        "Variables types are set dynamically (not statically).\n",
        "This means, among other things, that a variable can be assigned to one type and reassigned to another type without issue\n",
        "To identify a variables type, use Python's built in the type() method"
      ]
    },
    {
      "cell_type": "code",
      "metadata": {
        "id": "6r4HHPzNQp_G",
        "outputId": "eafcb30f-4fd7-42ca-bc20-52f2202ada63"
      },
      "source": [
        "my_variable = 3\n",
        "print(f'my_variable == {my_variable} and is type {type(my_variable)}')\n",
        "\n",
        "my_variable = \"three\"\n",
        "print(f'my_variable has been reassigned to {my_variable} and is now type {type(my_variable)}')"
      ],
      "execution_count": null,
      "outputs": [
        {
          "output_type": "stream",
          "text": [
            "my_variable == 3 and is type <class 'int'>\n",
            "my_variable has been reassigned to three and is now type <class 'str'>\n"
          ],
          "name": "stdout"
        }
      ]
    },
    {
      "cell_type": "markdown",
      "metadata": {
        "id": "G1yINnBdQp_K"
      },
      "source": [
        "## Object references\n",
        "In Python, everything is an object (even integers and strings).  This means x = 5 creates an instance of the class int (which is an object) with a value of 5 which is then stored in memory.  The variable x points to that object in memory.\n",
        "This is why type(my_variable) returned <class 'int'> when it was assigned to 3 and <class 'str'> when it was reassigned to \"three\".\n",
        "\n",
        "Once you have created an instance of a class object, you have access to all the methods defined in that class.  To see the methods, and other things, use the built in dir() method"
      ]
    },
    {
      "cell_type": "code",
      "metadata": {
        "id": "tQPtYTHtQp_L",
        "outputId": "01064aac-a3cc-42f1-bd17-4ff574ae9b60"
      },
      "source": [
        "print(type(my_string))\n",
        "print(dir(str))\n",
        "print(f'Result of using upper method from the string class on my_string: {my_string.upper()}')"
      ],
      "execution_count": null,
      "outputs": [
        {
          "output_type": "stream",
          "text": [
            "<class 'str'>\n",
            "['__add__', '__class__', '__contains__', '__delattr__', '__dir__', '__doc__', '__eq__', '__format__', '__ge__', '__getattribute__', '__getitem__', '__getnewargs__', '__gt__', '__hash__', '__init__', '__init_subclass__', '__iter__', '__le__', '__len__', '__lt__', '__mod__', '__mul__', '__ne__', '__new__', '__reduce__', '__reduce_ex__', '__repr__', '__rmod__', '__rmul__', '__setattr__', '__sizeof__', '__str__', '__subclasshook__', 'capitalize', 'casefold', 'center', 'count', 'encode', 'endswith', 'expandtabs', 'find', 'format', 'format_map', 'index', 'isalnum', 'isalpha', 'isascii', 'isdecimal', 'isdigit', 'isidentifier', 'islower', 'isnumeric', 'isprintable', 'isspace', 'istitle', 'isupper', 'join', 'ljust', 'lower', 'lstrip', 'maketrans', 'partition', 'replace', 'rfind', 'rindex', 'rjust', 'rpartition', 'rsplit', 'rstrip', 'split', 'splitlines', 'startswith', 'strip', 'swapcase', 'title', 'translate', 'upper', 'zfill']\n",
            "Result of using upper method from the string class on my_string: THREE\n"
          ],
          "name": "stdout"
        }
      ]
    },
    {
      "cell_type": "markdown",
      "metadata": {
        "id": "BMuTVX4eQp_O"
      },
      "source": [
        "If you create a new variable and set it equal to an existing variable, they will both point to the same object in memory (instead of creating a copy)."
      ]
    },
    {
      "cell_type": "code",
      "metadata": {
        "id": "2H1R_G1qQp_O",
        "outputId": "b2ae55b3-3668-43f7-dc15-f6e4748291d0"
      },
      "source": [
        "my_new_variable = my_variable\n",
        "print(f'my_new_variable == {my_new_variable}')"
      ],
      "execution_count": null,
      "outputs": [
        {
          "output_type": "stream",
          "text": [
            "my_new_variable == three\n"
          ],
          "name": "stdout"
        }
      ]
    },
    {
      "cell_type": "markdown",
      "metadata": {
        "id": "wX3Sy2hkQp_R"
      },
      "source": [
        "## Object identity\n",
        "When a variable assignment is made, it is given a unique identifier.  This is true for every object created in Python.  You can access this identifier using Python's built in id() method"
      ]
    },
    {
      "cell_type": "code",
      "metadata": {
        "id": "YdQXGseaQp_S",
        "outputId": "e3500712-d6dc-43f5-b2bc-9f3eb8a3d9ff"
      },
      "source": [
        "print(f'The unique identifier for my_variable is {id(my_variable)}')\n",
        "print(f'That same unique identifier is used for my_new_variable, {id(my_new_variable)}')"
      ],
      "execution_count": null,
      "outputs": [
        {
          "output_type": "stream",
          "text": [
            "The unique identifier for my_variable is 2084689672816\n",
            "That same unique identifier is used for my_new_variable, 2084689672816\n"
          ],
          "name": "stdout"
        }
      ]
    },
    {
      "cell_type": "markdown",
      "metadata": {
        "id": "jUChF4iTQp_U"
      },
      "source": [
        "## Names\n",
        "Variable names can be any length, consist of upper and lower cases letters, numbers (except for the first position), and underscores.\n",
        "In Python 3, unicode characters can be used in variable names.\n",
        "Upper and lower case letters are not the same (ie Var is not the same as var)."
      ]
    },
    {
      "cell_type": "markdown",
      "metadata": {
        "id": "xn4jWRtvQp_U"
      },
      "source": [
        "## Reserved words\n",
        "There is a set of reserved words that cannot be used in naming.  That list is available with the kwlist of the keyword library or using help(\"keywords\")"
      ]
    },
    {
      "cell_type": "code",
      "metadata": {
        "id": "Fnoqt585Qp_V",
        "outputId": "f10a2dbb-41a7-4bd5-ede1-c05a5a6e6f0e"
      },
      "source": [
        "import keyword\n",
        "print(keyword.kwlist)\n",
        "\n",
        "print(help(\"keywords\"))"
      ],
      "execution_count": null,
      "outputs": [
        {
          "output_type": "stream",
          "text": [
            "['False', 'None', 'True', 'and', 'as', 'assert', 'async', 'await', 'break', 'class', 'continue', 'def', 'del', 'elif', 'else', 'except', 'finally', 'for', 'from', 'global', 'if', 'import', 'in', 'is', 'lambda', 'nonlocal', 'not', 'or', 'pass', 'raise', 'return', 'try', 'while', 'with', 'yield']\n",
            "\n",
            "Here is a list of the Python keywords.  Enter any keyword to get more help.\n",
            "\n",
            "False               class               from                or\n",
            "None                continue            global              pass\n",
            "True                def                 if                  raise\n",
            "and                 del                 import              return\n",
            "as                  elif                in                  try\n",
            "assert              else                is                  while\n",
            "async               except              lambda              with\n",
            "await               finally             nonlocal            yield\n",
            "break               for                 not                 \n",
            "\n",
            "None\n"
          ],
          "name": "stdout"
        }
      ]
    }
  ]
}