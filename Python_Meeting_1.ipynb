{
  "nbformat": 4,
  "nbformat_minor": 0,
  "metadata": {
    "kernelspec": {
      "display_name": "Python 3",
      "language": "python",
      "name": "python3"
    },
    "language_info": {
      "codemirror_mode": {
        "name": "ipython",
        "version": 3
      },
      "file_extension": ".py",
      "mimetype": "text/x-python",
      "name": "python",
      "nbconvert_exporter": "python",
      "pygments_lexer": "ipython3",
      "version": "3.7.5"
    },
    "colab": {
      "name": "Python Meeting 1.ipynb",
      "provenance": [],
      "toc_visible": true,
      "include_colab_link": true
    }
  },
  "cells": [
    {
      "cell_type": "markdown",
      "metadata": {
        "id": "view-in-github",
        "colab_type": "text"
      },
      "source": [
        "<a href=\"https://colab.research.google.com/github/jennahgosciak/Python_Meetup/blob/master/Python_Meeting_1.ipynb\" target=\"_parent\"><img src=\"https://colab.research.google.com/assets/colab-badge.svg\" alt=\"Open In Colab\"/></a>"
      ]
    },
    {
      "cell_type": "markdown",
      "metadata": {
        "id": "1xcXOJCHJRCh",
        "colab_type": "text"
      },
      "source": [
        "# Python Meetup - Meeting 1\n",
        "## 1. Literal Constants\n",
        "Literal constants cannot be changed. They can be:\n",
        "\n",
        "- a number\n",
        "\n"
      ]
    },
    {
      "cell_type": "code",
      "metadata": {
        "id": "vmZtQUhyJRCi",
        "colab_type": "code",
        "colab": {
          "base_uri": "https://localhost:8080/",
          "height": 35
        },
        "outputId": "f1a9a781-819f-441a-b372-5f963749bb45"
      },
      "source": [
        "# E.g.\n",
        "5"
      ],
      "execution_count": null,
      "outputs": [
        {
          "output_type": "execute_result",
          "data": {
            "text/plain": [
              "5"
            ]
          },
          "metadata": {
            "tags": []
          },
          "execution_count": 31
        }
      ]
    },
    {
      "cell_type": "markdown",
      "metadata": {
        "id": "ml0GMbBsJrLn",
        "colab_type": "text"
      },
      "source": [
        "- a string"
      ]
    },
    {
      "cell_type": "code",
      "metadata": {
        "id": "bgfGOqiHJqdj",
        "colab_type": "code",
        "colab": {
          "base_uri": "https://localhost:8080/",
          "height": 35
        },
        "outputId": "43d23176-5a29-4f83-a563-e0a188b7347f"
      },
      "source": [
        "\"string\""
      ],
      "execution_count": null,
      "outputs": [
        {
          "output_type": "execute_result",
          "data": {
            "application/vnd.google.colaboratory.intrinsic": {
              "type": "string"
            },
            "text/plain": [
              "'string'"
            ]
          },
          "metadata": {
            "tags": []
          },
          "execution_count": 32
        }
      ]
    },
    {
      "cell_type": "markdown",
      "metadata": {
        "id": "nRZiU6HqJzR7",
        "colab_type": "text"
      },
      "source": [
        "- They can be assigned to a variable, but the idea is that they don't change."
      ]
    },
    {
      "cell_type": "code",
      "metadata": {
        "id": "WIByLk7sJx5d",
        "colab_type": "code",
        "colab": {}
      },
      "source": [
        "x = 5\n",
        "y = \"string\""
      ],
      "execution_count": null,
      "outputs": []
    },
    {
      "cell_type": "markdown",
      "metadata": {
        "id": "zkxIjMa2JRCm",
        "colab_type": "text"
      },
      "source": [
        "## 2. Types of numeric values\n",
        "\n",
        "There are 3 different types of numbers in Python\n",
        "Integers (int), Floats (float), and Complex numbers (complex)\n",
        "\n",
        "### Integers vs. Floats\n",
        "Integers are what we usually think of as integers. Floats are any number with a decimal point.\n",
        "\n",
        "You can check the type (actually, the class, but we'll get to that!) with the **type()** function"
      ]
    },
    {
      "cell_type": "code",
      "metadata": {
        "id": "irdLvxq7JRCn",
        "colab_type": "code",
        "colab": {
          "base_uri": "https://localhost:8080/",
          "height": 35
        },
        "outputId": "607f27b1-a30d-499d-fb2f-d6f79562e653"
      },
      "source": [
        "# Example of an integer\n",
        "type(5)"
      ],
      "execution_count": null,
      "outputs": [
        {
          "output_type": "execute_result",
          "data": {
            "text/plain": [
              "int"
            ]
          },
          "metadata": {
            "tags": []
          },
          "execution_count": 34
        }
      ]
    },
    {
      "cell_type": "code",
      "metadata": {
        "id": "IuiIo6DPJRCr",
        "colab_type": "code",
        "colab": {
          "base_uri": "https://localhost:8080/",
          "height": 35
        },
        "outputId": "4c119731-f854-40a2-ecb1-bd47b0b2378e"
      },
      "source": [
        "# Example of a float\n",
        "type(10.6)"
      ],
      "execution_count": null,
      "outputs": [
        {
          "output_type": "execute_result",
          "data": {
            "text/plain": [
              "float"
            ]
          },
          "metadata": {
            "tags": []
          },
          "execution_count": 35
        }
      ]
    },
    {
      "cell_type": "code",
      "metadata": {
        "id": "X1xzBU0CJRCu",
        "colab_type": "code",
        "colab": {
          "base_uri": "https://localhost:8080/",
          "height": 35
        },
        "outputId": "3734b78e-d032-4665-cf26-8cbc75a77e24"
      },
      "source": [
        "# Example of a complex number\n",
        "type(10 + 3j)"
      ],
      "execution_count": null,
      "outputs": [
        {
          "output_type": "execute_result",
          "data": {
            "text/plain": [
              "complex"
            ]
          },
          "metadata": {
            "tags": []
          },
          "execution_count": 36
        }
      ]
    },
    {
      "cell_type": "code",
      "metadata": {
        "id": "hRkin2tBJRCx",
        "colab_type": "code",
        "colab": {
          "base_uri": "https://localhost:8080/",
          "height": 35
        },
        "outputId": "0e4838f6-8c8c-4ca4-bd6b-0a4dd76dc117"
      },
      "source": [
        "# There isn't any \"long\" numeric type, integers can have any number of digits\n",
        "type(10000000000000)"
      ],
      "execution_count": null,
      "outputs": [
        {
          "output_type": "execute_result",
          "data": {
            "text/plain": [
              "int"
            ]
          },
          "metadata": {
            "tags": []
          },
          "execution_count": 37
        }
      ]
    },
    {
      "cell_type": "markdown",
      "metadata": {
        "id": "dr767pn4j73k",
        "colab_type": "text"
      },
      "source": [
        "## 3. Common Numerical Operators  \n",
        "\n",
        "| Expression Type | Operator | Example    | Value     |\n",
        "|-----------------|----------|------------|-----------|\n",
        "| Addition        | `+`      | `2 + 3`    | `5`       |\n",
        "| Subtraction     | `-`      | `2 - 3`    | `-1`      |\n",
        "| Multiplication  | `*`      | `2 * 3`    | `6`       |\n",
        "| True Division   | `/`      | `25 / 4`   | `6.25`    |\n",
        "| Floor Division  | `//`     | `25 // 4`  | `6`       |\n",
        "| Remainder       | `%`      | `25 % 4`   | `1`       |\n",
        "| Exponentiation  | `**`     | `2 ** 0.5` | `1.41421` |\n",
        "\n",
        "> For Example:"
      ]
    },
    {
      "cell_type": "code",
      "metadata": {
        "id": "YLhrKG6hj73l",
        "colab_type": "code",
        "colab": {
          "base_uri": "https://localhost:8080/",
          "height": 35
        },
        "outputId": "f18718bc-d986-4340-f5b0-2c8f7503b5ea"
      },
      "source": [
        "36 ** 0.5"
      ],
      "execution_count": null,
      "outputs": [
        {
          "output_type": "execute_result",
          "data": {
            "text/plain": [
              "6.0"
            ]
          },
          "metadata": {
            "tags": []
          },
          "execution_count": 38
        }
      ]
    },
    {
      "cell_type": "code",
      "metadata": {
        "id": "TO4p4lOUj73o",
        "colab_type": "code",
        "colab": {
          "base_uri": "https://localhost:8080/",
          "height": 35
        },
        "outputId": "e9f3f333-c04c-4c47-ea06-8097a45b9354"
      },
      "source": [
        "36 % 6"
      ],
      "execution_count": null,
      "outputs": [
        {
          "output_type": "execute_result",
          "data": {
            "text/plain": [
              "0"
            ]
          },
          "metadata": {
            "tags": []
          },
          "execution_count": 39
        }
      ]
    },
    {
      "cell_type": "code",
      "metadata": {
        "id": "OCIMHjiWj73q",
        "colab_type": "code",
        "colab": {
          "base_uri": "https://localhost:8080/",
          "height": 35
        },
        "outputId": "c033f5e6-f8d9-4ab4-dab7-a45cefbcf4f8"
      },
      "source": [
        "(((8 * 36) ** 5) + 234) - (3962711306764 / 2)"
      ],
      "execution_count": null,
      "outputs": [
        {
          "output_type": "execute_result",
          "data": {
            "text/plain": [
              "2020.0"
            ]
          },
          "metadata": {
            "tags": []
          },
          "execution_count": 40
        }
      ]
    },
    {
      "cell_type": "markdown",
      "metadata": {
        "id": "mmYwHQhCj73t",
        "colab_type": "text"
      },
      "source": [
        "## 4. Integers vs. Floats\n",
        "\n",
        "* **Integers** are called int values in the Python language. They can only represent whole numbers (negative, zero, or positive) that don't have a fractional component."
      ]
    },
    {
      "cell_type": "code",
      "metadata": {
        "id": "sFolQqeJj73u",
        "colab_type": "code",
        "colab": {
          "base_uri": "https://localhost:8080/",
          "height": 35
        },
        "outputId": "d32a3a2d-28af-45f3-ad4d-2e01bd8c8a35"
      },
      "source": [
        "23 // 4"
      ],
      "execution_count": null,
      "outputs": [
        {
          "output_type": "execute_result",
          "data": {
            "text/plain": [
              "5"
            ]
          },
          "metadata": {
            "tags": []
          },
          "execution_count": 41
        }
      ]
    },
    {
      "cell_type": "markdown",
      "metadata": {
        "id": "Mquh0tsxj73w",
        "colab_type": "text"
      },
      "source": [
        "* **Real numbers** are called float values (or floating point values) in the Python language. They can represent whole or fractional numbers but have some limitations."
      ]
    },
    {
      "cell_type": "code",
      "metadata": {
        "id": "SWUZJOVmj73x",
        "colab_type": "code",
        "colab": {
          "base_uri": "https://localhost:8080/",
          "height": 35
        },
        "outputId": "7e628146-0979-4d45-bfca-cd8cd7bce0aa"
      },
      "source": [
        "23 / 4"
      ],
      "execution_count": null,
      "outputs": [
        {
          "output_type": "execute_result",
          "data": {
            "text/plain": [
              "5.75"
            ]
          },
          "metadata": {
            "tags": []
          },
          "execution_count": 42
        }
      ]
    },
    {
      "cell_type": "markdown",
      "metadata": {
        "id": "0CigU63Xj73z",
        "colab_type": "text"
      },
      "source": [
        "## 5. Strings\n",
        "\n",
        "A **string** can represent a word, a sentence, numbers or even truth values.\n",
        "\n",
        "**Single quotes:** `'Hello, world!'`\n",
        "* **Warning:** Single quotes will not work if string includes apostrophes (e.g. 'It's great' will produce an error)\n",
        "\n",
        "**Double quotes:** `\"Hello, world\"`\n",
        "\n",
        "**Triple quotes:** `\"\"\"Can write long text on multiple lines.\n",
        "                Useful for writing documentation for functions.\"\"\"`\n",
        "\n",
        "#### **Operands used on strings:**"
      ]
    },
    {
      "cell_type": "code",
      "metadata": {
        "id": "23PqxtKjj730",
        "colab_type": "code",
        "colab": {
          "base_uri": "https://localhost:8080/",
          "height": 35
        },
        "outputId": "8f597af3-21a8-4db1-dd4e-65b801c7784f"
      },
      "source": [
        "\"Data\" + \"Analytics\" + \"Function\""
      ],
      "execution_count": null,
      "outputs": [
        {
          "output_type": "execute_result",
          "data": {
            "application/vnd.google.colaboratory.intrinsic": {
              "type": "string"
            },
            "text/plain": [
              "'DataAnalyticsFunction'"
            ]
          },
          "metadata": {
            "tags": []
          },
          "execution_count": 43
        }
      ]
    },
    {
      "cell_type": "code",
      "metadata": {
        "id": "bldKMwDFj732",
        "colab_type": "code",
        "colab": {
          "base_uri": "https://localhost:8080/",
          "height": 35
        },
        "outputId": "0c7c3d8f-b482-4a3d-868f-074d13bb3268"
      },
      "source": [
        "\"Data\" + \" \" + \"Analytics\" + \" \" + \"Function\""
      ],
      "execution_count": null,
      "outputs": [
        {
          "output_type": "execute_result",
          "data": {
            "application/vnd.google.colaboratory.intrinsic": {
              "type": "string"
            },
            "text/plain": [
              "'Data Analytics Function'"
            ]
          },
          "metadata": {
            "tags": []
          },
          "execution_count": 44
        }
      ]
    },
    {
      "cell_type": "code",
      "metadata": {
        "id": "eD8zmX2Rj734",
        "colab_type": "code",
        "colab": {
          "base_uri": "https://localhost:8080/",
          "height": 35
        },
        "outputId": "dc78c4e5-1126-46f8-e7b5-0051a40b7f51"
      },
      "source": [
        "\"5\" + \"4\""
      ],
      "execution_count": null,
      "outputs": [
        {
          "output_type": "execute_result",
          "data": {
            "application/vnd.google.colaboratory.intrinsic": {
              "type": "string"
            },
            "text/plain": [
              "'54'"
            ]
          },
          "metadata": {
            "tags": []
          },
          "execution_count": 45
        }
      ]
    },
    {
      "cell_type": "markdown",
      "metadata": {
        "id": "tKSAQ05Tj73-",
        "colab_type": "text"
      },
      "source": [
        "## 6. String Functions"
      ]
    },
    {
      "cell_type": "markdown",
      "metadata": {
        "id": "-KMwpLDFj73-",
        "colab_type": "text"
      },
      "source": [
        "### String Indexing"
      ]
    },
    {
      "cell_type": "code",
      "metadata": {
        "id": "HoRwf4Bpj73_",
        "colab_type": "code",
        "colab": {
          "base_uri": "https://localhost:8080/",
          "height": 35
        },
        "outputId": "d18e0294-bee1-414f-dfd8-8bd0d6a10aff"
      },
      "source": [
        "string_object = \"Hello Human Services Data Analytics Function!\"\n",
        "string_object"
      ],
      "execution_count": null,
      "outputs": [
        {
          "output_type": "execute_result",
          "data": {
            "application/vnd.google.colaboratory.intrinsic": {
              "type": "string"
            },
            "text/plain": [
              "'Hello Human Services Data Analytics Function!'"
            ]
          },
          "metadata": {
            "tags": []
          },
          "execution_count": 46
        }
      ]
    },
    {
      "cell_type": "markdown",
      "metadata": {
        "id": "3KX_5YyQj74A",
        "colab_type": "text"
      },
      "source": [
        "In Python, sequence slicing is expressed using square brackets `[ ]`."
      ]
    },
    {
      "cell_type": "code",
      "metadata": {
        "id": "UkLjxk-8j74B",
        "colab_type": "code",
        "colab": {
          "base_uri": "https://localhost:8080/",
          "height": 35
        },
        "outputId": "70d7e431-8f5f-454e-dd0a-84ce8e8f5a41"
      },
      "source": [
        "string_object[3] + string_object[4] + string_object[29]"
      ],
      "execution_count": null,
      "outputs": [
        {
          "output_type": "execute_result",
          "data": {
            "application/vnd.google.colaboratory.intrinsic": {
              "type": "string"
            },
            "text/plain": [
              "'lol'"
            ]
          },
          "metadata": {
            "tags": []
          },
          "execution_count": 47
        }
      ]
    },
    {
      "cell_type": "markdown",
      "metadata": {
        "id": "bDe4v8d5j74D",
        "colab_type": "text"
      },
      "source": [
        "When indexing, the first integer indicates the starting index of the slice and the second indicates one beyond the ending index. A colon separates the starting and ending indices. Any bound that is omitted is assumed to be an extreme value: 0 for the starting index, and the length of the sequence for the ending index. \n",
        "> E.g. [Starting Index : Ending Index + 1]"
      ]
    },
    {
      "cell_type": "code",
      "metadata": {
        "id": "oDJuMjAuj74D",
        "colab_type": "code",
        "colab": {
          "base_uri": "https://localhost:8080/",
          "height": 35
        },
        "outputId": "ae4fee7e-9df9-4d43-995f-6bcafcddd391"
      },
      "source": [
        "string_object[0:5]"
      ],
      "execution_count": null,
      "outputs": [
        {
          "output_type": "execute_result",
          "data": {
            "application/vnd.google.colaboratory.intrinsic": {
              "type": "string"
            },
            "text/plain": [
              "'Hello'"
            ]
          },
          "metadata": {
            "tags": []
          },
          "execution_count": 48
        }
      ]
    },
    {
      "cell_type": "code",
      "metadata": {
        "id": "K0ObWaYlj74F",
        "colab_type": "code",
        "colab": {
          "base_uri": "https://localhost:8080/",
          "height": 35
        },
        "outputId": "5c391280-c480-43d5-a007-4ee56f65b497"
      },
      "source": [
        "string_object[0:5:1]"
      ],
      "execution_count": null,
      "outputs": [
        {
          "output_type": "execute_result",
          "data": {
            "application/vnd.google.colaboratory.intrinsic": {
              "type": "string"
            },
            "text/plain": [
              "'Hello'"
            ]
          },
          "metadata": {
            "tags": []
          },
          "execution_count": 49
        }
      ]
    },
    {
      "cell_type": "code",
      "metadata": {
        "id": "UEyBTZzOj74H",
        "colab_type": "code",
        "colab": {}
      },
      "source": [
        "def print_date(day): \n",
        "  \"\"\"\n",
        "  Returns string including the day of the week.\n",
        "  \"\"\"\n",
        "  print(\"Today is {}\".format(day))"
      ],
      "execution_count": null,
      "outputs": []
    },
    {
      "cell_type": "code",
      "metadata": {
        "id": "yhewo6aEk1JF",
        "colab_type": "code",
        "colab": {
          "base_uri": "https://localhost:8080/",
          "height": 35
        },
        "outputId": "e31f17ce-e1e0-4ac1-b4c9-1b1c37f8e091"
      },
      "source": [
        "print_date(\"Tuesday\")"
      ],
      "execution_count": null,
      "outputs": [
        {
          "output_type": "stream",
          "text": [
            "Today is Tuesday\n"
          ],
          "name": "stdout"
        }
      ]
    },
    {
      "cell_type": "code",
      "metadata": {
        "id": "XWC7Yq9Jj74J",
        "colab_type": "code",
        "colab": {
          "base_uri": "https://localhost:8080/",
          "height": 104
        },
        "outputId": "c581ae6e-f11e-4590-af95-032a3d00d591"
      },
      "source": [
        "for i in range(5): \n",
        "    print(i)"
      ],
      "execution_count": null,
      "outputs": [
        {
          "output_type": "stream",
          "text": [
            "0\n",
            "1\n",
            "2\n",
            "3\n",
            "4\n"
          ],
          "name": "stdout"
        }
      ]
    },
    {
      "cell_type": "markdown",
      "metadata": {
        "id": "3Fri8vlGJRC0",
        "colab_type": "text"
      },
      "source": [
        "## 7. Lists\n",
        "The list class: an ordered collection of values.\n",
        "> Can be any type of value!"
      ]
    },
    {
      "cell_type": "code",
      "metadata": {
        "id": "1pV7zjwUJRC1",
        "colab_type": "code",
        "colab": {
          "base_uri": "https://localhost:8080/",
          "height": 35
        },
        "outputId": "27f91e9f-6dd6-4fdd-e278-333afa28be3c"
      },
      "source": [
        "# E.g. integer values\n",
        "type([0,1,2,3])"
      ],
      "execution_count": null,
      "outputs": [
        {
          "output_type": "execute_result",
          "data": {
            "text/plain": [
              "list"
            ]
          },
          "metadata": {
            "tags": []
          },
          "execution_count": 53
        }
      ]
    },
    {
      "cell_type": "code",
      "metadata": {
        "id": "rnwMj4OqJRC4",
        "colab_type": "code",
        "colab": {
          "base_uri": "https://localhost:8080/",
          "height": 35
        },
        "outputId": "bb2992cf-88fb-4d7c-9d3c-728e465cfe65"
      },
      "source": [
        "# Strings\n",
        "type([\"a\",\"b\",\"c\",\"d\"])"
      ],
      "execution_count": null,
      "outputs": [
        {
          "output_type": "execute_result",
          "data": {
            "text/plain": [
              "list"
            ]
          },
          "metadata": {
            "tags": []
          },
          "execution_count": 54
        }
      ]
    },
    {
      "cell_type": "code",
      "metadata": {
        "id": "wz3DsX8_JRC7",
        "colab_type": "code",
        "colab": {}
      },
      "source": [
        "# You can extract a value stored in a list by indexing\n",
        "l = [0,1,2,3,4]"
      ],
      "execution_count": null,
      "outputs": []
    },
    {
      "cell_type": "markdown",
      "metadata": {
        "id": "Ynl3ddCHKVIO",
        "colab_type": "text"
      },
      "source": [
        "Note: everything in python starts at 0 (not 1, like in R)"
      ]
    },
    {
      "cell_type": "code",
      "metadata": {
        "id": "1UQiuZ-aKViK",
        "colab_type": "code",
        "colab": {
          "base_uri": "https://localhost:8080/",
          "height": 52
        },
        "outputId": "bc1aab48-9f50-4ed5-a938-76dd1d7bdbda"
      },
      "source": [
        "print(l[0])\n",
        "print(l[3])"
      ],
      "execution_count": null,
      "outputs": [
        {
          "output_type": "stream",
          "text": [
            "0\n",
            "3\n"
          ],
          "name": "stdout"
        }
      ]
    },
    {
      "cell_type": "code",
      "metadata": {
        "id": "od9REeP2JRC_",
        "colab_type": "code",
        "colab": {
          "base_uri": "https://localhost:8080/",
          "height": 52
        },
        "outputId": "1b843f2f-6ce2-482c-c596-664b3e65d932"
      },
      "source": [
        "# If you want multiple values stored in a list you can extract them individually\n",
        "print(l[0])\n",
        "print(l[3])"
      ],
      "execution_count": null,
      "outputs": [
        {
          "output_type": "stream",
          "text": [
            "0\n",
            "3\n"
          ],
          "name": "stdout"
        }
      ]
    },
    {
      "cell_type": "markdown",
      "metadata": {
        "id": "W2vvKF0EKcOS",
        "colab_type": "text"
      },
      "source": [
        "Or you can slice the list by specifying multiple index positions\n",
        "\n",
        "A list will be returned"
      ]
    },
    {
      "cell_type": "code",
      "metadata": {
        "id": "txBHPBNdKciA",
        "colab_type": "code",
        "colab": {
          "base_uri": "https://localhost:8080/",
          "height": 35
        },
        "outputId": "c33f6821-8394-48ed-f0e4-e80b2249c849"
      },
      "source": [
        "print(l[0:3])"
      ],
      "execution_count": null,
      "outputs": [
        {
          "output_type": "stream",
          "text": [
            "[0, 1, 2]\n"
          ],
          "name": "stdout"
        }
      ]
    },
    {
      "cell_type": "markdown",
      "metadata": {
        "id": "MleW9koFKjmN",
        "colab_type": "text"
      },
      "source": [
        "We get the same result, if we also write it this way:\n",
        "Note that the last value in the range of values specified is not returned"
      ]
    },
    {
      "cell_type": "code",
      "metadata": {
        "id": "-5EQGu9RKj8R",
        "colab_type": "code",
        "colab": {
          "base_uri": "https://localhost:8080/",
          "height": 35
        },
        "outputId": "aef34b72-4f64-43dc-ffdd-6d22ddea2394"
      },
      "source": [
        "print(l[:3])"
      ],
      "execution_count": null,
      "outputs": [
        {
          "output_type": "stream",
          "text": [
            "[0, 1, 2]\n"
          ],
          "name": "stdout"
        }
      ]
    },
    {
      "cell_type": "markdown",
      "metadata": {
        "id": "Dd9ruK1GKqOe",
        "colab_type": "text"
      },
      "source": [
        "Lists are changeable"
      ]
    },
    {
      "cell_type": "code",
      "metadata": {
        "id": "6LWJCsfOJRDB",
        "colab_type": "code",
        "colab": {
          "base_uri": "https://localhost:8080/",
          "height": 52
        },
        "outputId": "99d08009-3395-4d40-bf79-59aac630466e"
      },
      "source": [
        "l = [0,1,2,3,4]\n",
        "\n",
        "print(l)\n",
        "\n",
        "l[3] = 6\n",
        "print(l)"
      ],
      "execution_count": null,
      "outputs": [
        {
          "output_type": "stream",
          "text": [
            "[0, 1, 2, 3, 4]\n",
            "[0, 1, 2, 6, 4]\n"
          ],
          "name": "stdout"
        }
      ]
    },
    {
      "cell_type": "markdown",
      "metadata": {
        "id": "DlVla2ibKu2J",
        "colab_type": "text"
      },
      "source": [
        "## You can stores lists in lists\n",
        "Since there are no matrices in Python, this is one way of creating a matrix.\n",
        "It can also be useful for nested for loops\n",
        "\n",
        "> For example:"
      ]
    },
    {
      "cell_type": "code",
      "metadata": {
        "id": "pxrG_j1gJRDH",
        "colab_type": "code",
        "colab": {}
      },
      "source": [
        "l = [[0,1,2,3],[4,5,6,7],[8,9,10,11]]"
      ],
      "execution_count": null,
      "outputs": []
    },
    {
      "cell_type": "markdown",
      "metadata": {
        "id": "yFznjWdBK02U",
        "colab_type": "text"
      },
      "source": [
        "If we want the first list stored in the list:\n",
        "\n",
        "> Note that a list object is returned."
      ]
    },
    {
      "cell_type": "code",
      "metadata": {
        "id": "JTlCsNQ3K1Jc",
        "colab_type": "code",
        "colab": {
          "base_uri": "https://localhost:8080/"
        },
        "outputId": "283c8f60-131b-4f0a-c9b4-b141c60ec811"
      },
      "source": [
        "l[0]"
      ],
      "execution_count": null,
      "outputs": [
        {
          "output_type": "execute_result",
          "data": {
            "text/plain": [
              "[0, 1, 2, 3]"
            ]
          },
          "metadata": {
            "tags": []
          },
          "execution_count": 62
        }
      ]
    },
    {
      "cell_type": "markdown",
      "metadata": {
        "id": "KyQ8rNAeK41e",
        "colab_type": "text"
      },
      "source": [
        "If we want the first and second list\n",
        "> Note that we still get a list of lists"
      ]
    },
    {
      "cell_type": "code",
      "metadata": {
        "id": "USnyd8C0JRDN",
        "colab_type": "code",
        "colab": {
          "base_uri": "https://localhost:8080/"
        },
        "outputId": "f294a60a-c055-4e7e-e054-04518f8d17db"
      },
      "source": [
        "l[:2]"
      ],
      "execution_count": null,
      "outputs": [
        {
          "output_type": "execute_result",
          "data": {
            "text/plain": [
              "[[0, 1, 2, 3], [4, 5, 6, 7]]"
            ]
          },
          "metadata": {
            "tags": []
          },
          "execution_count": 63
        }
      ]
    },
    {
      "cell_type": "markdown",
      "metadata": {
        "id": "XN8wW9sJLBqX",
        "colab_type": "text"
      },
      "source": [
        "If we want the first value in the first list\n",
        "> Note this is similar to matrix notation, where i denotes the row and j denotes the column, except we are starting at 0"
      ]
    },
    {
      "cell_type": "code",
      "metadata": {
        "id": "KSyqYBrqJRDQ",
        "colab_type": "code",
        "colab": {
          "base_uri": "https://localhost:8080/"
        },
        "outputId": "7f4e3a92-3dd8-44da-87e6-9b8d86245888"
      },
      "source": [
        "l[0][0]"
      ],
      "execution_count": null,
      "outputs": [
        {
          "output_type": "execute_result",
          "data": {
            "text/plain": [
              "0"
            ]
          },
          "metadata": {
            "tags": []
          },
          "execution_count": 64
        }
      ]
    },
    {
      "cell_type": "markdown",
      "metadata": {
        "id": "5LwNSKlSLG4O",
        "colab_type": "text"
      },
      "source": [
        "If we only want a few values in the first list"
      ]
    },
    {
      "cell_type": "code",
      "metadata": {
        "id": "iOiC_DocJRDT",
        "colab_type": "code",
        "colab": {
          "base_uri": "https://localhost:8080/"
        },
        "outputId": "b2ccf3ff-6edb-40e7-91b9-006c9097c368"
      },
      "source": [
        "l[0][:3]"
      ],
      "execution_count": null,
      "outputs": [
        {
          "output_type": "execute_result",
          "data": {
            "text/plain": [
              "[0, 1, 2]"
            ]
          },
          "metadata": {
            "tags": []
          },
          "execution_count": 65
        }
      ]
    },
    {
      "cell_type": "markdown",
      "metadata": {
        "id": "dlezLAbbLL2V",
        "colab_type": "text"
      },
      "source": [
        "Using in to check if a values is stored in a list\n",
        "\n",
        "> For example, check if the number 8 is stored in the list l"
      ]
    },
    {
      "cell_type": "code",
      "metadata": {
        "id": "0ABdJgsPJRDW",
        "colab_type": "code",
        "colab": {
          "base_uri": "https://localhost:8080/"
        },
        "outputId": "a2252042-dd18-4d5d-f9b3-6bcda971eb52"
      },
      "source": [
        "print(8 in l)\n",
        "print(8 in l[2])\n",
        "# Why are these different?"
      ],
      "execution_count": null,
      "outputs": [
        {
          "output_type": "stream",
          "text": [
            "False\n",
            "True\n"
          ],
          "name": "stdout"
        }
      ]
    },
    {
      "cell_type": "markdown",
      "metadata": {
        "id": "vKawlu5_LR_U",
        "colab_type": "text"
      },
      "source": [
        "Add two lists together\n",
        "> Why doesn't this do what we expect?"
      ]
    },
    {
      "cell_type": "code",
      "metadata": {
        "id": "FyXHG14-JRDZ",
        "colab_type": "code",
        "colab": {
          "base_uri": "https://localhost:8080/"
        },
        "outputId": "2b3b3676-9cd1-4980-8290-6cc9b250b9bd"
      },
      "source": [
        "l + [10,11,12,13]"
      ],
      "execution_count": null,
      "outputs": [
        {
          "output_type": "execute_result",
          "data": {
            "text/plain": [
              "[[0, 1, 2, 3], [4, 5, 6, 7], [8, 9, 10, 11], 10, 11, 12, 13]"
            ]
          },
          "metadata": {
            "tags": []
          },
          "execution_count": 67
        }
      ]
    },
    {
      "cell_type": "markdown",
      "metadata": {
        "id": "m0cNHdi_LXhb",
        "colab_type": "text"
      },
      "source": [
        "Does this do what we expect?\n",
        "> Note that a list of lists is still maintained"
      ]
    },
    {
      "cell_type": "code",
      "metadata": {
        "id": "6t1stbHiJRDb",
        "colab_type": "code",
        "colab": {
          "base_uri": "https://localhost:8080/"
        },
        "outputId": "ec81b97d-0fd6-43ed-ffcf-92120edf0642"
      },
      "source": [
        "l+[[10,11,12,13]]"
      ],
      "execution_count": null,
      "outputs": [
        {
          "output_type": "execute_result",
          "data": {
            "text/plain": [
              "[[0, 1, 2, 3], [4, 5, 6, 7], [8, 9, 10, 11], [10, 11, 12, 13]]"
            ]
          },
          "metadata": {
            "tags": []
          },
          "execution_count": 68
        }
      ]
    },
    {
      "cell_type": "markdown",
      "metadata": {
        "id": "0nOTZAh7LkHM",
        "colab_type": "text"
      },
      "source": [
        "### Other methods that can be used on lists:\n",
        "- append\n",
        "- insert\n",
        "- remove\n",
        "- del\n",
        "- copy (IMPT for mutability)\n",
        "  \n",
        "### Difference between copy() and redefining a variable\n",
        "- A copy will make a **new** list.\n",
        "- Just using a new variable name will only duplicate the reference, and any changes made will affect the original list."
      ]
    },
    {
      "cell_type": "markdown",
      "metadata": {
        "id": "pSiQWoopR3W-",
        "colab_type": "text"
      },
      "source": [
        "## 8. Dictionaries\n",
        "Dictionaries are an unordered collection of indexed values. They're useful when the position of a value doesn't matter (e.g. whether it's first or last), but there is a substantive way to group or identify values.\n",
        "\n",
        "> For example, the dictionary below allows you to index apple, carrot, and rice, by the type of food group."
      ]
    },
    {
      "cell_type": "code",
      "metadata": {
        "id": "Fth7UlX_JRDh",
        "colab_type": "code",
        "colab": {}
      },
      "source": [
        "dict = {\"fruit\": \"apple\", \"vegetable\": \"carrot\",\"grain\":\"rice\"}"
      ],
      "execution_count": null,
      "outputs": []
    },
    {
      "cell_type": "code",
      "metadata": {
        "id": "xTez_5K5SuoB",
        "colab_type": "code",
        "colab": {
          "base_uri": "https://localhost:8080/"
        },
        "outputId": "16016c1e-0910-4e47-ad67-5cc0a063cd0e"
      },
      "source": [
        "dict[\"fruit\"]"
      ],
      "execution_count": null,
      "outputs": [
        {
          "output_type": "execute_result",
          "data": {
            "application/vnd.google.colaboratory.intrinsic": {
              "type": "string"
            },
            "text/plain": [
              "'apple'"
            ]
          },
          "metadata": {
            "tags": []
          },
          "execution_count": 70
        }
      ]
    },
    {
      "cell_type": "code",
      "metadata": {
        "id": "GyF9QoCzS5Mg",
        "colab_type": "code",
        "colab": {
          "base_uri": "https://localhost:8080/"
        },
        "outputId": "98a35263-a1af-4d31-c881-d154421af624"
      },
      "source": [
        "dict[\"vegetable\"]\n",
        "# This is kind of similar to a named list in R?"
      ],
      "execution_count": null,
      "outputs": [
        {
          "output_type": "execute_result",
          "data": {
            "application/vnd.google.colaboratory.intrinsic": {
              "type": "string"
            },
            "text/plain": [
              "'carrot'"
            ]
          },
          "metadata": {
            "tags": []
          },
          "execution_count": 71
        }
      ]
    },
    {
      "cell_type": "markdown",
      "metadata": {
        "id": "I-y46ABUTANS",
        "colab_type": "text"
      },
      "source": [
        "Dictionaries are made up of key value pairs. In the above example, the keys are: fruit, vegetable, and grain. The values are: apple, carrot, and rice."
      ]
    },
    {
      "cell_type": "code",
      "metadata": {
        "id": "-Rs8RYFfS6ye",
        "colab_type": "code",
        "colab": {
          "base_uri": "https://localhost:8080/"
        },
        "outputId": "baf80180-00c4-41e7-936b-4ccfec6109db"
      },
      "source": [
        "dict.keys()"
      ],
      "execution_count": null,
      "outputs": [
        {
          "output_type": "execute_result",
          "data": {
            "text/plain": [
              "dict_keys(['fruit', 'vegetable', 'grain'])"
            ]
          },
          "metadata": {
            "tags": []
          },
          "execution_count": 72
        }
      ]
    },
    {
      "cell_type": "code",
      "metadata": {
        "id": "n6TS8bDgTMMw",
        "colab_type": "code",
        "colab": {
          "base_uri": "https://localhost:8080/"
        },
        "outputId": "aa1eb82e-ee73-4814-c01d-a317a0723d03"
      },
      "source": [
        "dict.values()"
      ],
      "execution_count": null,
      "outputs": [
        {
          "output_type": "execute_result",
          "data": {
            "text/plain": [
              "dict_values(['apple', 'carrot', 'rice'])"
            ]
          },
          "metadata": {
            "tags": []
          },
          "execution_count": 73
        }
      ]
    },
    {
      "cell_type": "markdown",
      "metadata": {
        "id": "1EbkohL6T3P3",
        "colab_type": "text"
      },
      "source": [
        "- What type of object is returned above?\n",
        "- How might you turn it into a list?"
      ]
    },
    {
      "cell_type": "markdown",
      "metadata": {
        "id": "joYzchN7Td37",
        "colab_type": "text"
      },
      "source": [
        "You can attribute multiple values to a single key, by using lists."
      ]
    },
    {
      "cell_type": "code",
      "metadata": {
        "id": "w7ojCmYmTc4Q",
        "colab_type": "code",
        "colab": {}
      },
      "source": [
        "dict = {\"fruit\":[\"apple\",\"strawberry\",\"banana\"], \"vegetable\" : [\"carrot\",\"spinach\",\"broccoli\"], \"grain\": [\"rice\",\"bread\",\"wheat\"]}"
      ],
      "execution_count": null,
      "outputs": []
    },
    {
      "cell_type": "code",
      "metadata": {
        "id": "cWtdTTBLTO66",
        "colab_type": "code",
        "colab": {
          "base_uri": "https://localhost:8080/"
        },
        "outputId": "b70b1c65-abdc-4fa7-d9d7-d95b083e0c96"
      },
      "source": [
        "dict.keys()"
      ],
      "execution_count": null,
      "outputs": [
        {
          "output_type": "execute_result",
          "data": {
            "text/plain": [
              "dict_keys(['fruit', 'vegetable', 'grain'])"
            ]
          },
          "metadata": {
            "tags": []
          },
          "execution_count": 75
        }
      ]
    },
    {
      "cell_type": "code",
      "metadata": {
        "id": "FFPPfxcRTxhb",
        "colab_type": "code",
        "colab": {
          "base_uri": "https://localhost:8080/"
        },
        "outputId": "d8e4093f-afdb-4369-95cd-1d878b9dfc67"
      },
      "source": [
        "dict.values()"
      ],
      "execution_count": null,
      "outputs": [
        {
          "output_type": "execute_result",
          "data": {
            "text/plain": [
              "dict_values([['apple', 'strawberry', 'banana'], ['carrot', 'spinach', 'broccoli'], ['rice', 'bread', 'wheat']])"
            ]
          },
          "metadata": {
            "tags": []
          },
          "execution_count": 76
        }
      ]
    },
    {
      "cell_type": "code",
      "metadata": {
        "id": "VmBkL___VMV7",
        "colab_type": "code",
        "colab": {
          "base_uri": "https://localhost:8080/"
        },
        "outputId": "d770cb2a-17d7-4e04-85d3-4c20102af203"
      },
      "source": [
        "dict.items()"
      ],
      "execution_count": null,
      "outputs": [
        {
          "output_type": "execute_result",
          "data": {
            "text/plain": [
              "dict_items([('fruit', ['apple', 'strawberry', 'banana']), ('vegetable', ['carrot', 'spinach', 'broccoli']), ('grain', ['rice', 'bread', 'wheat'])])"
            ]
          },
          "metadata": {
            "tags": []
          },
          "execution_count": 77
        }
      ]
    },
    {
      "cell_type": "markdown",
      "metadata": {
        "id": "iOQlwahZUBJJ",
        "colab_type": "text"
      },
      "source": [
        "- Can you create a dictionary of dictionaries?"
      ]
    },
    {
      "cell_type": "markdown",
      "metadata": {
        "id": "D_u_hJ_nUMrR",
        "colab_type": "text"
      },
      "source": [
        "## 9. Iteration\n",
        "\n",
        "Lists and dictionaries both iterators, meaning they can be iterated upon.\n",
        "\n",
        "Like in R and in Stata, you can iterate over a list or a dictionary in either a for loop or a while loop.\n",
        "\n",
        "- For example, a for loop:"
      ]
    },
    {
      "cell_type": "code",
      "metadata": {
        "id": "Y8Jh38EbUR6j",
        "colab_type": "code",
        "colab": {
          "base_uri": "https://localhost:8080/",
          "height": 104
        },
        "outputId": "1789656b-5037-4263-c735-5bd36008fa2e"
      },
      "source": [
        "for i in [0, 1, 2, 3, 4]:\n",
        "  print(i)"
      ],
      "execution_count": null,
      "outputs": [
        {
          "output_type": "stream",
          "text": [
            "0\n",
            "1\n",
            "2\n",
            "3\n",
            "4\n"
          ],
          "name": "stdout"
        }
      ]
    },
    {
      "cell_type": "markdown",
      "metadata": {
        "id": "VyfbB118VbBt",
        "colab_type": "text"
      },
      "source": [
        "- A nested for loop"
      ]
    },
    {
      "cell_type": "code",
      "metadata": {
        "id": "Sq1Lauo4VZxf",
        "colab_type": "code",
        "colab": {
          "base_uri": "https://localhost:8080/",
          "height": 295
        },
        "outputId": "2e92e045-e326-4aba-93b9-8c4a9b9be40d"
      },
      "source": [
        "l = [list(range(5)),list(range(5,10)),list(range(10,15))]\n",
        "print(l)\n",
        "\n",
        "for i in range(3):\n",
        "  for j in range(5):\n",
        "    print(l[i][j])"
      ],
      "execution_count": null,
      "outputs": [
        {
          "output_type": "stream",
          "text": [
            "[[0, 1, 2, 3, 4], [5, 6, 7, 8, 9], [10, 11, 12, 13, 14]]\n",
            "0\n",
            "1\n",
            "2\n",
            "3\n",
            "4\n",
            "5\n",
            "6\n",
            "7\n",
            "8\n",
            "9\n",
            "10\n",
            "11\n",
            "12\n",
            "13\n",
            "14\n"
          ],
          "name": "stdout"
        }
      ]
    },
    {
      "cell_type": "code",
      "metadata": {
        "id": "g_JRQ6cdUoKb",
        "colab_type": "code",
        "colab": {
          "base_uri": "https://localhost:8080/",
          "height": 69
        },
        "outputId": "67c6595f-e6c4-4447-c651-0a560a387d10"
      },
      "source": [
        "for i in dict:\n",
        "  print(dict[i])"
      ],
      "execution_count": null,
      "outputs": [
        {
          "output_type": "stream",
          "text": [
            "['apple', 'strawberry', 'banana']\n",
            "['carrot', 'spinach', 'broccoli']\n",
            "['rice', 'bread', 'wheat']\n"
          ],
          "name": "stdout"
        }
      ]
    },
    {
      "cell_type": "markdown",
      "metadata": {
        "id": "t3ASGPN9U_A7",
        "colab_type": "text"
      },
      "source": [
        "> Note: Python can tell that we want to iterate over the keys."
      ]
    },
    {
      "cell_type": "code",
      "metadata": {
        "id": "pNzmJymOU7WO",
        "colab_type": "code",
        "colab": {
          "base_uri": "https://localhost:8080/",
          "height": 121
        },
        "outputId": "a4ac0078-f3e4-40e0-801c-04ce04bc116a"
      },
      "source": [
        "for i,j in dict.items():\n",
        "  print(i)\n",
        "  print(j)"
      ],
      "execution_count": null,
      "outputs": [
        {
          "output_type": "stream",
          "text": [
            "fruit\n",
            "['apple', 'strawberry', 'banana']\n",
            "vegetable\n",
            "['carrot', 'spinach', 'broccoli']\n",
            "grain\n",
            "['rice', 'bread', 'wheat']\n"
          ],
          "name": "stdout"
        }
      ]
    }
  ]
}