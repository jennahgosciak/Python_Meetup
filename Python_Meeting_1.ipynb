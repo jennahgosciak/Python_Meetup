{
  "nbformat": 4,
  "nbformat_minor": 0,
  "metadata": {
    "kernelspec": {
      "display_name": "Python 3",
      "language": "python",
      "name": "python3"
    },
    "language_info": {
      "codemirror_mode": {
        "name": "ipython",
        "version": 3
      },
      "file_extension": ".py",
      "mimetype": "text/x-python",
      "name": "python",
      "nbconvert_exporter": "python",
      "pygments_lexer": "ipython3",
      "version": "3.7.5"
    },
    "colab": {
      "name": "Python Meeting 1.ipynb",
      "provenance": [],
      "toc_visible": true,
      "include_colab_link": true
    }
  },
  "cells": [
    {
      "cell_type": "markdown",
      "metadata": {
        "id": "view-in-github",
        "colab_type": "text"
      },
      "source": [
        "<a href=\"https://colab.research.google.com/github/jennahgosciak/Python_Meetup/blob/jgosciak/Python_Meeting_1.ipynb\" target=\"_parent\"><img src=\"https://colab.research.google.com/assets/colab-badge.svg\" alt=\"Open In Colab\"/></a>"
      ]
    },
    {
      "cell_type": "markdown",
      "metadata": {
        "id": "1xcXOJCHJRCh"
      },
      "source": [
        "# Python Meetup - Meeting 1\n",
        "## 1. Literal Constants\n",
        "Literal constants cannot be changed. They can be:\n",
        "\n",
        "- a number\n",
        "\n"
      ]
    },
    {
      "cell_type": "code",
      "metadata": {
        "id": "vmZtQUhyJRCi",
        "outputId": "f1a9a781-819f-441a-b372-5f963749bb45",
        "colab": {
          "base_uri": "https://localhost:8080/",
          "height": 35
        }
      },
      "source": [
        "# E.g.\n",
        "5"
      ],
      "execution_count": null,
      "outputs": [
        {
          "output_type": "execute_result",
          "data": {
            "text/plain": [
              "5"
            ]
          },
          "metadata": {
            "tags": []
          },
          "execution_count": 31
        }
      ]
    },
    {
      "cell_type": "markdown",
      "metadata": {
        "id": "ml0GMbBsJrLn"
      },
      "source": [
        "- a string"
      ]
    },
    {
      "cell_type": "code",
      "metadata": {
        "id": "bgfGOqiHJqdj",
        "outputId": "43d23176-5a29-4f83-a563-e0a188b7347f",
        "colab": {
          "base_uri": "https://localhost:8080/",
          "height": 35
        }
      },
      "source": [
        "\"string\""
      ],
      "execution_count": null,
      "outputs": [
        {
          "output_type": "execute_result",
          "data": {
            "application/vnd.google.colaboratory.intrinsic": {
              "type": "string"
            },
            "text/plain": [
              "'string'"
            ]
          },
          "metadata": {
            "tags": []
          },
          "execution_count": 32
        }
      ]
    },
    {
      "cell_type": "markdown",
      "metadata": {
        "id": "nRZiU6HqJzR7"
      },
      "source": [
        "- They can be assigned to a variable, but the idea is that they don't change."
      ]
    },
    {
      "cell_type": "code",
      "metadata": {
        "id": "WIByLk7sJx5d"
      },
      "source": [
        "x = 5\n",
        "y = \"string\""
      ],
      "execution_count": null,
      "outputs": []
    },
    {
      "cell_type": "markdown",
      "metadata": {
        "id": "zkxIjMa2JRCm"
      },
      "source": [
        "## 2. Types of numeric values\n",
        "\n",
        "There are 3 different types of numbers in Python\n",
        "Integers (int), Floats (float), and Complex numbers (complex)\n",
        "\n",
        "### Integers vs. Floats\n",
        "Integers are what we usually think of as integers. Floats are any number with a decimal point.\n",
        "\n",
        "You can check the type (actually, the class, but we'll get to that!) with the **type()** function"
      ]
    },
    {
      "cell_type": "code",
      "metadata": {
        "id": "irdLvxq7JRCn",
        "outputId": "607f27b1-a30d-499d-fb2f-d6f79562e653",
        "colab": {
          "base_uri": "https://localhost:8080/",
          "height": 35
        }
      },
      "source": [
        "# Example of an integer\n",
        "type(5)"
      ],
      "execution_count": null,
      "outputs": [
        {
          "output_type": "execute_result",
          "data": {
            "text/plain": [
              "int"
            ]
          },
          "metadata": {
            "tags": []
          },
          "execution_count": 34
        }
      ]
    },
    {
      "cell_type": "code",
      "metadata": {
        "id": "IuiIo6DPJRCr",
        "outputId": "4c119731-f854-40a2-ecb1-bd47b0b2378e",
        "colab": {
          "base_uri": "https://localhost:8080/",
          "height": 35
        }
      },
      "source": [
        "# Example of a float\n",
        "type(10.6)"
      ],
      "execution_count": null,
      "outputs": [
        {
          "output_type": "execute_result",
          "data": {
            "text/plain": [
              "float"
            ]
          },
          "metadata": {
            "tags": []
          },
          "execution_count": 35
        }
      ]
    },
    {
      "cell_type": "code",
      "metadata": {
        "id": "X1xzBU0CJRCu",
        "outputId": "3734b78e-d032-4665-cf26-8cbc75a77e24",
        "colab": {
          "base_uri": "https://localhost:8080/",
          "height": 35
        }
      },
      "source": [
        "# Example of a complex number\n",
        "type(10 + 3j)"
      ],
      "execution_count": null,
      "outputs": [
        {
          "output_type": "execute_result",
          "data": {
            "text/plain": [
              "complex"
            ]
          },
          "metadata": {
            "tags": []
          },
          "execution_count": 36
        }
      ]
    },
    {
      "cell_type": "code",
      "metadata": {
        "id": "hRkin2tBJRCx",
        "outputId": "0e4838f6-8c8c-4ca4-bd6b-0a4dd76dc117",
        "colab": {
          "base_uri": "https://localhost:8080/",
          "height": 35
        }
      },
      "source": [
        "# There isn't any \"long\" numeric type, integers can have any number of digits\n",
        "type(10000000000000)"
      ],
      "execution_count": null,
      "outputs": [
        {
          "output_type": "execute_result",
          "data": {
            "text/plain": [
              "int"
            ]
          },
          "metadata": {
            "tags": []
          },
          "execution_count": 37
        }
      ]
    },
    {
      "cell_type": "markdown",
      "metadata": {
        "id": "dr767pn4j73k"
      },
      "source": [
        "## 3. Common Numerical Operators  \n",
        "\n",
        "| Expression Type | Operator | Example    | Value     |\n",
        "|-----------------|----------|------------|-----------|\n",
        "| Addition        | `+`      | `2 + 3`    | `5`       |\n",
        "| Subtraction     | `-`      | `2 - 3`    | `-1`      |\n",
        "| Multiplication  | `*`      | `2 * 3`    | `6`       |\n",
        "| True Division   | `/`      | `25 / 4`   | `6.25`    |\n",
        "| Floor Division  | `//`     | `25 // 4`  | `6`       |\n",
        "| Remainder       | `%`      | `25 % 4`   | `1`       |\n",
        "| Exponentiation  | `**`     | `2 ** 0.5` | `1.41421` |\n",
        "\n",
        "> For Example:"
      ]
    },
    {
      "cell_type": "code",
      "metadata": {
        "id": "YLhrKG6hj73l",
        "outputId": "f18718bc-d986-4340-f5b0-2c8f7503b5ea",
        "colab": {
          "base_uri": "https://localhost:8080/",
          "height": 35
        }
      },
      "source": [
        "36 ** 0.5"
      ],
      "execution_count": null,
      "outputs": [
        {
          "output_type": "execute_result",
          "data": {
            "text/plain": [
              "6.0"
            ]
          },
          "metadata": {
            "tags": []
          },
          "execution_count": 38
        }
      ]
    },
    {
      "cell_type": "code",
      "metadata": {
        "id": "TO4p4lOUj73o",
        "outputId": "e9f3f333-c04c-4c47-ea06-8097a45b9354",
        "colab": {
          "base_uri": "https://localhost:8080/",
          "height": 35
        }
      },
      "source": [
        "36 % 6"
      ],
      "execution_count": null,
      "outputs": [
        {
          "output_type": "execute_result",
          "data": {
            "text/plain": [
              "0"
            ]
          },
          "metadata": {
            "tags": []
          },
          "execution_count": 39
        }
      ]
    },
    {
      "cell_type": "code",
      "metadata": {
        "id": "OCIMHjiWj73q",
        "outputId": "c033f5e6-f8d9-4ab4-dab7-a45cefbcf4f8",
        "colab": {
          "base_uri": "https://localhost:8080/",
          "height": 35
        }
      },
      "source": [
        "(((8 * 36) ** 5) + 234) - (3962711306764 / 2)"
      ],
      "execution_count": null,
      "outputs": [
        {
          "output_type": "execute_result",
          "data": {
            "text/plain": [
              "2020.0"
            ]
          },
          "metadata": {
            "tags": []
          },
          "execution_count": 40
        }
      ]
    },
    {
      "cell_type": "markdown",
      "metadata": {
        "id": "mmYwHQhCj73t"
      },
      "source": [
        "## 4. Integers vs. Floats\n",
        "\n",
        "* **Integers** are called int values in the Python language. They can only represent whole numbers (negative, zero, or positive) that don't have a fractional component."
      ]
    },
    {
      "cell_type": "code",
      "metadata": {
        "id": "sFolQqeJj73u",
        "outputId": "d32a3a2d-28af-45f3-ad4d-2e01bd8c8a35",
        "colab": {
          "base_uri": "https://localhost:8080/",
          "height": 35
        }
      },
      "source": [
        "23 // 4"
      ],
      "execution_count": null,
      "outputs": [
        {
          "output_type": "execute_result",
          "data": {
            "text/plain": [
              "5"
            ]
          },
          "metadata": {
            "tags": []
          },
          "execution_count": 41
        }
      ]
    },
    {
      "cell_type": "markdown",
      "metadata": {
        "id": "Mquh0tsxj73w"
      },
      "source": [
        "* **Real numbers** are called float values (or floating point values) in the Python language. They can represent whole or fractional numbers but have some limitations."
      ]
    },
    {
      "cell_type": "code",
      "metadata": {
        "id": "SWUZJOVmj73x",
        "outputId": "7e628146-0979-4d45-bfca-cd8cd7bce0aa",
        "colab": {
          "base_uri": "https://localhost:8080/",
          "height": 35
        }
      },
      "source": [
        "23 / 4"
      ],
      "execution_count": null,
      "outputs": [
        {
          "output_type": "execute_result",
          "data": {
            "text/plain": [
              "5.75"
            ]
          },
          "metadata": {
            "tags": []
          },
          "execution_count": 42
        }
      ]
    },
    {
      "cell_type": "markdown",
      "metadata": {
        "id": "0CigU63Xj73z"
      },
      "source": [
        "## 5. Strings\n",
        "\n",
        "A **string** can represent a word, a sentence, numbers or even truth values.\n",
        "\n",
        "**Single quotes:** `'Hello, world!'`\n",
        "* **Warning:** Single quotes will not work if string includes apostrophes (e.g. 'It's great' will produce an error)\n",
        "\n",
        "**Double quotes:** `\"Hello, world\"`\n",
        "\n",
        "**Triple quotes:** `\"\"\"Can write long text on multiple lines.\n",
        "                Useful for writing documentation for functions.\"\"\"`\n",
        "\n",
        "#### **Operands used on strings:**"
      ]
    },
    {
      "cell_type": "code",
      "metadata": {
        "id": "23PqxtKjj730",
        "outputId": "8f597af3-21a8-4db1-dd4e-65b801c7784f",
        "colab": {
          "base_uri": "https://localhost:8080/",
          "height": 35
        }
      },
      "source": [
        "\"Data\" + \"Analytics\" + \"Function\""
      ],
      "execution_count": null,
      "outputs": [
        {
          "output_type": "execute_result",
          "data": {
            "application/vnd.google.colaboratory.intrinsic": {
              "type": "string"
            },
            "text/plain": [
              "'DataAnalyticsFunction'"
            ]
          },
          "metadata": {
            "tags": []
          },
          "execution_count": 43
        }
      ]
    },
    {
      "cell_type": "code",
      "metadata": {
        "id": "bldKMwDFj732",
        "outputId": "0c7c3d8f-b482-4a3d-868f-074d13bb3268",
        "colab": {
          "base_uri": "https://localhost:8080/",
          "height": 35
        }
      },
      "source": [
        "\"Data\" + \" \" + \"Analytics\" + \" \" + \"Function\""
      ],
      "execution_count": null,
      "outputs": [
        {
          "output_type": "execute_result",
          "data": {
            "application/vnd.google.colaboratory.intrinsic": {
              "type": "string"
            },
            "text/plain": [
              "'Data Analytics Function'"
            ]
          },
          "metadata": {
            "tags": []
          },
          "execution_count": 44
        }
      ]
    },
    {
      "cell_type": "code",
      "metadata": {
        "id": "eD8zmX2Rj734",
        "outputId": "dc78c4e5-1126-46f8-e7b5-0051a40b7f51",
        "colab": {
          "base_uri": "https://localhost:8080/",
          "height": 35
        }
      },
      "source": [
        "\"5\" + \"4\""
      ],
      "execution_count": null,
      "outputs": [
        {
          "output_type": "execute_result",
          "data": {
            "application/vnd.google.colaboratory.intrinsic": {
              "type": "string"
            },
            "text/plain": [
              "'54'"
            ]
          },
          "metadata": {
            "tags": []
          },
          "execution_count": 45
        }
      ]
    },
    {
      "cell_type": "markdown",
      "metadata": {
        "id": "tKSAQ05Tj73-"
      },
      "source": [
        "## 6. String Functions"
      ]
    },
    {
      "cell_type": "markdown",
      "metadata": {
        "id": "-KMwpLDFj73-"
      },
      "source": [
        "### String Indexing"
      ]
    },
    {
      "cell_type": "code",
      "metadata": {
        "id": "HoRwf4Bpj73_",
        "outputId": "d18e0294-bee1-414f-dfd8-8bd0d6a10aff",
        "colab": {
          "base_uri": "https://localhost:8080/",
          "height": 35
        }
      },
      "source": [
        "string_object = \"Hello Human Services Data Analytics Function!\"\n",
        "string_object"
      ],
      "execution_count": null,
      "outputs": [
        {
          "output_type": "execute_result",
          "data": {
            "application/vnd.google.colaboratory.intrinsic": {
              "type": "string"
            },
            "text/plain": [
              "'Hello Human Services Data Analytics Function!'"
            ]
          },
          "metadata": {
            "tags": []
          },
          "execution_count": 46
        }
      ]
    },
    {
      "cell_type": "markdown",
      "metadata": {
        "id": "3KX_5YyQj74A"
      },
      "source": [
        "In Python, sequence slicing is expressed using square brackets `[ ]`."
      ]
    },
    {
      "cell_type": "code",
      "metadata": {
        "id": "UkLjxk-8j74B",
        "outputId": "70d7e431-8f5f-454e-dd0a-84ce8e8f5a41",
        "colab": {
          "base_uri": "https://localhost:8080/",
          "height": 35
        }
      },
      "source": [
        "string_object[3] + string_object[4] + string_object[29]"
      ],
      "execution_count": null,
      "outputs": [
        {
          "output_type": "execute_result",
          "data": {
            "application/vnd.google.colaboratory.intrinsic": {
              "type": "string"
            },
            "text/plain": [
              "'lol'"
            ]
          },
          "metadata": {
            "tags": []
          },
          "execution_count": 47
        }
      ]
    },
    {
      "cell_type": "markdown",
      "metadata": {
        "id": "bDe4v8d5j74D"
      },
      "source": [
        "When indexing, the first integer indicates the starting index of the slice and the second indicates one beyond the ending index. A colon separates the starting and ending indices. Any bound that is omitted is assumed to be an extreme value: 0 for the starting index, and the length of the sequence for the ending index. \n",
        "> E.g. [Starting Index : Ending Index + 1]"
      ]
    },
    {
      "cell_type": "code",
      "metadata": {
        "id": "oDJuMjAuj74D",
        "outputId": "ae4fee7e-9df9-4d43-995f-6bcafcddd391",
        "colab": {
          "base_uri": "https://localhost:8080/",
          "height": 35
        }
      },
      "source": [
        "string_object[0:5]"
      ],
      "execution_count": null,
      "outputs": [
        {
          "output_type": "execute_result",
          "data": {
            "application/vnd.google.colaboratory.intrinsic": {
              "type": "string"
            },
            "text/plain": [
              "'Hello'"
            ]
          },
          "metadata": {
            "tags": []
          },
          "execution_count": 48
        }
      ]
    },
    {
      "cell_type": "code",
      "metadata": {
        "id": "K0ObWaYlj74F",
        "outputId": "5c391280-c480-43d5-a007-4ee56f65b497",
        "colab": {
          "base_uri": "https://localhost:8080/",
          "height": 35
        }
      },
      "source": [
        "string_object[0:5:1]"
      ],
      "execution_count": null,
      "outputs": [
        {
          "output_type": "execute_result",
          "data": {
            "application/vnd.google.colaboratory.intrinsic": {
              "type": "string"
            },
            "text/plain": [
              "'Hello'"
            ]
          },
          "metadata": {
            "tags": []
          },
          "execution_count": 49
        }
      ]
    },
    {
      "cell_type": "code",
      "metadata": {
        "id": "UEyBTZzOj74H"
      },
      "source": [
        "def print_date(day): \n",
        "  \"\"\"\n",
        "  Returns string including the day of the week.\n",
        "  \"\"\"\n",
        "  print(\"Today is {}\".format(day))"
      ],
      "execution_count": null,
      "outputs": []
    },
    {
      "cell_type": "code",
      "metadata": {
        "id": "yhewo6aEk1JF",
        "outputId": "e31f17ce-e1e0-4ac1-b4c9-1b1c37f8e091",
        "colab": {
          "base_uri": "https://localhost:8080/",
          "height": 35
        }
      },
      "source": [
        "print_date(\"Tuesday\")"
      ],
      "execution_count": null,
      "outputs": [
        {
          "output_type": "stream",
          "text": [
            "Today is Tuesday\n"
          ],
          "name": "stdout"
        }
      ]
    },
    {
      "cell_type": "code",
      "metadata": {
        "id": "XWC7Yq9Jj74J",
        "outputId": "c581ae6e-f11e-4590-af95-032a3d00d591",
        "colab": {
          "base_uri": "https://localhost:8080/",
          "height": 104
        }
      },
      "source": [
        "for i in range(5): \n",
        "    print(i)"
      ],
      "execution_count": null,
      "outputs": [
        {
          "output_type": "stream",
          "text": [
            "0\n",
            "1\n",
            "2\n",
            "3\n",
            "4\n"
          ],
          "name": "stdout"
        }
      ]
    },
    {
      "cell_type": "markdown",
      "metadata": {
        "id": "3Fri8vlGJRC0"
      },
      "source": [
        "## 7. Lists\n",
        "The list class: an ordered collection of values.\n",
        "> Can be any type of value!"
      ]
    },
    {
      "cell_type": "code",
      "metadata": {
        "id": "stEzkpvz6W2b"
      },
      "source": [
        "## Add the range function along with list() as a way to initialize or create a list."
      ],
      "execution_count": null,
      "outputs": []
    },
    {
      "cell_type": "code",
      "metadata": {
        "id": "1pV7zjwUJRC1",
        "outputId": "27f91e9f-6dd6-4fdd-e278-333afa28be3c",
        "colab": {
          "base_uri": "https://localhost:8080/",
          "height": 35
        }
      },
      "source": [
        "# E.g. integer values\n",
        "type([0,1,2,3])"
      ],
      "execution_count": null,
      "outputs": [
        {
          "output_type": "execute_result",
          "data": {
            "text/plain": [
              "list"
            ]
          },
          "metadata": {
            "tags": []
          },
          "execution_count": 53
        }
      ]
    },
    {
      "cell_type": "code",
      "metadata": {
        "id": "rnwMj4OqJRC4",
        "outputId": "bb2992cf-88fb-4d7c-9d3c-728e465cfe65",
        "colab": {
          "base_uri": "https://localhost:8080/",
          "height": 35
        }
      },
      "source": [
        "# Strings\n",
        "type([\"a\",\"b\",\"c\",\"d\"])"
      ],
      "execution_count": null,
      "outputs": [
        {
          "output_type": "execute_result",
          "data": {
            "text/plain": [
              "list"
            ]
          },
          "metadata": {
            "tags": []
          },
          "execution_count": 54
        }
      ]
    },
    {
      "cell_type": "code",
      "metadata": {
        "id": "wz3DsX8_JRC7"
      },
      "source": [
        "# You can extract a value stored in a list by indexing\n",
        "l = [0,1,2,3,4]"
      ],
      "execution_count": null,
      "outputs": []
    },
    {
      "cell_type": "markdown",
      "metadata": {
        "id": "Ynl3ddCHKVIO"
      },
      "source": [
        "Note: everything in python starts at 0 (not 1, like in R)"
      ]
    },
    {
      "cell_type": "code",
      "metadata": {
        "id": "1UQiuZ-aKViK",
        "outputId": "bc1aab48-9f50-4ed5-a938-76dd1d7bdbda",
        "colab": {
          "base_uri": "https://localhost:8080/",
          "height": 52
        }
      },
      "source": [
        "print(l[0])\n",
        "print(l[3])"
      ],
      "execution_count": null,
      "outputs": [
        {
          "output_type": "stream",
          "text": [
            "0\n",
            "3\n"
          ],
          "name": "stdout"
        }
      ]
    },
    {
      "cell_type": "code",
      "metadata": {
        "id": "od9REeP2JRC_",
        "outputId": "1b843f2f-6ce2-482c-c596-664b3e65d932",
        "colab": {
          "base_uri": "https://localhost:8080/",
          "height": 52
        }
      },
      "source": [
        "# If you want multiple values stored in a list you can extract them individually\n",
        "print(l[0])\n",
        "print(l[3])"
      ],
      "execution_count": null,
      "outputs": [
        {
          "output_type": "stream",
          "text": [
            "0\n",
            "3\n"
          ],
          "name": "stdout"
        }
      ]
    },
    {
      "cell_type": "markdown",
      "metadata": {
        "id": "W2vvKF0EKcOS"
      },
      "source": [
        "Or you can slice the list by specifying multiple index positions\n",
        "\n",
        "A list will be returned"
      ]
    },
    {
      "cell_type": "code",
      "metadata": {
        "id": "txBHPBNdKciA",
        "outputId": "c33f6821-8394-48ed-f0e4-e80b2249c849",
        "colab": {
          "base_uri": "https://localhost:8080/",
          "height": 35
        }
      },
      "source": [
        "print(l[0:3])"
      ],
      "execution_count": null,
      "outputs": [
        {
          "output_type": "stream",
          "text": [
            "[0, 1, 2]\n"
          ],
          "name": "stdout"
        }
      ]
    },
    {
      "cell_type": "markdown",
      "metadata": {
        "id": "MleW9koFKjmN"
      },
      "source": [
        "We get the same result, if we also write it this way:\n",
        "Note that the last value in the range of values specified is not returned"
      ]
    },
    {
      "cell_type": "code",
      "metadata": {
        "id": "-5EQGu9RKj8R",
        "outputId": "aef34b72-4f64-43dc-ffdd-6d22ddea2394",
        "colab": {
          "base_uri": "https://localhost:8080/",
          "height": 35
        }
      },
      "source": [
        "print(l[:3])"
      ],
      "execution_count": null,
      "outputs": [
        {
          "output_type": "stream",
          "text": [
            "[0, 1, 2]\n"
          ],
          "name": "stdout"
        }
      ]
    },
    {
      "cell_type": "markdown",
      "metadata": {
        "id": "Dd9ruK1GKqOe"
      },
      "source": [
        "Lists are changeable"
      ]
    },
    {
      "cell_type": "code",
      "metadata": {
        "id": "6LWJCsfOJRDB",
        "outputId": "99d08009-3395-4d40-bf79-59aac630466e",
        "colab": {
          "base_uri": "https://localhost:8080/",
          "height": 52
        }
      },
      "source": [
        "l = [0,1,2,3,4]\n",
        "\n",
        "print(l)\n",
        "\n",
        "l[3] = 6\n",
        "print(l)"
      ],
      "execution_count": null,
      "outputs": [
        {
          "output_type": "stream",
          "text": [
            "[0, 1, 2, 3, 4]\n",
            "[0, 1, 2, 6, 4]\n"
          ],
          "name": "stdout"
        }
      ]
    },
    {
      "cell_type": "markdown",
      "metadata": {
        "id": "DlVla2ibKu2J"
      },
      "source": [
        "## You can stores lists in lists\n",
        "Since there are no matrices in Python, this is one way of creating a matrix.\n",
        "It can also be useful for nested for loops\n",
        "\n",
        "> For example:"
      ]
    },
    {
      "cell_type": "code",
      "metadata": {
        "id": "pxrG_j1gJRDH"
      },
      "source": [
        "l = [[0,1,2,3],[4,5,6,7],[8,9,10,11]]"
      ],
      "execution_count": null,
      "outputs": []
    },
    {
      "cell_type": "markdown",
      "metadata": {
        "id": "yFznjWdBK02U"
      },
      "source": [
        "If we want the first list stored in the list:\n",
        "\n",
        "> Note that a list object is returned."
      ]
    },
    {
      "cell_type": "code",
      "metadata": {
        "id": "JTlCsNQ3K1Jc",
        "outputId": "283c8f60-131b-4f0a-c9b4-b141c60ec811",
        "colab": {
          "base_uri": "https://localhost:8080/"
        }
      },
      "source": [
        "l[0]"
      ],
      "execution_count": null,
      "outputs": [
        {
          "output_type": "execute_result",
          "data": {
            "text/plain": [
              "[0, 1, 2, 3]"
            ]
          },
          "metadata": {
            "tags": []
          },
          "execution_count": 62
        }
      ]
    },
    {
      "cell_type": "markdown",
      "metadata": {
        "id": "KyQ8rNAeK41e"
      },
      "source": [
        "If we want the first and second list\n",
        "> Note that we still get a list of lists"
      ]
    },
    {
      "cell_type": "code",
      "metadata": {
        "id": "USnyd8C0JRDN",
        "outputId": "f294a60a-c055-4e7e-e054-04518f8d17db",
        "colab": {
          "base_uri": "https://localhost:8080/"
        }
      },
      "source": [
        "l[:2]"
      ],
      "execution_count": null,
      "outputs": [
        {
          "output_type": "execute_result",
          "data": {
            "text/plain": [
              "[[0, 1, 2, 3], [4, 5, 6, 7]]"
            ]
          },
          "metadata": {
            "tags": []
          },
          "execution_count": 63
        }
      ]
    },
    {
      "cell_type": "markdown",
      "metadata": {
        "id": "XN8wW9sJLBqX"
      },
      "source": [
        "If we want the first value in the first list\n",
        "> Note this is similar to matrix notation, where i denotes the row and j denotes the column, except we are starting at 0"
      ]
    },
    {
      "cell_type": "code",
      "metadata": {
        "id": "KSyqYBrqJRDQ",
        "outputId": "7f4e3a92-3dd8-44da-87e6-9b8d86245888",
        "colab": {
          "base_uri": "https://localhost:8080/"
        }
      },
      "source": [
        "l[0][0]"
      ],
      "execution_count": null,
      "outputs": [
        {
          "output_type": "execute_result",
          "data": {
            "text/plain": [
              "0"
            ]
          },
          "metadata": {
            "tags": []
          },
          "execution_count": 64
        }
      ]
    },
    {
      "cell_type": "markdown",
      "metadata": {
        "id": "5LwNSKlSLG4O"
      },
      "source": [
        "If we only want a few values in the first list"
      ]
    },
    {
      "cell_type": "code",
      "metadata": {
        "id": "iOiC_DocJRDT",
        "outputId": "b2ccf3ff-6edb-40e7-91b9-006c9097c368",
        "colab": {
          "base_uri": "https://localhost:8080/"
        }
      },
      "source": [
        "l[0][:3]"
      ],
      "execution_count": null,
      "outputs": [
        {
          "output_type": "execute_result",
          "data": {
            "text/plain": [
              "[0, 1, 2]"
            ]
          },
          "metadata": {
            "tags": []
          },
          "execution_count": 65
        }
      ]
    },
    {
      "cell_type": "markdown",
      "metadata": {
        "id": "dlezLAbbLL2V"
      },
      "source": [
        "Using in to check if a values is stored in a list\n",
        "\n",
        "> For example, check if the number 8 is stored in the list l"
      ]
    },
    {
      "cell_type": "code",
      "metadata": {
        "id": "0ABdJgsPJRDW",
        "outputId": "a2252042-dd18-4d5d-f9b3-6bcda971eb52",
        "colab": {
          "base_uri": "https://localhost:8080/"
        }
      },
      "source": [
        "print(8 in l)\n",
        "print(8 in l[2])\n",
        "# Why are these different?"
      ],
      "execution_count": null,
      "outputs": [
        {
          "output_type": "stream",
          "text": [
            "False\n",
            "True\n"
          ],
          "name": "stdout"
        }
      ]
    },
    {
      "cell_type": "markdown",
      "metadata": {
        "id": "vKawlu5_LR_U"
      },
      "source": [
        "Add two lists together\n",
        "> Why doesn't this do what we expect?"
      ]
    },
    {
      "cell_type": "code",
      "metadata": {
        "id": "FyXHG14-JRDZ",
        "outputId": "2b3b3676-9cd1-4980-8290-6cc9b250b9bd",
        "colab": {
          "base_uri": "https://localhost:8080/"
        }
      },
      "source": [
        "l + [10,11,12,13]"
      ],
      "execution_count": null,
      "outputs": [
        {
          "output_type": "execute_result",
          "data": {
            "text/plain": [
              "[[0, 1, 2, 3], [4, 5, 6, 7], [8, 9, 10, 11], 10, 11, 12, 13]"
            ]
          },
          "metadata": {
            "tags": []
          },
          "execution_count": 67
        }
      ]
    },
    {
      "cell_type": "markdown",
      "metadata": {
        "id": "m0cNHdi_LXhb"
      },
      "source": [
        "Does this do what we expect?\n",
        "> Note that a list of lists is still maintained"
      ]
    },
    {
      "cell_type": "code",
      "metadata": {
        "id": "6t1stbHiJRDb",
        "outputId": "ec81b97d-0fd6-43ed-ffcf-92120edf0642",
        "colab": {
          "base_uri": "https://localhost:8080/"
        }
      },
      "source": [
        "l+[[10,11,12,13]]"
      ],
      "execution_count": null,
      "outputs": [
        {
          "output_type": "execute_result",
          "data": {
            "text/plain": [
              "[[0, 1, 2, 3], [4, 5, 6, 7], [8, 9, 10, 11], [10, 11, 12, 13]]"
            ]
          },
          "metadata": {
            "tags": []
          },
          "execution_count": 68
        }
      ]
    },
    {
      "cell_type": "markdown",
      "metadata": {
        "id": "0nOTZAh7LkHM"
      },
      "source": [
        "### Other methods that can be used on lists:\n",
        "- append\n",
        "- insert\n",
        "- remove\n",
        "- del\n",
        "- copy (IMPT for mutability)\n",
        "  \n",
        "### Difference between copy() and redefining a variable\n",
        "- A copy will make a **new** list.\n",
        "- Just using a new variable name will only duplicate the reference, and any changes made will affect the original list."
      ]
    },
    {
      "cell_type": "markdown",
      "metadata": {
        "id": "pSiQWoopR3W-"
      },
      "source": [
        "## 8. Dictionaries\n",
        "Dictionaries are an unordered collection of indexed values. They're useful when the position of a value doesn't matter (e.g. whether it's first or last), but there is a substantive way to group or identify values.\n",
        "\n",
        "> For example, the dictionary below allows you to index apple, carrot, and rice, by the type of food group."
      ]
    },
    {
      "cell_type": "code",
      "metadata": {
        "id": "Fth7UlX_JRDh"
      },
      "source": [
        "dict = {\"fruit\": \"apple\", \"vegetable\": \"carrot\",\"grain\":\"rice\"}"
      ],
      "execution_count": null,
      "outputs": []
    },
    {
      "cell_type": "code",
      "metadata": {
        "id": "xTez_5K5SuoB",
        "outputId": "16016c1e-0910-4e47-ad67-5cc0a063cd0e",
        "colab": {
          "base_uri": "https://localhost:8080/"
        }
      },
      "source": [
        "dict[\"fruit\"]"
      ],
      "execution_count": null,
      "outputs": [
        {
          "output_type": "execute_result",
          "data": {
            "application/vnd.google.colaboratory.intrinsic": {
              "type": "string"
            },
            "text/plain": [
              "'apple'"
            ]
          },
          "metadata": {
            "tags": []
          },
          "execution_count": 70
        }
      ]
    },
    {
      "cell_type": "code",
      "metadata": {
        "id": "GyF9QoCzS5Mg",
        "outputId": "98a35263-a1af-4d31-c881-d154421af624",
        "colab": {
          "base_uri": "https://localhost:8080/"
        }
      },
      "source": [
        "dict[\"vegetable\"]\n",
        "# This is kind of similar to a named list in R?"
      ],
      "execution_count": null,
      "outputs": [
        {
          "output_type": "execute_result",
          "data": {
            "application/vnd.google.colaboratory.intrinsic": {
              "type": "string"
            },
            "text/plain": [
              "'carrot'"
            ]
          },
          "metadata": {
            "tags": []
          },
          "execution_count": 71
        }
      ]
    },
    {
      "cell_type": "markdown",
      "metadata": {
        "id": "I-y46ABUTANS"
      },
      "source": [
        "Dictionaries are made up of key value pairs. In the above example, the keys are: fruit, vegetable, and grain. The values are: apple, carrot, and rice."
      ]
    },
    {
      "cell_type": "code",
      "metadata": {
        "id": "-Rs8RYFfS6ye",
        "outputId": "baf80180-00c4-41e7-936b-4ccfec6109db",
        "colab": {
          "base_uri": "https://localhost:8080/"
        }
      },
      "source": [
        "dict.keys()"
      ],
      "execution_count": null,
      "outputs": [
        {
          "output_type": "execute_result",
          "data": {
            "text/plain": [
              "dict_keys(['fruit', 'vegetable', 'grain'])"
            ]
          },
          "metadata": {
            "tags": []
          },
          "execution_count": 72
        }
      ]
    },
    {
      "cell_type": "code",
      "metadata": {
        "id": "n6TS8bDgTMMw",
        "outputId": "aa1eb82e-ee73-4814-c01d-a317a0723d03",
        "colab": {
          "base_uri": "https://localhost:8080/"
        }
      },
      "source": [
        "dict.values()"
      ],
      "execution_count": null,
      "outputs": [
        {
          "output_type": "execute_result",
          "data": {
            "text/plain": [
              "dict_values(['apple', 'carrot', 'rice'])"
            ]
          },
          "metadata": {
            "tags": []
          },
          "execution_count": 73
        }
      ]
    },
    {
      "cell_type": "markdown",
      "metadata": {
        "id": "1EbkohL6T3P3"
      },
      "source": [
        "- What type of object is returned above?\n",
        "- How might you turn it into a list?"
      ]
    },
    {
      "cell_type": "markdown",
      "metadata": {
        "id": "joYzchN7Td37"
      },
      "source": [
        "You can attribute multiple values to a single key, by using lists."
      ]
    },
    {
      "cell_type": "code",
      "metadata": {
        "id": "w7ojCmYmTc4Q"
      },
      "source": [
        "dict = {\"fruit\":[\"apple\",\"strawberry\",\"banana\"], \"vegetable\" : [\"carrot\",\"spinach\",\"broccoli\"], \"grain\": [\"rice\",\"bread\",\"wheat\"]}"
      ],
      "execution_count": null,
      "outputs": []
    },
    {
      "cell_type": "code",
      "metadata": {
        "id": "cWtdTTBLTO66",
        "outputId": "b70b1c65-abdc-4fa7-d9d7-d95b083e0c96",
        "colab": {
          "base_uri": "https://localhost:8080/"
        }
      },
      "source": [
        "dict.keys()"
      ],
      "execution_count": null,
      "outputs": [
        {
          "output_type": "execute_result",
          "data": {
            "text/plain": [
              "dict_keys(['fruit', 'vegetable', 'grain'])"
            ]
          },
          "metadata": {
            "tags": []
          },
          "execution_count": 75
        }
      ]
    },
    {
      "cell_type": "code",
      "metadata": {
        "id": "FFPPfxcRTxhb",
        "outputId": "d8e4093f-afdb-4369-95cd-1d878b9dfc67",
        "colab": {
          "base_uri": "https://localhost:8080/"
        }
      },
      "source": [
        "dict.values()"
      ],
      "execution_count": null,
      "outputs": [
        {
          "output_type": "execute_result",
          "data": {
            "text/plain": [
              "dict_values([['apple', 'strawberry', 'banana'], ['carrot', 'spinach', 'broccoli'], ['rice', 'bread', 'wheat']])"
            ]
          },
          "metadata": {
            "tags": []
          },
          "execution_count": 76
        }
      ]
    },
    {
      "cell_type": "code",
      "metadata": {
        "id": "VmBkL___VMV7",
        "outputId": "d770cb2a-17d7-4e04-85d3-4c20102af203",
        "colab": {
          "base_uri": "https://localhost:8080/"
        }
      },
      "source": [
        "dict.items()"
      ],
      "execution_count": null,
      "outputs": [
        {
          "output_type": "execute_result",
          "data": {
            "text/plain": [
              "dict_items([('fruit', ['apple', 'strawberry', 'banana']), ('vegetable', ['carrot', 'spinach', 'broccoli']), ('grain', ['rice', 'bread', 'wheat'])])"
            ]
          },
          "metadata": {
            "tags": []
          },
          "execution_count": 77
        }
      ]
    },
    {
      "cell_type": "markdown",
      "metadata": {
        "id": "iOQlwahZUBJJ"
      },
      "source": [
        "- Can you create a dictionary of dictionaries?"
      ]
    },
    {
      "cell_type": "markdown",
      "metadata": {
        "id": "S_BiFiqoWZRm"
      },
      "source": [
        "## Other types of data structures\n",
        "![pythondatastructures.jpg](data:image/jpeg;base64,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)"
      ]
    },
    {
      "cell_type": "code",
      "metadata": {
        "id": "iT1cD7kjWZqi"
      },
      "source": [
        ""
      ],
      "execution_count": null,
      "outputs": []
    },
    {
      "cell_type": "markdown",
      "metadata": {
        "id": "D_u_hJ_nUMrR"
      },
      "source": [
        "## 9. Iteration\n",
        "\n",
        "Lists and dictionaries both iterators, meaning they can be iterated upon.\n",
        "\n",
        "Like in R and in Stata, you can iterate over a list or a dictionary in either a for loop or a while loop.\n",
        "\n",
        "- For example, a for loop:"
      ]
    },
    {
      "cell_type": "code",
      "metadata": {
        "id": "Y8Jh38EbUR6j",
        "outputId": "1789656b-5037-4263-c735-5bd36008fa2e",
        "colab": {
          "base_uri": "https://localhost:8080/",
          "height": 104
        }
      },
      "source": [
        "for i in [0, 1, 2, 3, 4]:\n",
        "  print(i)"
      ],
      "execution_count": null,
      "outputs": [
        {
          "output_type": "stream",
          "text": [
            "0\n",
            "1\n",
            "2\n",
            "3\n",
            "4\n"
          ],
          "name": "stdout"
        }
      ]
    },
    {
      "cell_type": "markdown",
      "metadata": {
        "id": "VyfbB118VbBt"
      },
      "source": [
        "- A nested for loop"
      ]
    },
    {
      "cell_type": "code",
      "metadata": {
        "id": "Sq1Lauo4VZxf",
        "outputId": "2e92e045-e326-4aba-93b9-8c4a9b9be40d",
        "colab": {
          "base_uri": "https://localhost:8080/",
          "height": 295
        }
      },
      "source": [
        "l = [list(range(5)),list(range(5,10)),list(range(10,15))]\n",
        "print(l)\n",
        "\n",
        "for i in range(3):\n",
        "  for j in range(5):\n",
        "    print(l[i][j])"
      ],
      "execution_count": null,
      "outputs": [
        {
          "output_type": "stream",
          "text": [
            "[[0, 1, 2, 3, 4], [5, 6, 7, 8, 9], [10, 11, 12, 13, 14]]\n",
            "0\n",
            "1\n",
            "2\n",
            "3\n",
            "4\n",
            "5\n",
            "6\n",
            "7\n",
            "8\n",
            "9\n",
            "10\n",
            "11\n",
            "12\n",
            "13\n",
            "14\n"
          ],
          "name": "stdout"
        }
      ]
    },
    {
      "cell_type": "code",
      "metadata": {
        "id": "g_JRQ6cdUoKb",
        "outputId": "67c6595f-e6c4-4447-c651-0a560a387d10",
        "colab": {
          "base_uri": "https://localhost:8080/",
          "height": 69
        }
      },
      "source": [
        "for i in dict:\n",
        "  print(dict[i])"
      ],
      "execution_count": null,
      "outputs": [
        {
          "output_type": "stream",
          "text": [
            "['apple', 'strawberry', 'banana']\n",
            "['carrot', 'spinach', 'broccoli']\n",
            "['rice', 'bread', 'wheat']\n"
          ],
          "name": "stdout"
        }
      ]
    },
    {
      "cell_type": "markdown",
      "metadata": {
        "id": "t3ASGPN9U_A7"
      },
      "source": [
        "> Note: Python can tell that we want to iterate over the keys."
      ]
    },
    {
      "cell_type": "code",
      "metadata": {
        "id": "pNzmJymOU7WO",
        "outputId": "a4ac0078-f3e4-40e0-801c-04ce04bc116a",
        "colab": {
          "base_uri": "https://localhost:8080/",
          "height": 121
        }
      },
      "source": [
        "for i,j in dict.items():\n",
        "  print(i)\n",
        "  print(j)"
      ],
      "execution_count": null,
      "outputs": [
        {
          "output_type": "stream",
          "text": [
            "fruit\n",
            "['apple', 'strawberry', 'banana']\n",
            "vegetable\n",
            "['carrot', 'spinach', 'broccoli']\n",
            "grain\n",
            "['rice', 'bread', 'wheat']\n"
          ],
          "name": "stdout"
        }
      ]
    }
  ]
}