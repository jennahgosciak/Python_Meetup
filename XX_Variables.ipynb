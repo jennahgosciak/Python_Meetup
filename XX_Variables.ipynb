{
 "cells": [
  {
   "cell_type": "markdown",
   "metadata": {
    "colab_type": "text",
    "id": "view-in-github"
   },
   "source": [
    "<a href=\"https://colab.research.google.com/github/jennahgosciak/Python_Meetup/blob/master/Python_Challenge.ipynb\" target=\"_parent\"><img src=\"https://colab.research.google.com/assets/colab-badge.svg\" alt=\"Open In Colab\"/></a>"
   ]
  },
  {
   "cell_type": "markdown",
   "metadata": {
    "colab_type": "text",
    "id": "WsMxqnaSaC7f"
   },
   "source": [
    "# Variables"
   ]
  },
  {
   "cell_type": "markdown",
   "metadata": {},
   "source": [
    "## Assignment: \n",
    "Variables are assigned with the '=' operator\n",
    "Variables are not declared or defined prior to assignment.  Instead, the act of assignment creates the variable.  The variable's type is defined when the variable is created (more on that below)"
   ]
  },
  {
   "cell_type": "code",
   "execution_count": 2,
   "metadata": {},
   "outputs": [
    {
     "name": "stdout",
     "output_type": "stream",
     "text": [
      "my_integer == 3\n"
     ]
    }
   ],
   "source": [
    "my_integer = 3\n",
    "print(f'my_integer == {my_integer}')"
   ]
  },
  {
   "cell_type": "code",
   "execution_count": 3,
   "metadata": {},
   "outputs": [
    {
     "name": "stdout",
     "output_type": "stream",
     "text": [
      "my_string == three\n"
     ]
    }
   ],
   "source": [
    "my_string = \"three\"\n",
    "print(f'my_string == {my_string}')"
   ]
  },
  {
   "cell_type": "markdown",
   "metadata": {},
   "source": [
    "Python also allows for chained assignment"
   ]
  },
  {
   "cell_type": "code",
   "execution_count": 7,
   "metadata": {},
   "outputs": [
    {
     "name": "stdout",
     "output_type": "stream",
     "text": [
      "x == 1 and y == 1 and z == 1\n"
     ]
    }
   ],
   "source": [
    "x = y = z = 1\n",
    "print(f'x == {x} and y == {y} and z == {z}')"
   ]
  },
  {
   "cell_type": "markdown",
   "metadata": {},
   "source": [
    "## Types\n",
    "Variables types are set dynamically (not statically).\n",
    "This means, among other things, that a variable can be assigned to one type and reassigned to another type without issue\n",
    "To identify a variables type, use Python's built in the type() method"
   ]
  },
  {
   "cell_type": "code",
   "execution_count": 6,
   "metadata": {},
   "outputs": [
    {
     "name": "stdout",
     "output_type": "stream",
     "text": [
      "my_variable == 3 and is type <class 'int'>\n",
      "my_variable has been reassigned to three and is now type <class 'str'>\n"
     ]
    }
   ],
   "source": [
    "my_variable = 3\n",
    "print(f'my_variable == {my_variable} and is type {type(my_variable)}')\n",
    "\n",
    "my_variable = \"three\"\n",
    "print(f'my_variable has been reassigned to {my_variable} and is now type {type(my_variable)}')"
   ]
  },
  {
   "cell_type": "markdown",
   "metadata": {},
   "source": [
    "## Object references\n",
    "In Python, everything is an object (even integers and strings).  This means x = 5 creates an instance of the class int (which is an object) with a value of 5 which is then stored in memory.  The variable x points to that object in memory.\n",
    "This is why type(my_variable) returned <class 'int'> when it was assigned to 3 and <class 'str'> when it was reassigned to \"three\".\n",
    "\n",
    "Once you have created an instance of a class object, you have access to all the methods defined in that class.  To see the methods, and other things, use the built in dir() method"
   ]
  },
  {
   "cell_type": "code",
   "execution_count": 13,
   "metadata": {},
   "outputs": [
    {
     "name": "stdout",
     "output_type": "stream",
     "text": [
      "<class 'str'>\n",
      "['__add__', '__class__', '__contains__', '__delattr__', '__dir__', '__doc__', '__eq__', '__format__', '__ge__', '__getattribute__', '__getitem__', '__getnewargs__', '__gt__', '__hash__', '__init__', '__init_subclass__', '__iter__', '__le__', '__len__', '__lt__', '__mod__', '__mul__', '__ne__', '__new__', '__reduce__', '__reduce_ex__', '__repr__', '__rmod__', '__rmul__', '__setattr__', '__sizeof__', '__str__', '__subclasshook__', 'capitalize', 'casefold', 'center', 'count', 'encode', 'endswith', 'expandtabs', 'find', 'format', 'format_map', 'index', 'isalnum', 'isalpha', 'isascii', 'isdecimal', 'isdigit', 'isidentifier', 'islower', 'isnumeric', 'isprintable', 'isspace', 'istitle', 'isupper', 'join', 'ljust', 'lower', 'lstrip', 'maketrans', 'partition', 'replace', 'rfind', 'rindex', 'rjust', 'rpartition', 'rsplit', 'rstrip', 'split', 'splitlines', 'startswith', 'strip', 'swapcase', 'title', 'translate', 'upper', 'zfill']\n",
      "Result of using upper method from the string class on my_string: THREE\n"
     ]
    }
   ],
   "source": [
    "print(type(my_string))\n",
    "print(dir(str))\n",
    "print(f'Result of using upper method from the string class on my_string: {my_string.upper()}')"
   ]
  },
  {
   "cell_type": "markdown",
   "metadata": {},
   "source": [
    "If you create a new variable and set it equal to an existing variable, they will both point to the same object in memory (instead of creating a copy)."
   ]
  },
  {
   "cell_type": "code",
   "execution_count": 14,
   "metadata": {},
   "outputs": [
    {
     "name": "stdout",
     "output_type": "stream",
     "text": [
      "my_new_variable == three\n"
     ]
    }
   ],
   "source": [
    "my_new_variable = my_variable\n",
    "print(f'my_new_variable == {my_new_variable}')"
   ]
  },
  {
   "cell_type": "markdown",
   "metadata": {},
   "source": [
    "## Object identity\n",
    "When a variable assignment is made, it is given a unique identifier.  This is true for every object created in Python.  You can access this identifier using Python's built in id() method"
   ]
  },
  {
   "cell_type": "code",
   "execution_count": 15,
   "metadata": {},
   "outputs": [
    {
     "name": "stdout",
     "output_type": "stream",
     "text": [
      "The unique identifier for my_variable is 2084689672816\n",
      "That same unique identifier is used for my_new_variable, 2084689672816\n"
     ]
    }
   ],
   "source": [
    "print(f'The unique identifier for my_variable is {id(my_variable)}')\n",
    "print(f'That same unique identifier is used for my_new_variable, {id(my_new_variable)}')"
   ]
  },
  {
   "cell_type": "markdown",
   "metadata": {},
   "source": [
    "## Names\n",
    "Variable names can be any length, consist of upper and lower cases letters, numbers (except for the first position), and underscores.\n",
    "In Python 3, unicode characters can be used in variable names.\n",
    "Upper and lower case letters are not the same (ie Var is not the same as var)."
   ]
  },
  {
   "cell_type": "markdown",
   "metadata": {},
   "source": [
    "## Reserved words\n",
    "There is a set of reserved words that cannot be used in naming.  That list is available with the kwlist of the keyword library or using help(\"keywords\")"
   ]
  },
  {
   "cell_type": "code",
   "execution_count": 17,
   "metadata": {},
   "outputs": [
    {
     "name": "stdout",
     "output_type": "stream",
     "text": [
      "['False', 'None', 'True', 'and', 'as', 'assert', 'async', 'await', 'break', 'class', 'continue', 'def', 'del', 'elif', 'else', 'except', 'finally', 'for', 'from', 'global', 'if', 'import', 'in', 'is', 'lambda', 'nonlocal', 'not', 'or', 'pass', 'raise', 'return', 'try', 'while', 'with', 'yield']\n",
      "\n",
      "Here is a list of the Python keywords.  Enter any keyword to get more help.\n",
      "\n",
      "False               class               from                or\n",
      "None                continue            global              pass\n",
      "True                def                 if                  raise\n",
      "and                 del                 import              return\n",
      "as                  elif                in                  try\n",
      "assert              else                is                  while\n",
      "async               except              lambda              with\n",
      "await               finally             nonlocal            yield\n",
      "break               for                 not                 \n",
      "\n",
      "None\n"
     ]
    }
   ],
   "source": [
    "import keyword\n",
    "print(keyword.kwlist)\n",
    "\n",
    "print(help(\"keywords\"))"
   ]
  }
 ],
 "metadata": {
  "colab": {
   "authorship_tag": "ABX9TyMz1h5fqkjERMan3x4JFUjK",
   "include_colab_link": true,
   "name": "Python_Challenge.ipynb",
   "provenance": [],
   "toc_visible": true
  },
  "kernelspec": {
   "display_name": "Python 3",
   "language": "python",
   "name": "python3"
  },
  "language_info": {
   "codemirror_mode": {
    "name": "ipython",
    "version": 3
   },
   "file_extension": ".py",
   "mimetype": "text/x-python",
   "name": "python",
   "nbconvert_exporter": "python",
   "pygments_lexer": "ipython3",
   "version": "3.7.6"
  }
 },
 "nbformat": 4,
 "nbformat_minor": 1
}
