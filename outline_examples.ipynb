{
  "nbformat": 4,
  "nbformat_minor": 0,
  "metadata": {
    "kernelspec": {
      "display_name": "Python 3",
      "language": "python",
      "name": "python3"
    },
    "language_info": {
      "codemirror_mode": {
        "name": "ipython",
        "version": 3
      },
      "file_extension": ".py",
      "mimetype": "text/x-python",
      "name": "python",
      "nbconvert_exporter": "python",
      "pygments_lexer": "ipython3",
      "version": "3.7.5"
    },
    "colab": {
      "name": "outline_examples.ipynb",
      "provenance": []
    }
  },
  "cells": [
    {
      "cell_type": "markdown",
      "metadata": {
        "id": "1xcXOJCHJRCh",
        "colab_type": "text"
      },
      "source": [
        "# Outline Sections\n",
        "## 1. Literal Constants\n",
        "Literal constants cannot be changed. They can be:\n",
        "\n",
        "- a number\n",
        "\n"
      ]
    },
    {
      "cell_type": "code",
      "metadata": {
        "id": "vmZtQUhyJRCi",
        "colab_type": "code",
        "colab": {
          "base_uri": "https://localhost:8080/",
          "height": 35
        },
        "outputId": "4a374fb6-8676-4fd2-e61f-fafa31aadf96"
      },
      "source": [
        "# E.g.\n",
        "5"
      ],
      "execution_count": null,
      "outputs": [
        {
          "output_type": "execute_result",
          "data": {
            "text/plain": [
              "5"
            ]
          },
          "metadata": {
            "tags": []
          },
          "execution_count": 19
        }
      ]
    },
    {
      "cell_type": "markdown",
      "metadata": {
        "id": "ml0GMbBsJrLn",
        "colab_type": "text"
      },
      "source": [
        "- a string"
      ]
    },
    {
      "cell_type": "code",
      "metadata": {
        "id": "bgfGOqiHJqdj",
        "colab_type": "code",
        "colab": {
          "base_uri": "https://localhost:8080/",
          "height": 35
        },
        "outputId": "0fdec4c5-48a7-413f-cdcd-4310d35ed4cd"
      },
      "source": [
        "\"string\""
      ],
      "execution_count": null,
      "outputs": [
        {
          "output_type": "execute_result",
          "data": {
            "text/plain": [
              "'string'"
            ]
          },
          "metadata": {
            "tags": []
          },
          "execution_count": 20
        }
      ]
    },
    {
      "cell_type": "markdown",
      "metadata": {
        "id": "nRZiU6HqJzR7",
        "colab_type": "text"
      },
      "source": [
        "- They can be assigned to a variable, but the idea is that they don't change."
      ]
    },
    {
      "cell_type": "code",
      "metadata": {
        "id": "WIByLk7sJx5d",
        "colab_type": "code",
        "colab": {}
      },
      "source": [
        "x = 5\n",
        "y = \"string\""
      ],
      "execution_count": null,
      "outputs": []
    },
    {
      "cell_type": "markdown",
      "metadata": {
        "id": "zkxIjMa2JRCm",
        "colab_type": "text"
      },
      "source": [
        "## 2. Types of numeric values\n",
        "\n",
        "There are 3 different types of numbers in Python\n",
        "Integers (int), Floats (float), and Complex numbers (complex)\n",
        "\n",
        "### Integers vs. Floats\n",
        "Integers are what we usually think of as integers. Floats are any number with a decimal point.\n",
        "\n",
        "You can check the type (actually, the class, but we'll get to that!) with the **type()** function"
      ]
    },
    {
      "cell_type": "code",
      "metadata": {
        "id": "irdLvxq7JRCn",
        "colab_type": "code",
        "colab": {
          "base_uri": "https://localhost:8080/",
          "height": 35
        },
        "outputId": "e8f0e903-6ab7-4c6d-fe35-4dab0f6258be"
      },
      "source": [
        "# Example of an integer\n",
        "type(5)"
      ],
      "execution_count": null,
      "outputs": [
        {
          "output_type": "execute_result",
          "data": {
            "text/plain": [
              "int"
            ]
          },
          "metadata": {
            "tags": []
          },
          "execution_count": 22
        }
      ]
    },
    {
      "cell_type": "code",
      "metadata": {
        "id": "IuiIo6DPJRCr",
        "colab_type": "code",
        "colab": {
          "base_uri": "https://localhost:8080/",
          "height": 35
        },
        "outputId": "fb3982fc-17a4-4ee4-e963-c3a82ead5ff7"
      },
      "source": [
        "# Example of a float\n",
        "type(10.6)"
      ],
      "execution_count": null,
      "outputs": [
        {
          "output_type": "execute_result",
          "data": {
            "text/plain": [
              "float"
            ]
          },
          "metadata": {
            "tags": []
          },
          "execution_count": 23
        }
      ]
    },
    {
      "cell_type": "code",
      "metadata": {
        "id": "X1xzBU0CJRCu",
        "colab_type": "code",
        "colab": {
          "base_uri": "https://localhost:8080/",
          "height": 35
        },
        "outputId": "e6c434c1-7581-4db1-92af-804e1e1b31c2"
      },
      "source": [
        "# Example of a complex number\n",
        "type(10 + 3j)"
      ],
      "execution_count": null,
      "outputs": [
        {
          "output_type": "execute_result",
          "data": {
            "text/plain": [
              "complex"
            ]
          },
          "metadata": {
            "tags": []
          },
          "execution_count": 24
        }
      ]
    },
    {
      "cell_type": "code",
      "metadata": {
        "id": "hRkin2tBJRCx",
        "colab_type": "code",
        "colab": {
          "base_uri": "https://localhost:8080/",
          "height": 35
        },
        "outputId": "1217b668-a9a9-4378-bd8c-e100d91cd964"
      },
      "source": [
        "# There isn't any \"long\" numeric type, integers can have any number of digits\n",
        "type(10000000000000)"
      ],
      "execution_count": null,
      "outputs": [
        {
          "output_type": "execute_result",
          "data": {
            "text/plain": [
              "int"
            ]
          },
          "metadata": {
            "tags": []
          },
          "execution_count": 25
        }
      ]
    },
    {
      "cell_type": "markdown",
      "metadata": {
        "id": "3Fri8vlGJRC0",
        "colab_type": "text"
      },
      "source": [
        "## 3. Lists\n",
        "The list class: an ordered collection of values.\n",
        "> Can be any type of value!"
      ]
    },
    {
      "cell_type": "code",
      "metadata": {
        "id": "1pV7zjwUJRC1",
        "colab_type": "code",
        "colab": {
          "base_uri": "https://localhost:8080/",
          "height": 35
        },
        "outputId": "c5602152-ef27-4072-ea35-b726b2c9844a"
      },
      "source": [
        "# E.g. integer values\n",
        "type([0,1,2,3])"
      ],
      "execution_count": null,
      "outputs": [
        {
          "output_type": "execute_result",
          "data": {
            "text/plain": [
              "list"
            ]
          },
          "metadata": {
            "tags": []
          },
          "execution_count": 26
        }
      ]
    },
    {
      "cell_type": "code",
      "metadata": {
        "id": "rnwMj4OqJRC4",
        "colab_type": "code",
        "colab": {
          "base_uri": "https://localhost:8080/",
          "height": 35
        },
        "outputId": "9d525f3f-f970-4caf-b850-97a14e082cc4"
      },
      "source": [
        "# Strings\n",
        "type([\"a\",\"b\",\"c\",\"d\"])"
      ],
      "execution_count": null,
      "outputs": [
        {
          "output_type": "execute_result",
          "data": {
            "text/plain": [
              "list"
            ]
          },
          "metadata": {
            "tags": []
          },
          "execution_count": 27
        }
      ]
    },
    {
      "cell_type": "code",
      "metadata": {
        "id": "wz3DsX8_JRC7",
        "colab_type": "code",
        "colab": {}
      },
      "source": [
        "# You can extract a value stored in a list by indexing\n",
        "l = [0,1,2,3,4]"
      ],
      "execution_count": null,
      "outputs": []
    },
    {
      "cell_type": "markdown",
      "metadata": {
        "id": "Ynl3ddCHKVIO",
        "colab_type": "text"
      },
      "source": [
        "Note: everything in python starts at 0 (not 1, like in R)"
      ]
    },
    {
      "cell_type": "code",
      "metadata": {
        "id": "1UQiuZ-aKViK",
        "colab_type": "code",
        "colab": {
          "base_uri": "https://localhost:8080/",
          "height": 52
        },
        "outputId": "95d6e101-6fd1-47dd-aca7-0e3f9da998d7"
      },
      "source": [
        "print(l[0])\n",
        "print(l[3])"
      ],
      "execution_count": null,
      "outputs": [
        {
          "output_type": "stream",
          "text": [
            "0\n",
            "3\n"
          ],
          "name": "stdout"
        }
      ]
    },
    {
      "cell_type": "code",
      "metadata": {
        "id": "od9REeP2JRC_",
        "colab_type": "code",
        "colab": {
          "base_uri": "https://localhost:8080/",
          "height": 52
        },
        "outputId": "a94a488a-0688-4d70-a83e-6cd29d54ba0c"
      },
      "source": [
        "# If you want multiple values stored in a list you can extract them individually\n",
        "print(l[0])\n",
        "print(l[3])"
      ],
      "execution_count": null,
      "outputs": [
        {
          "output_type": "stream",
          "text": [
            "0\n",
            "3\n"
          ],
          "name": "stdout"
        }
      ]
    },
    {
      "cell_type": "markdown",
      "metadata": {
        "id": "W2vvKF0EKcOS",
        "colab_type": "text"
      },
      "source": [
        "Or you can slice the list by specifying multiple index positions\n",
        "\n",
        "A list will be returned"
      ]
    },
    {
      "cell_type": "code",
      "metadata": {
        "id": "txBHPBNdKciA",
        "colab_type": "code",
        "colab": {
          "base_uri": "https://localhost:8080/",
          "height": 35
        },
        "outputId": "a77d3c2b-9746-4906-c3d7-937004213072"
      },
      "source": [
        "print(l[0:3])"
      ],
      "execution_count": null,
      "outputs": [
        {
          "output_type": "stream",
          "text": [
            "[0, 1, 2]\n"
          ],
          "name": "stdout"
        }
      ]
    },
    {
      "cell_type": "markdown",
      "metadata": {
        "id": "MleW9koFKjmN",
        "colab_type": "text"
      },
      "source": [
        "We get the same result, if we also write it this way:\n",
        "Note that the last value in the range of values specified is not returned"
      ]
    },
    {
      "cell_type": "code",
      "metadata": {
        "id": "-5EQGu9RKj8R",
        "colab_type": "code",
        "colab": {
          "base_uri": "https://localhost:8080/",
          "height": 35
        },
        "outputId": "d7e860df-dea2-43f2-c226-d46cf5397074"
      },
      "source": [
        "print(l[:3])"
      ],
      "execution_count": null,
      "outputs": [
        {
          "output_type": "stream",
          "text": [
            "[0, 1, 2]\n"
          ],
          "name": "stdout"
        }
      ]
    },
    {
      "cell_type": "markdown",
      "metadata": {
        "id": "Dd9ruK1GKqOe",
        "colab_type": "text"
      },
      "source": [
        "Lists are changeable"
      ]
    },
    {
      "cell_type": "code",
      "metadata": {
        "id": "6LWJCsfOJRDB",
        "colab_type": "code",
        "colab": {
          "base_uri": "https://localhost:8080/",
          "height": 52
        },
        "outputId": "9a303776-eb67-4c2a-b01e-a03743f993bf"
      },
      "source": [
        "l = [0,1,2,3,4]\n",
        "\n",
        "print(l)\n",
        "\n",
        "l[3] = 6\n",
        "print(l)"
      ],
      "execution_count": null,
      "outputs": [
        {
          "output_type": "stream",
          "text": [
            "[0, 1, 2, 3, 4]\n",
            "[0, 1, 2, 6, 4]\n"
          ],
          "name": "stdout"
        }
      ]
    },
    {
      "cell_type": "markdown",
      "metadata": {
        "id": "DlVla2ibKu2J",
        "colab_type": "text"
      },
      "source": [
        "## You can stores lists in lists\n",
        "Since there are no matrices in Python, this is one way of creating a matrix.\n",
        "It can also be useful for nested for loops\n",
        "\n",
        "> For example:"
      ]
    },
    {
      "cell_type": "code",
      "metadata": {
        "id": "pxrG_j1gJRDH",
        "colab_type": "code",
        "colab": {}
      },
      "source": [
        "l = [[0,1,2,3],[4,5,6,7],[8,9,10,11]]"
      ],
      "execution_count": null,
      "outputs": []
    },
    {
      "cell_type": "markdown",
      "metadata": {
        "id": "yFznjWdBK02U",
        "colab_type": "text"
      },
      "source": [
        "If we want the first list stored in the list:\n",
        "\n",
        "> Note that a list object is returned."
      ]
    },
    {
      "cell_type": "code",
      "metadata": {
        "id": "JTlCsNQ3K1Jc",
        "colab_type": "code",
        "colab": {
          "base_uri": "https://localhost:8080/",
          "height": 35
        },
        "outputId": "36c656cf-a39d-4827-d2a5-dfa86a76ef61"
      },
      "source": [
        "l[0]"
      ],
      "execution_count": null,
      "outputs": [
        {
          "output_type": "execute_result",
          "data": {
            "text/plain": [
              "[0, 1, 2, 3]"
            ]
          },
          "metadata": {
            "tags": []
          },
          "execution_count": 35
        }
      ]
    },
    {
      "cell_type": "markdown",
      "metadata": {
        "id": "KyQ8rNAeK41e",
        "colab_type": "text"
      },
      "source": [
        "If we want the first and second list\n",
        "> Note that we still get a list of lists"
      ]
    },
    {
      "cell_type": "code",
      "metadata": {
        "id": "USnyd8C0JRDN",
        "colab_type": "code",
        "colab": {
          "base_uri": "https://localhost:8080/",
          "height": 35
        },
        "outputId": "14efcc01-df29-4e99-d59b-6fde57039735"
      },
      "source": [
        "l[:2]"
      ],
      "execution_count": null,
      "outputs": [
        {
          "output_type": "execute_result",
          "data": {
            "text/plain": [
              "[[0, 1, 2, 3], [4, 5, 6, 7]]"
            ]
          },
          "metadata": {
            "tags": []
          },
          "execution_count": 36
        }
      ]
    },
    {
      "cell_type": "markdown",
      "metadata": {
        "id": "XN8wW9sJLBqX",
        "colab_type": "text"
      },
      "source": [
        "If we want the first value in the first list\n",
        "> Note this is similar to matrix notation, where i denotes the row and j denotes the column, except we are starting at 0"
      ]
    },
    {
      "cell_type": "code",
      "metadata": {
        "id": "KSyqYBrqJRDQ",
        "colab_type": "code",
        "colab": {
          "base_uri": "https://localhost:8080/",
          "height": 35
        },
        "outputId": "61636ce8-ee08-433c-c367-3ee17008bb1a"
      },
      "source": [
        "l[0][0]"
      ],
      "execution_count": null,
      "outputs": [
        {
          "output_type": "execute_result",
          "data": {
            "text/plain": [
              "0"
            ]
          },
          "metadata": {
            "tags": []
          },
          "execution_count": 37
        }
      ]
    },
    {
      "cell_type": "markdown",
      "metadata": {
        "id": "5LwNSKlSLG4O",
        "colab_type": "text"
      },
      "source": [
        "If we only want a few values in the first list"
      ]
    },
    {
      "cell_type": "code",
      "metadata": {
        "id": "iOiC_DocJRDT",
        "colab_type": "code",
        "colab": {
          "base_uri": "https://localhost:8080/",
          "height": 35
        },
        "outputId": "67c38b28-3453-4a9d-c027-f09ef96221fe"
      },
      "source": [
        "l[0][:3]"
      ],
      "execution_count": null,
      "outputs": [
        {
          "output_type": "execute_result",
          "data": {
            "text/plain": [
              "[0, 1, 2]"
            ]
          },
          "metadata": {
            "tags": []
          },
          "execution_count": 38
        }
      ]
    },
    {
      "cell_type": "markdown",
      "metadata": {
        "id": "dlezLAbbLL2V",
        "colab_type": "text"
      },
      "source": [
        "Using in to check if a values is stored in a list\n",
        "\n",
        "> For example, check if the number 8 is stored in the list l"
      ]
    },
    {
      "cell_type": "code",
      "metadata": {
        "id": "0ABdJgsPJRDW",
        "colab_type": "code",
        "colab": {
          "base_uri": "https://localhost:8080/",
          "height": 52
        },
        "outputId": "287f4096-94c5-4d63-ef91-a20f059704e7"
      },
      "source": [
        "print(8 in l)\n",
        "print(8 in l[2])\n",
        "# Why are these different?"
      ],
      "execution_count": null,
      "outputs": [
        {
          "output_type": "stream",
          "text": [
            "False\n",
            "True\n"
          ],
          "name": "stdout"
        }
      ]
    },
    {
      "cell_type": "markdown",
      "metadata": {
        "id": "vKawlu5_LR_U",
        "colab_type": "text"
      },
      "source": [
        "Add two lists together\n",
        "> Why doesn't this do what we expect?"
      ]
    },
    {
      "cell_type": "code",
      "metadata": {
        "id": "FyXHG14-JRDZ",
        "colab_type": "code",
        "colab": {
          "base_uri": "https://localhost:8080/",
          "height": 35
        },
        "outputId": "a8423077-ab9a-4df1-aa26-d6bc1902d52c"
      },
      "source": [
        "l + [10,11,12,13]"
      ],
      "execution_count": null,
      "outputs": [
        {
          "output_type": "execute_result",
          "data": {
            "text/plain": [
              "[[0, 1, 2, 3], [4, 5, 6, 7], [8, 9, 10, 11], 10, 11, 12, 13]"
            ]
          },
          "metadata": {
            "tags": []
          },
          "execution_count": 40
        }
      ]
    },
    {
      "cell_type": "markdown",
      "metadata": {
        "id": "m0cNHdi_LXhb",
        "colab_type": "text"
      },
      "source": [
        "Does this do what we expect?\n",
        "> Note that a list of lists is still maintained"
      ]
    },
    {
      "cell_type": "code",
      "metadata": {
        "id": "6t1stbHiJRDb",
        "colab_type": "code",
        "colab": {
          "base_uri": "https://localhost:8080/",
          "height": 35
        },
        "outputId": "91712012-b813-43b8-dbc8-8d74b227a604"
      },
      "source": [
        "l+[[10,11,12,13]]"
      ],
      "execution_count": null,
      "outputs": [
        {
          "output_type": "execute_result",
          "data": {
            "text/plain": [
              "[[0, 1, 2, 3], [4, 5, 6, 7], [8, 9, 10, 11], [10, 11, 12, 13]]"
            ]
          },
          "metadata": {
            "tags": []
          },
          "execution_count": 41
        }
      ]
    },
    {
      "cell_type": "markdown",
      "metadata": {
        "id": "0nOTZAh7LkHM",
        "colab_type": "text"
      },
      "source": [
        "### Other methods that can be used on lists:\n",
        "- append\n",
        "- insert\n",
        "- remove\n",
        "- del\n",
        "- copy (IMPT for mutability)\n",
        "  \n",
        "### Difference between copy() and redefining a variable\n",
        "- A copy will make a **new** list.\n",
        "- Just using a new variable name will only duplicate the reference, and any changes made will affect the original list."
      ]
    },
    {
      "cell_type": "markdown",
      "metadata": {
        "id": "pSiQWoopR3W-",
        "colab_type": "text"
      },
      "source": [
        "## 4. Dictionaries\n",
        "Dictionaries are an unordered collection of indexed values. They're useful when the position of a value doesn't matter (e.g. whether it's first or last), but there is a substantive way to group or identify values.\n",
        "\n",
        "> For example, the dictionary below allows you to index apple, carrot, and rice, by the type of food group."
      ]
    },
    {
      "cell_type": "code",
      "metadata": {
        "id": "Fth7UlX_JRDh",
        "colab_type": "code",
        "colab": {}
      },
      "source": [
        "dict = {\"fruit\": \"apple\", \"vegetable\": \"carrot\",\"grain\":\"rice\"}"
      ],
      "execution_count": 43,
      "outputs": []
    },
    {
      "cell_type": "code",
      "metadata": {
        "id": "xTez_5K5SuoB",
        "colab_type": "code",
        "colab": {
          "base_uri": "https://localhost:8080/",
          "height": 35
        },
        "outputId": "41d42c82-b7dd-465c-ee6c-c886b7fba1ff"
      },
      "source": [
        "dict[\"fruit\"]"
      ],
      "execution_count": 44,
      "outputs": [
        {
          "output_type": "execute_result",
          "data": {
            "text/plain": [
              "'apple'"
            ]
          },
          "metadata": {
            "tags": []
          },
          "execution_count": 44
        }
      ]
    },
    {
      "cell_type": "code",
      "metadata": {
        "id": "GyF9QoCzS5Mg",
        "colab_type": "code",
        "colab": {
          "base_uri": "https://localhost:8080/",
          "height": 35
        },
        "outputId": "4131c484-5d65-4358-f6b9-f993d6a8257a"
      },
      "source": [
        "dict[\"vegetable\"]\n",
        "# This is kind of similar to a named list in R?"
      ],
      "execution_count": 45,
      "outputs": [
        {
          "output_type": "execute_result",
          "data": {
            "text/plain": [
              "'carrot'"
            ]
          },
          "metadata": {
            "tags": []
          },
          "execution_count": 45
        }
      ]
    },
    {
      "cell_type": "markdown",
      "metadata": {
        "id": "I-y46ABUTANS",
        "colab_type": "text"
      },
      "source": [
        "Dictionaries are made up of key value pairs. In the above example, the keys are: fruit, vegetable, and grain. The values are: apple, carrot, and rice."
      ]
    },
    {
      "cell_type": "code",
      "metadata": {
        "id": "-Rs8RYFfS6ye",
        "colab_type": "code",
        "colab": {
          "base_uri": "https://localhost:8080/",
          "height": 35
        },
        "outputId": "3c4fffb5-7b5b-4ecf-86d6-8b09d0aaa0e5"
      },
      "source": [
        "dict.keys()"
      ],
      "execution_count": 56,
      "outputs": [
        {
          "output_type": "execute_result",
          "data": {
            "text/plain": [
              "dict_keys"
            ]
          },
          "metadata": {
            "tags": []
          },
          "execution_count": 56
        }
      ]
    },
    {
      "cell_type": "code",
      "metadata": {
        "id": "n6TS8bDgTMMw",
        "colab_type": "code",
        "colab": {
          "base_uri": "https://localhost:8080/",
          "height": 35
        },
        "outputId": "f8a46e7b-7f23-4d19-c163-b6b0c8cb769b"
      },
      "source": [
        "dict.values()"
      ],
      "execution_count": 52,
      "outputs": [
        {
          "output_type": "execute_result",
          "data": {
            "text/plain": [
              "dict_values(['apple', 'carrot', 'rice'])"
            ]
          },
          "metadata": {
            "tags": []
          },
          "execution_count": 52
        }
      ]
    },
    {
      "cell_type": "markdown",
      "metadata": {
        "id": "1EbkohL6T3P3",
        "colab_type": "text"
      },
      "source": [
        "- What type of object is returned above?\n",
        "- How might you turn it into a list?"
      ]
    },
    {
      "cell_type": "markdown",
      "metadata": {
        "id": "joYzchN7Td37",
        "colab_type": "text"
      },
      "source": [
        "You can attribute multiple values to a single key, by using lists."
      ]
    },
    {
      "cell_type": "code",
      "metadata": {
        "id": "w7ojCmYmTc4Q",
        "colab_type": "code",
        "colab": {}
      },
      "source": [
        "dict = {\"fruit\":[\"apple\",\"strawberry\",\"banana\"], \"vegetable\" : [\"carrot\",\"spinach\",\"broccoli\"], \"grain\": [\"rice\",\"bread\",\"wheat\"]}"
      ],
      "execution_count": 57,
      "outputs": []
    },
    {
      "cell_type": "code",
      "metadata": {
        "id": "cWtdTTBLTO66",
        "colab_type": "code",
        "colab": {
          "base_uri": "https://localhost:8080/",
          "height": 35
        },
        "outputId": "b3a84325-ddbb-4891-ee92-5cb1d344f057"
      },
      "source": [
        "dict.keys()"
      ],
      "execution_count": 59,
      "outputs": [
        {
          "output_type": "execute_result",
          "data": {
            "text/plain": [
              "dict_keys(['fruit', 'vegetable', 'grain'])"
            ]
          },
          "metadata": {
            "tags": []
          },
          "execution_count": 59
        }
      ]
    },
    {
      "cell_type": "code",
      "metadata": {
        "id": "FFPPfxcRTxhb",
        "colab_type": "code",
        "colab": {
          "base_uri": "https://localhost:8080/",
          "height": 35
        },
        "outputId": "ad9524b3-27f8-43fa-d6c1-5740f4ee41ed"
      },
      "source": [
        "dict.values()"
      ],
      "execution_count": 60,
      "outputs": [
        {
          "output_type": "execute_result",
          "data": {
            "text/plain": [
              "dict_values([['apple', 'strawberry', 'banana'], ['carrot', 'spinach', 'broccoli'], ['rice', 'bread', 'wheat']])"
            ]
          },
          "metadata": {
            "tags": []
          },
          "execution_count": 60
        }
      ]
    },
    {
      "cell_type": "code",
      "metadata": {
        "id": "VmBkL___VMV7",
        "colab_type": "code",
        "colab": {
          "base_uri": "https://localhost:8080/",
          "height": 35
        },
        "outputId": "b9ed58a5-5158-4a2a-fce2-3b165af03f31"
      },
      "source": [
        "dict.items()"
      ],
      "execution_count": 63,
      "outputs": [
        {
          "output_type": "execute_result",
          "data": {
            "text/plain": [
              "dict_items([('fruit', ['apple', 'strawberry', 'banana']), ('vegetable', ['carrot', 'spinach', 'broccoli']), ('grain', ['rice', 'bread', 'wheat'])])"
            ]
          },
          "metadata": {
            "tags": []
          },
          "execution_count": 63
        }
      ]
    },
    {
      "cell_type": "markdown",
      "metadata": {
        "id": "iOQlwahZUBJJ",
        "colab_type": "text"
      },
      "source": [
        "- Can you create a dictionary of dictionaries?"
      ]
    },
    {
      "cell_type": "markdown",
      "metadata": {
        "id": "D_u_hJ_nUMrR",
        "colab_type": "text"
      },
      "source": [
        "## 5. Iteration\n",
        "\n",
        "Lists and dictionaries both iterators, meaning they can be iterated upon.\n",
        "\n",
        "Like in R and in Stata, you can iterate over a list or a dictionary in either a for loop or a while loop.\n",
        "\n",
        "- For example, a for loop:"
      ]
    },
    {
      "cell_type": "code",
      "metadata": {
        "id": "Y8Jh38EbUR6j",
        "colab_type": "code",
        "colab": {
          "base_uri": "https://localhost:8080/",
          "height": 104
        },
        "outputId": "b2175610-7e9c-4681-dd2e-19f2184e467d"
      },
      "source": [
        "for i in [0, 1, 2, 3, 4]:\n",
        "  print(i)"
      ],
      "execution_count": 61,
      "outputs": [
        {
          "output_type": "stream",
          "text": [
            "0\n",
            "1\n",
            "2\n",
            "3\n",
            "4\n"
          ],
          "name": "stdout"
        }
      ]
    },
    {
      "cell_type": "code",
      "metadata": {
        "id": "g_JRQ6cdUoKb",
        "colab_type": "code",
        "colab": {
          "base_uri": "https://localhost:8080/",
          "height": 69
        },
        "outputId": "77ae1ce2-9fac-48b1-ce5b-e38def113729"
      },
      "source": [
        "for i in dict:\n",
        "  print(dict[i])"
      ],
      "execution_count": 62,
      "outputs": [
        {
          "output_type": "stream",
          "text": [
            "['apple', 'strawberry', 'banana']\n",
            "['carrot', 'spinach', 'broccoli']\n",
            "['rice', 'bread', 'wheat']\n"
          ],
          "name": "stdout"
        }
      ]
    },
    {
      "cell_type": "markdown",
      "metadata": {
        "id": "t3ASGPN9U_A7",
        "colab_type": "text"
      },
      "source": [
        "> Note: Python can tell that we want to iterate over the keys."
      ]
    },
    {
      "cell_type": "code",
      "metadata": {
        "id": "pNzmJymOU7WO",
        "colab_type": "code",
        "colab": {
          "base_uri": "https://localhost:8080/",
          "height": 121
        },
        "outputId": "758631c6-25f3-4c4f-dea7-4011c9c77e10"
      },
      "source": [
        "for i,j in dict.items():\n",
        "  print(i)\n",
        "  print(j)"
      ],
      "execution_count": 69,
      "outputs": [
        {
          "output_type": "stream",
          "text": [
            "fruit\n",
            "['apple', 'strawberry', 'banana']\n",
            "vegetable\n",
            "['carrot', 'spinach', 'broccoli']\n",
            "grain\n",
            "['rice', 'bread', 'wheat']\n"
          ],
          "name": "stdout"
        }
      ]
    },
    {
      "cell_type": "code",
      "metadata": {
        "id": "GFi_sPZBVSNL",
        "colab_type": "code",
        "colab": {}
      },
      "source": [
        "for "
      ],
      "execution_count": null,
      "outputs": []
    }
  ]
}