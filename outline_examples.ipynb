{
 "cells": [
  {
   "cell_type": "markdown",
   "metadata": {},
   "source": [
    "# Outline Sections\n",
    "## 1. Literal Constants"
   ]
  },
  {
   "cell_type": "code",
   "execution_count": 7,
   "metadata": {},
   "outputs": [],
   "source": [
    "# Put comments into the markdown.\n",
    "# Put into github repo, and then bring into Google COLAB.\n",
    "# Literal constants cannot be changed. They can be:\n",
    "# a) a number\n",
    "\n",
    "# E.g.\n",
    "5\n",
    "\n",
    "# b) a string\n",
    "\"string\"\n",
    "\n",
    "# They can be assigned to a variable, but the idea is that they don't change.\n",
    "x = 5\n",
    "y = \"string\""
   ]
  },
  {
   "cell_type": "markdown",
   "metadata": {},
   "source": [
    "## 2. Types of numeric values"
   ]
  },
  {
   "cell_type": "code",
   "execution_count": 9,
   "metadata": {},
   "outputs": [
    {
     "data": {
      "text/plain": [
       "int"
      ]
     },
     "execution_count": 9,
     "metadata": {},
     "output_type": "execute_result"
    }
   ],
   "source": [
    "# There are 3 different types of numbers in Python\n",
    "# Integers (int), Floats (float), and Complex numbers (complex)\n",
    "\n",
    "# Integers vs. Floats\n",
    "# Integers are what we usually think of as integers. Floats are any number with a decimal point.\n",
    "\n",
    "# You can check the type (actually, the class, but we'll get to that!) with the type() function\n",
    "# Example of an integer\n",
    "type(5)"
   ]
  },
  {
   "cell_type": "code",
   "execution_count": 10,
   "metadata": {},
   "outputs": [
    {
     "data": {
      "text/plain": [
       "float"
      ]
     },
     "execution_count": 10,
     "metadata": {},
     "output_type": "execute_result"
    }
   ],
   "source": [
    "# Example of a float\n",
    "type(10.6)"
   ]
  },
  {
   "cell_type": "code",
   "execution_count": 12,
   "metadata": {},
   "outputs": [
    {
     "data": {
      "text/plain": [
       "complex"
      ]
     },
     "execution_count": 12,
     "metadata": {},
     "output_type": "execute_result"
    }
   ],
   "source": [
    "# Example of a complex number\n",
    "type(10 + 3j)"
   ]
  },
  {
   "cell_type": "code",
   "execution_count": 14,
   "metadata": {},
   "outputs": [
    {
     "data": {
      "text/plain": [
       "int"
      ]
     },
     "execution_count": 14,
     "metadata": {},
     "output_type": "execute_result"
    }
   ],
   "source": [
    "# There isn't any \"long\" numeric type, integers can have any number of digits\n",
    "type(10000000000000)"
   ]
  },
  {
   "cell_type": "markdown",
   "metadata": {},
   "source": [
    "## 3. Lists"
   ]
  },
  {
   "cell_type": "code",
   "execution_count": 15,
   "metadata": {},
   "outputs": [
    {
     "data": {
      "text/plain": [
       "list"
      ]
     },
     "execution_count": 15,
     "metadata": {},
     "output_type": "execute_result"
    }
   ],
   "source": [
    "# The list class: an ordered collection of values.\n",
    "\n",
    "# Can be any type of value!\n",
    "# E.g. integer values\n",
    "type([0,1,2,3])"
   ]
  },
  {
   "cell_type": "code",
   "execution_count": 19,
   "metadata": {},
   "outputs": [
    {
     "data": {
      "text/plain": [
       "list"
      ]
     },
     "execution_count": 19,
     "metadata": {},
     "output_type": "execute_result"
    }
   ],
   "source": [
    "# Strings\n",
    "type([\"a\",\"b\",\"c\",\"d\"])"
   ]
  },
  {
   "cell_type": "code",
   "execution_count": 22,
   "metadata": {},
   "outputs": [
    {
     "name": "stdout",
     "output_type": "stream",
     "text": [
      "0\n",
      "3\n"
     ]
    }
   ],
   "source": [
    "# You can extract a value stored in a list by indexing\n",
    "l = [0,1,2,3,4]\n",
    "\n",
    "# Note: everything in python starts at 0 (not 1, like in R)\n",
    "print(l[0])\n",
    "print(l[3])"
   ]
  },
  {
   "cell_type": "code",
   "execution_count": 29,
   "metadata": {},
   "outputs": [
    {
     "name": "stdout",
     "output_type": "stream",
     "text": [
      "0\n",
      "6\n",
      "[0, 1, 2]\n",
      "[0, 1, 2]\n"
     ]
    }
   ],
   "source": [
    "# If you want multiple values stored in a list you can extract them individually\n",
    "print(l[0])\n",
    "print(l[3])\n",
    "\n",
    "# Or you can slice the list by specifying multiple index positions\n",
    "# A list will be returned\n",
    "print(l[0:3])\n",
    "\n",
    "# We get the same result, if we also write it this way:\n",
    "# Note that the last value in the range of values specified is not returned\n",
    "print(l[:3])"
   ]
  },
  {
   "cell_type": "code",
   "execution_count": 28,
   "metadata": {},
   "outputs": [
    {
     "name": "stdout",
     "output_type": "stream",
     "text": [
      "[0, 1, 2, 3, 4]\n",
      "[0, 1, 2, 6, 4]\n"
     ]
    }
   ],
   "source": [
    "# Lists are changeable\n",
    "l = [0,1,2,3,4]\n",
    "\n",
    "print(l)\n",
    "\n",
    "l[3] = 6\n",
    "print(l)"
   ]
  },
  {
   "cell_type": "code",
   "execution_count": 41,
   "metadata": {},
   "outputs": [
    {
     "data": {
      "text/plain": [
       "[0, 1, 2, 3]"
      ]
     },
     "execution_count": 41,
     "metadata": {},
     "output_type": "execute_result"
    }
   ],
   "source": [
    "# You can stores lists in lists\n",
    "# Since there are no matrices in Python, this is one way of creating a matrix.\n",
    "# It can also be useful for nested for loops\n",
    "# For example:\n",
    "l = [[0,1,2,3],[4,5,6,7],[8,9,10,11]]\n",
    "\n",
    "# If we want the first list stored in the list:\n",
    "# Note that a list object is returned.\n",
    "l[0]"
   ]
  },
  {
   "cell_type": "code",
   "execution_count": 42,
   "metadata": {},
   "outputs": [
    {
     "data": {
      "text/plain": [
       "[[0, 1, 2, 3], [4, 5, 6, 7]]"
      ]
     },
     "execution_count": 42,
     "metadata": {},
     "output_type": "execute_result"
    }
   ],
   "source": [
    "# If we want the first and second list\n",
    "# Note that we still get a list of lists\n",
    "l[:2]"
   ]
  },
  {
   "cell_type": "code",
   "execution_count": 43,
   "metadata": {},
   "outputs": [
    {
     "data": {
      "text/plain": [
       "0"
      ]
     },
     "execution_count": 43,
     "metadata": {},
     "output_type": "execute_result"
    }
   ],
   "source": [
    "# If we want the first value in the first list\n",
    "l[0][0]\n",
    "# This is similar to matrix notation, where i denotes the row and j denotes the column, except we are starting at 0"
   ]
  },
  {
   "cell_type": "code",
   "execution_count": 44,
   "metadata": {},
   "outputs": [
    {
     "data": {
      "text/plain": [
       "[0, 1, 2]"
      ]
     },
     "execution_count": 44,
     "metadata": {},
     "output_type": "execute_result"
    }
   ],
   "source": [
    "# If we only want a few values in the first list\n",
    "l[0][:3]"
   ]
  },
  {
   "cell_type": "code",
   "execution_count": 45,
   "metadata": {},
   "outputs": [
    {
     "name": "stdout",
     "output_type": "stream",
     "text": [
      "False\n",
      "True\n"
     ]
    }
   ],
   "source": [
    "# Using in to check if a values is stored in a list\n",
    "# Check if the number 8 is stored in the list l\n",
    "\n",
    "print(8 in l)\n",
    "print(8 in l[2])\n",
    "# Why are these different?"
   ]
  },
  {
   "cell_type": "code",
   "execution_count": 49,
   "metadata": {},
   "outputs": [
    {
     "data": {
      "text/plain": [
       "[[0, 1, 2, 3], [4, 5, 6, 7], [8, 9, 10, 11], [10, 11, 12, 13]]"
      ]
     },
     "execution_count": 49,
     "metadata": {},
     "output_type": "execute_result"
    }
   ],
   "source": [
    "# Add two lists together\n",
    "# Why doesn't this do what we expect?\n",
    "l + [10,11,12,13]"
   ]
  },
  {
   "cell_type": "code",
   "execution_count": 50,
   "metadata": {},
   "outputs": [
    {
     "data": {
      "text/plain": [
       "[[0, 1, 2, 3], [4, 5, 6, 7], [8, 9, 10, 11], [10, 11, 12, 13]]"
      ]
     },
     "execution_count": 50,
     "metadata": {},
     "output_type": "execute_result"
    }
   ],
   "source": [
    "# Does this do what we expect?\n",
    "# Note that a list of lists is still maintained\n",
    "l+[[10,11,12,13]]"
   ]
  },
  {
   "cell_type": "code",
   "execution_count": 51,
   "metadata": {},
   "outputs": [],
   "source": [
    "# Other methods that can be used on lists:\n",
    "# append\n",
    "# insert\n",
    "# remove\n",
    "# del\n",
    "# copy (IMPT for mutability)\n",
    "    # Difference between copy() and redefining a variable\n",
    "    # A copy will make a new list. Just using a new variable name will only duplicate the reference, and any changes\n",
    "    # made will affect the original list."
   ]
  },
  {
   "cell_type": "code",
   "execution_count": null,
   "metadata": {},
   "outputs": [],
   "source": []
  }
 ],
 "metadata": {
  "kernelspec": {
   "display_name": "Python 3",
   "language": "python",
   "name": "python3"
  },
  "language_info": {
   "codemirror_mode": {
    "name": "ipython",
    "version": 3
   },
   "file_extension": ".py",
   "mimetype": "text/x-python",
   "name": "python",
   "nbconvert_exporter": "python",
   "pygments_lexer": "ipython3",
   "version": "3.7.5"
  }
 },
 "nbformat": 4,
 "nbformat_minor": 2
}
