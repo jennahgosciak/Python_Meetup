{
  "nbformat": 4,
  "nbformat_minor": 0,
  "metadata": {
    "colab": {
      "name": "Python_Challenge_JG.ipynb",
      "provenance": [],
      "collapsed_sections": [],
      "toc_visible": true,
      "authorship_tag": "ABX9TyMcVkRtI4/b4ye0iGBRIRtN",
      "include_colab_link": true
    },
    "kernelspec": {
      "name": "python3",
      "display_name": "Python 3"
    }
  },
  "cells": [
    {
      "cell_type": "markdown",
      "metadata": {
        "id": "view-in-github",
        "colab_type": "text"
      },
      "source": [
        "<a href=\"https://colab.research.google.com/github/jennahgosciak/Python_Meetup/blob/master/Python_Challenge_JG.ipynb\" target=\"_parent\"><img src=\"https://colab.research.google.com/assets/colab-badge.svg\" alt=\"Open In Colab\"/></a>"
      ]
    },
    {
      "cell_type": "code",
      "metadata": {
        "id": "5M8IUXJRbuim"
      },
      "source": [
        "import matplotlib.pyplot as plt\n",
        "import requests\n",
        "import re"
      ],
      "execution_count": 1,
      "outputs": []
    },
    {
      "cell_type": "markdown",
      "metadata": {
        "id": "WsMxqnaSaC7f"
      },
      "source": [
        "# Python Challenge\n",
        "## For loop iteration with a list\n",
        "\n",
        "(1) Complete a function (started below) that identifies whether some number \"x\" is in the ordered list l.\n",
        "\n",
        "There are different ways to approach this!"
      ]
    },
    {
      "cell_type": "code",
      "metadata": {
        "id": "qxiNHxblX3lQ",
        "outputId": "6a1a374e-5374-45fc-efe2-72b942fc86e6",
        "colab": {
          "base_uri": "https://localhost:8080/",
          "height": 35
        }
      },
      "source": [
        "# To produce a list of numbers use range and list\n",
        "l = list(range(10))\n",
        "l"
      ],
      "execution_count": 2,
      "outputs": [
        {
          "output_type": "execute_result",
          "data": {
            "text/plain": [
              "[0, 1, 2, 3, 4, 5, 6, 7, 8, 9]"
            ]
          },
          "metadata": {
            "tags": []
          },
          "execution_count": 2
        }
      ]
    },
    {
      "cell_type": "markdown",
      "metadata": {
        "id": "z8vjswjULJwu"
      },
      "source": [
        "*Range* produces a sequence of numbers ([documentation](https://docs.python.org/3.3/library/stdtypes.html?highlight=range#range)).\n",
        "\n",
        "A range type can be converted into a list using the constructor *list()* ([documentation](https://https://docs.python.org/3.3/library/stdtypes.html?highlight=range#lists)).\n",
        "\n",
        "Note the difference in the two examples below."
      ]
    },
    {
      "cell_type": "code",
      "metadata": {
        "id": "d2rx_RMuLIuw",
        "outputId": "fb713833-e3ad-47dd-897e-924be15c9273",
        "colab": {
          "base_uri": "https://localhost:8080/",
          "height": 35
        }
      },
      "source": [
        "type(range(10))"
      ],
      "execution_count": 3,
      "outputs": [
        {
          "output_type": "execute_result",
          "data": {
            "text/plain": [
              "range"
            ]
          },
          "metadata": {
            "tags": []
          },
          "execution_count": 3
        }
      ]
    },
    {
      "cell_type": "code",
      "metadata": {
        "id": "D_O-yXNOMLIr",
        "outputId": "f220905f-d59c-437e-a649-79611ea960c1",
        "colab": {
          "base_uri": "https://localhost:8080/",
          "height": 35
        }
      },
      "source": [
        "type(list(range(10)))"
      ],
      "execution_count": 4,
      "outputs": [
        {
          "output_type": "execute_result",
          "data": {
            "text/plain": [
              "list"
            ]
          },
          "metadata": {
            "tags": []
          },
          "execution_count": 4
        }
      ]
    },
    {
      "cell_type": "markdown",
      "metadata": {
        "id": "VXOj4KGzaY0U"
      },
      "source": [
        "The simple way of doing this:"
      ]
    },
    {
      "cell_type": "code",
      "metadata": {
        "id": "Bl3w8tkZaV2E",
        "outputId": "fa99d1c6-b669-41f5-c13c-66cdab100e9b",
        "colab": {
          "base_uri": "https://localhost:8080/",
          "height": 35
        }
      },
      "source": [
        "5 in l"
      ],
      "execution_count": 5,
      "outputs": [
        {
          "output_type": "execute_result",
          "data": {
            "text/plain": [
              "True"
            ]
          },
          "metadata": {
            "tags": []
          },
          "execution_count": 5
        }
      ]
    },
    {
      "cell_type": "markdown",
      "metadata": {
        "id": "N4BgR9bcabOq"
      },
      "source": [
        "Now write a function that does the same thing using a loop:"
      ]
    },
    {
      "cell_type": "code",
      "metadata": {
        "id": "lc2TAkL3Zr79"
      },
      "source": [
        "def place_number(x,l):\n",
        "  \"\"\"\n",
        "  Identify whether x is in the ordered list l.\n",
        "  Use a docstring to describe what you want the function to do.\n",
        "  \"\"\"\n",
        "  \n",
        "  ## See below for an example of a conditional statement in Python.\n",
        "  for i in l:\n",
        "    if i == x:\n",
        "      return True\n",
        "  return False"
      ],
      "execution_count": 22,
      "outputs": []
    },
    {
      "cell_type": "code",
      "metadata": {
        "id": "dxHQ9zzFatVC"
      },
      "source": [
        "l = list(range(10))\n",
        "print(l)\n",
        "\n",
        "# Check that the function worked\n",
        "assert place_number(3,l) == True\n",
        "assert place_number(10,l) == False"
      ],
      "execution_count": 11,
      "outputs": []
    },
    {
      "cell_type": "markdown",
      "metadata": {
        "id": "_RE-2sje52Kp"
      },
      "source": [
        "# Python Challenge\n",
        "## For loop iteration with a dictionary"
      ]
    },
    {
      "cell_type": "markdown",
      "metadata": {
        "id": "K4w6ZxNcdMDP"
      },
      "source": [
        "(2) Complete a function (started below) that identifies reads through a mail log, builds a histogram using a dictionary to count how many messages have come from each email address, and print the dictionary."
      ]
    },
    {
      "cell_type": "code",
      "metadata": {
        "id": "CSvSvqG9Pz01"
      },
      "source": [
        "url = \"http://www.py4inf.com/code/mbox-short.txt\"\n",
        "response = requests.get(url)\n",
        "file = response.text"
      ],
      "execution_count": 12,
      "outputs": []
    },
    {
      "cell_type": "code",
      "metadata": {
        "id": "O5zezFwMQKGt",
        "outputId": "5d349da5-02f5-4ac7-e91c-3ce19734921d",
        "colab": {
          "base_uri": "https://localhost:8080/",
          "height": 35
        }
      },
      "source": [
        "type(file)"
      ],
      "execution_count": 13,
      "outputs": [
        {
          "output_type": "execute_result",
          "data": {
            "text/plain": [
              "str"
            ]
          },
          "metadata": {
            "tags": []
          },
          "execution_count": 13
        }
      ]
    },
    {
      "cell_type": "code",
      "metadata": {
        "id": "04dMRsygRi3O"
      },
      "source": [
        "def count_emails(file):\n",
        "  emails = re.findall(\"[:A-z:]+(?=@)\", file)\n",
        "  dict = {}\n",
        "\n",
        "  # Create a dictionary with the number of times the name appears in the text file\n",
        "  for name in emails:\n",
        "    if name in dict.keys():\n",
        "      dict[str(name)] += 1\n",
        "    else:\n",
        "      dict[str(name)] = 1\n",
        "\n",
        "  # Iterate through the dictionary and identify which name appears the most times\n",
        "  for name, value in dict.items():\n",
        "    max = value\n",
        "    max_name = name\n",
        "    if value > max:\n",
        "      max = value\n",
        "      max_name = name\n",
        "\n",
        "  # Print out who has the most emails\n",
        "  print(\"has the most emails in the file.\")\n",
        "  print(\"\")\n",
        "  \n",
        "  return(dict)"
      ],
      "execution_count": 14,
      "outputs": []
    },
    {
      "cell_type": "code",
      "metadata": {
        "id": "bzBbvUlfTflf",
        "outputId": "0fdeaba8-dc69-41a2-ce0e-0f24d2cd223d",
        "colab": {
          "base_uri": "https://localhost:8080/",
          "height": 52
        }
      },
      "source": [
        "email_dict = count_emails(file)"
      ],
      "execution_count": 15,
      "outputs": [
        {
          "output_type": "stream",
          "text": [
            "has the most emails in the file.\n",
            "\n"
          ],
          "name": "stdout"
        }
      ]
    },
    {
      "cell_type": "code",
      "metadata": {
        "id": "2H6U5wj8YPgF",
        "outputId": "cef946d0-2cf5-4fe0-9095-daa6e83df3b3",
        "colab": {
          "base_uri": "https://localhost:8080/",
          "height": 55
        }
      },
      "source": [
        "print(email_dict)"
      ],
      "execution_count": 16,
      "outputs": [
        {
          "output_type": "stream",
          "text": [
            "{'marquard': 8, 'postmaster': 27, 'source': 135, 'apache': 27, 'louis': 12, 'zqian': 17, 'rjlowe': 8, 'cwen': 20, 'gsilver': 12, 'wagnermr': 6, 'antranig': 4, 'ramasammycook': 4, 'horwitz': 17, 'dhorwitz': 4, 'josrodri': 2, 'ray': 4}\n"
          ],
          "name": "stdout"
        }
      ]
    },
    {
      "cell_type": "code",
      "metadata": {
        "id": "UnX3Taz6YTe3",
        "outputId": "96ac6201-89c6-4a5b-ca4f-174ed2b61137",
        "colab": {
          "base_uri": "https://localhost:8080/",
          "height": 390
        }
      },
      "source": [
        "plt.figure(figsize = (12,6))\n",
        "plt.bar(*zip(*email_dict.items()), color = \"Coral\", width = .8)\n",
        "plt.title(\"Histogram of emails in text file\")\n",
        "plt.show()"
      ],
      "execution_count": 17,
      "outputs": [
        {
          "output_type": "display_data",
          "data": {
            "image/png": "[encoded data removed]",
            "text/plain": [
              "<Figure size 864x432 with 1 Axes>"
            ]
          },
          "metadata": {
            "tags": [],
            "needs_background": "light"
          }
        }
      ]
    },
    {
      "cell_type": "code",
      "metadata": {
        "id": "Xx5gMNOcYU30",
        "outputId": "aaadbf50-4629-4c84-9988-f31fc4fdd64b",
        "colab": {
          "base_uri": "https://localhost:8080/",
          "height": 72
        }
      },
      "source": [
        "# To see what is happening with zip, * unzips the dictionary key, value pairs:\n",
        "print(email_dict.items())\n",
        "unzipped_output = zip(*email_dict.items())\n",
        "print(unzipped_output)"
      ],
      "execution_count": 18,
      "outputs": [
        {
          "output_type": "stream",
          "text": [
            "dict_items([('marquard', 8), ('postmaster', 27), ('source', 135), ('apache', 27), ('louis', 12), ('zqian', 17), ('rjlowe', 8), ('cwen', 20), ('gsilver', 12), ('wagnermr', 6), ('antranig', 4), ('ramasammycook', 4), ('horwitz', 17), ('dhorwitz', 4), ('josrodri', 2), ('ray', 4)])\n",
            "<zip object at 0x7fcb435f68c8>\n"
          ],
          "name": "stdout"
        }
      ]
    },
    {
      "cell_type": "code",
      "metadata": {
        "id": "Kg84YJyIYzia",
        "outputId": "66b75fdd-b7c5-42b0-a069-3b2c92db6c2d",
        "colab": {
          "base_uri": "https://localhost:8080/",
          "height": 89
        }
      },
      "source": [
        "x,y = unzipped_output\n",
        "print(x)\n",
        "print(y)\n",
        "print(*(x,y))"
      ],
      "execution_count": 19,
      "outputs": [
        {
          "output_type": "stream",
          "text": [
            "('marquard', 'postmaster', 'source', 'apache', 'louis', 'zqian', 'rjlowe', 'cwen', 'gsilver', 'wagnermr', 'antranig', 'ramasammycook', 'horwitz', 'dhorwitz', 'josrodri', 'ray')\n",
            "(8, 27, 135, 27, 12, 17, 8, 20, 12, 6, 4, 4, 17, 4, 2, 4)\n",
            "('marquard', 'postmaster', 'source', 'apache', 'louis', 'zqian', 'rjlowe', 'cwen', 'gsilver', 'wagnermr', 'antranig', 'ramasammycook', 'horwitz', 'dhorwitz', 'josrodri', 'ray') (8, 27, 135, 27, 12, 17, 8, 20, 12, 6, 4, 4, 17, 4, 2, 4)\n"
          ],
          "name": "stdout"
        }
      ]
    },
    {
      "cell_type": "code",
      "metadata": {
        "id": "wNbHfDgEZ2kD",
        "outputId": "d18a8005-3f67-4111-d399-5f8006f0addf",
        "colab": {
          "base_uri": "https://localhost:8080/",
          "height": 52
        }
      },
      "source": [
        "print(type(x))\n",
        "print(type(y))"
      ],
      "execution_count": 20,
      "outputs": [
        {
          "output_type": "stream",
          "text": [
            "<class 'tuple'>\n",
            "<class 'tuple'>\n"
          ],
          "name": "stdout"
        }
      ]
    },
    {
      "cell_type": "code",
      "metadata": {
        "id": "M_0OiO1_bQiT"
      },
      "source": [
        ""
      ],
      "execution_count": 20,
      "outputs": []
    }
  ]
}