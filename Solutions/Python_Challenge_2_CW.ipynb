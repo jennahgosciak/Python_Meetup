{
  "nbformat": 4,
  "nbformat_minor": 0,
  "metadata": {
    "colab": {
      "name": "Python_Challenge_2",
      "provenance": [],
      "collapsed_sections": [],
      "toc_visible": true
    },
    "kernelspec": {
      "name": "python3",
      "display_name": "Python 3"
    }
  },
  "cells": [
    {
      "cell_type": "code",
      "metadata": {
        "id": "TldGQXKsPeDU"
      },
      "source": [
        "import numpy as np\r\n",
        "import matplotlib.pyplot as plt"
      ],
      "execution_count": 28,
      "outputs": []
    },
    {
      "cell_type": "markdown",
      "metadata": {
        "id": "Z7sXI_bS-rVM"
      },
      "source": [
        "# Simulate a coin flip\r\n",
        "1. Write a function that simulates a coin flip using the `randint()` function from random module of the numpy library. The function should return 0 or 1."
      ]
    },
    {
      "cell_type": "code",
      "metadata": {
        "id": "uIA0-AfMPgNT"
      },
      "source": [
        "def coin_flip() :\n",
        "  \"\"\"\n",
        "  The function simulates a coin flip. It returns 0 or 1.\n",
        "  \"\"\"\n",
        "  flip = np.random.randint(0, 2)\n",
        "  return flip"
      ],
      "execution_count": 29,
      "outputs": []
    },
    {
      "cell_type": "markdown",
      "metadata": {
        "id": "nh8Tg4tNPKN5"
      },
      "source": [
        "2. Let 1 represent tails. Count the number of times tails is thrown in 10 coin flips. Repeat this 1000 times and store the final count of tails from each set of 10 flips in a list."
      ]
    },
    {
      "cell_type": "code",
      "metadata": {
        "id": "FWU-6hJyNvjC"
      },
      "source": [
        "# set a seed number\r\n",
        "np.random.seed(123)\r\n",
        "\r\n",
        "# define empty list to store number of tails from each set of 10 flips\r\n",
        "final_tails = []\r\n",
        "\r\n",
        "for x in range(1000) :    \r\n",
        "  tails = 0\r\n",
        "  for x in range(10) :         \r\n",
        "    tails = tails + coin_flip() \r\n",
        "  final_tails.append(tails)"
      ],
      "execution_count": 52,
      "outputs": []
    },
    {
      "cell_type": "markdown",
      "metadata": {
        "id": "TLX-fZIiN05Q"
      },
      "source": [
        "3. Plot the final tails count in a histogram using the `hist()` function from the pyplot module of the matplotlib library. Use 10 bins in the histogram.\r\n",
        "Remember to use the `show()` function to display the histogram."
      ]
    },
    {
      "cell_type": "code",
      "metadata": {
        "colab": {
          "base_uri": "https://localhost:8080/",
          "height": 268
        },
        "id": "cjkoz4aM2WF8",
        "outputId": "9e4f5585-03b2-42c1-a883-eedfd4a9e5c0"
      },
      "source": [
        "plt.hist(final_tails, bins = 10)\n",
        "plt.show()"
      ],
      "execution_count": 53,
      "outputs": [
        {
          "output_type": "display_data",
          "data": {
            "image/png": "[encoded data removed]",
            "text/plain": [
              "<Figure size 432x288 with 1 Axes>"
            ]
          },
          "metadata": {
            "tags": [],
            "needs_background": "light"
          }
        }
      ]
    },
    {
      "cell_type": "markdown",
      "metadata": {
        "id": "7q_HF3zS-xGq"
      },
      "source": [
        "# Rock, paper, scissors\r\n",
        "1. Write a series of function to play a Rock, Paper, Scissors game against the computer. First, write a function that takes the players choice of rock, paper, or scissors. Use the `input()` function to allow the player to enter 1 for rock, 2 for paper, or 3 for scissors.\r\n",
        "\r\n",
        "    **Bonus**: Include error-handling in your function."
      ]
    },
    {
      "cell_type": "code",
      "metadata": {
        "colab": {
          "base_uri": "https://localhost:8080/"
        },
        "id": "v2S-0gNXVC4F",
        "outputId": "b8883845-d5c2-49b5-a97d-f9f1ebe4ace4"
      },
      "source": [
        "def player_choice() :\r\n",
        "  \"\"\"\r\n",
        "  The function takes the players input for:\r\n",
        "  1 = Rock\r\n",
        "  2 = Paper\r\n",
        "  3 = Scissors\r\n",
        "  \"\"\"\r\n",
        "  print(\"Enter choice \\n 1. rock \\n 2. paper \\n 3. scissor \\n\") \r\n",
        "  choice = input(\"User turn: \")\r\n",
        "\r\n",
        "  if choice not in (\"1\",\"2\",\"3\") :\r\n",
        "    raise ValueError(\"Invalid choice!! Must be 1, 2, or 3\")\r\n",
        "\r\n",
        "  return int(choice)\r\n",
        "\r\n",
        "player_choice()\r\n"
      ],
      "execution_count": 103,
      "outputs": [
        {
          "output_type": "stream",
          "text": [
            "Enter choice \n",
            " 1. rock \n",
            " 2. paper \n",
            " 3. scissor \n",
            "\n",
            "User turn: 2\n"
          ],
          "name": "stdout"
        },
        {
          "output_type": "execute_result",
          "data": {
            "text/plain": [
              "2"
            ]
          },
          "metadata": {
            "tags": []
          },
          "execution_count": 103
        }
      ]
    },
    {
      "cell_type": "markdown",
      "metadata": {
        "id": "Ce048bKVV7k3"
      },
      "source": [
        "2. Write a function that returns the computer's choice. The function should randomly return 1, 2, or 3."
      ]
    },
    {
      "cell_type": "code",
      "metadata": {
        "id": "iU_gyQ0wWSgz"
      },
      "source": [
        "def comp_choice() :\r\n",
        "  \"\"\"\r\n",
        "  The function returns a random choice for the computer:\r\n",
        "  1 = Rock\r\n",
        "  2 = Paper\r\n",
        "  3 = Scissors\r\n",
        "  \"\"\"\r\n",
        "  choice = np.random.randint(1, 4)\r\n",
        "  return choice"
      ],
      "execution_count": 81,
      "outputs": []
    },
    {
      "cell_type": "markdown",
      "metadata": {
        "id": "_uv7D16jX3Mi"
      },
      "source": [
        "3. Define a dictionary that translates 1, 2, or 3 into the string \"rock\", \"paper\", or \"scissors\"."
      ]
    },
    {
      "cell_type": "code",
      "metadata": {
        "id": "oQ-mT1PTXj9x"
      },
      "source": [
        "choices = {\r\n",
        "   1 : \"rock\",\r\n",
        "   2 : \"paper\",\r\n",
        "   3 : \"scissors\"\r\n",
        "}"
      ],
      "execution_count": 82,
      "outputs": []
    },
    {
      "cell_type": "markdown",
      "metadata": {
        "id": "klnNHOmlYd9F"
      },
      "source": [
        "4. Define a dictionary that defines what beats each choice."
      ]
    },
    {
      "cell_type": "code",
      "metadata": {
        "id": "DH4sJ_WbYMap"
      },
      "source": [
        "beats = {\r\n",
        "    \"paper\"    : \"scissors\",\r\n",
        "    \"rock\"     : \"paper\",\r\n",
        "    \"scissors\" : \"rock\",\r\n",
        "}"
      ],
      "execution_count": 83,
      "outputs": []
    },
    {
      "cell_type": "markdown",
      "metadata": {
        "id": "9GT1phE6XBqq"
      },
      "source": [
        "5. Define a function that play the Rock, Paper, Scissors game. The function should:\r\n",
        "\r\n",
        "\r\n",
        "*   Run the function to take the player's input\r\n",
        "*   Run the function to generate the computer's choice\r\n",
        "*   Prints the player's choice\r\n",
        "*   Prints the computer's choice\r\n",
        "*   Prints the winner of the game\r\n",
        "\r\n",
        "    **Bonus**: At the end of the game ask the player whether they would like to play again (Y/N). Replay the game until the player says No.\r\n",
        "\r\n",
        "\r\n",
        "\r\n",
        "\r\n",
        "\r\n"
      ]
    },
    {
      "cell_type": "code",
      "metadata": {
        "colab": {
          "base_uri": "https://localhost:8080/"
        },
        "id": "sbxnKshFasSZ",
        "outputId": "e08c8855-58f0-485f-fb5c-f0c084a81967"
      },
      "source": [
        "def play_game() :\r\n",
        "\r\n",
        "  while True : \r\n",
        "  \r\n",
        "    # player choice\r\n",
        "    p_choice = choices[player_choice()]\r\n",
        "\r\n",
        "    # computer choice\r\n",
        "    c_choice = choices[comp_choice()]\r\n",
        "\r\n",
        "    # print choices\r\n",
        "    print(\"Player's choice is: \" + p_choice) \r\n",
        "    print(\"Computer's choice is: \" + c_choice) \r\n",
        "\r\n",
        "    if p_choice == beats[c_choice] :\r\n",
        "      print(\"Player wins!: \" + p_choice + \" beats \" + c_choice)\r\n",
        "    else :\r\n",
        "      print(\"Computer wins!: \" + c_choice + \" beats \" + p_choice)\r\n",
        "\r\n",
        "    print(\"Would you like to play again? (Y/N)\")\r\n",
        "    ans = input() \r\n",
        "\r\n",
        "  \t# if user input n or N then condition is True \r\n",
        "    if ans == \"n\" or ans == \"N\" :\r\n",
        "      print(\"Thanks for playing!\")\r\n",
        "      break\r\n",
        "\t\r\n",
        "play_game()"
      ],
      "execution_count": 105,
      "outputs": [
        {
          "output_type": "stream",
          "text": [
            "Enter choice \n",
            " 1. rock \n",
            " 2. paper \n",
            " 3. scissor \n",
            "\n",
            "User turn: 2\n",
            "Player's choice is: paper\n",
            "Computer's choice is: paper\n",
            "Computer wins!: paper beats paper\n",
            "Would you like to play again? (Y/N)\n",
            "y\n",
            "Enter choice \n",
            " 1. rock \n",
            " 2. paper \n",
            " 3. scissor \n",
            "\n",
            "User turn: 3\n",
            "Player's choice is: scissors\n",
            "Computer's choice is: paper\n",
            "Player wins!: scissors beats paper\n",
            "Would you like to play again? (Y/N)\n",
            "n\n",
            "Thanks for playing!\n"
          ],
          "name": "stdout"
        }
      ]
    }
  ]
}