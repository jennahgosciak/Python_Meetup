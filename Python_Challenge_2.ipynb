{
  "nbformat": 4,
  "nbformat_minor": 0,
  "metadata": {
    "colab": {
      "name": "Python_Challenge_2",
      "provenance": [],
      "collapsed_sections": [],
      "toc_visible": true
    },
    "kernelspec": {
      "name": "python3",
      "display_name": "Python 3"
    }
  },
  "cells": [
    {
      "cell_type": "code",
      "metadata": {
        "id": "TldGQXKsPeDU"
      },
      "source": [
        "import numpy as np\r\n",
        "import random\r\n",
        "import matplotlib.pyplot as plt\r\n",
        "import sys"
      ],
      "execution_count": 75,
      "outputs": []
    },
    {
      "cell_type": "markdown",
      "metadata": {
        "id": "Z7sXI_bS-rVM"
      },
      "source": [
        "# Simulate a coin flip\r\n",
        "1. Write a function that simulates a coin flip using the `randint()` function from random module of the numpy library. The function should return 0 or 1."
      ]
    },
    {
      "cell_type": "code",
      "metadata": {
        "id": "uIA0-AfMPgNT"
      },
      "source": [
        "def coin_flip() :\n",
        "  \"\"\"\n",
        "  The function simulates a coin flip. It returns 0 or 1.\n",
        "  \"\"\"\n",
        "  value = random.randint(0,1)\n",
        "  return value"
      ],
      "execution_count": 33,
      "outputs": []
    },
    {
      "cell_type": "markdown",
      "metadata": {
        "id": "nh8Tg4tNPKN5"
      },
      "source": [
        "2. Let 1 represent tails. Count the number of times tails is thrown in 10 coin flips. Repeat this 1000 times and store the final count of tails from each set of 10 flips in a list."
      ]
    },
    {
      "cell_type": "code",
      "metadata": {
        "id": "FWU-6hJyNvjC"
      },
      "source": [
        "# set a seed number\r\n",
        "np.random.seed(123)\r\n",
        "\r\n",
        "# define empty list to store number of tails from each set of 10 flips\r\n",
        "final_tails = []\r\n",
        "\r\n",
        "# run trials.....\r\n",
        "for x in range(1000) :  \r\n",
        "  total = 0\r\n",
        "  for y in range(10) :\r\n",
        "   total = total + coin_flip()\r\n",
        "  final_tails.append(total) #I had this one extra indented at first which led to 10,000 entries instead of 1,000 and skewed low"
      ],
      "execution_count": 41,
      "outputs": []
    },
    {
      "cell_type": "markdown",
      "metadata": {
        "id": "TLX-fZIiN05Q"
      },
      "source": [
        "3. Plot the final tails count in a histogram using the `hist()` function from the pyplot module of the matplotlib library. Use 10 bins in the histogram.\r\n",
        "Remember to use the `show()` function to display the histogram."
      ]
    },
    {
      "cell_type": "code",
      "metadata": {
        "colab": {
          "base_uri": "https://localhost:8080/",
          "height": 265
        },
        "id": "cjkoz4aM2WF8",
        "outputId": "706442fc-1687-4f3b-c60d-2af128f550d4"
      },
      "source": [
        "hist = plt.hist(final_tails,10)"
      ],
      "execution_count": 42,
      "outputs": [
        {
          "output_type": "display_data",
          "data": {
            "image/png": "[encoded data removed]",
            "text/plain": [
              "<Figure size 432x288 with 1 Axes>"
            ]
          },
          "metadata": {
            "tags": [],
            "needs_background": "light"
          }
        }
      ]
    },
    {
      "cell_type": "markdown",
      "metadata": {
        "id": "7q_HF3zS-xGq"
      },
      "source": [
        "# Rock, paper, scissors\r\n",
        "1. Write a series of function to play a Rock, Paper, Scissors game against the computer. First, write a function that takes the players choice of rock, paper, or scissors. Use the `input()` function to allow the player to enter 1 for rock, 2 for paper, or 3 for scissors.\r\n",
        "\r\n",
        "    **Bonus**: Include error-handling in your function."
      ]
    },
    {
      "cell_type": "code",
      "metadata": {
        "colab": {
          "base_uri": "https://localhost:8080/",
          "height": 246
        },
        "id": "v2S-0gNXVC4F",
        "outputId": "00ba5d9c-5528-49c3-95d0-8e8872578a8e"
      },
      "source": [
        "def player_choice() :\r\n",
        "  \"\"\"\r\n",
        "  The function takes the players input for:\r\n",
        "  1 = Rock\r\n",
        "  2 = Paper\r\n",
        "  3 = Scissors\r\n",
        "  \"\"\"\r\n",
        "  print(\"Enter choice \\n 1. rock \\n 2. paper \\n 3. scissor \\n\") \r\n",
        "  user_in = input()\r\n",
        "  if user_in.strip() not in [\"1\",\"2\",\"3\"]: \r\n",
        "    sys.exit(\"Entry error: Please enter 1, 2, or 3 \")\r\n",
        "  else: \r\n",
        "    print(\"User turn : \" + user_in)\r\n",
        "    return int(user_in)\r\n",
        "\r\n",
        "player_choice()"
      ],
      "execution_count": 76,
      "outputs": [
        {
          "output_type": "stream",
          "text": [
            "Enter choice \n",
            " 1. rock \n",
            " 2. paper \n",
            " 3. scissor \n",
            "\n",
            "Y\n"
          ],
          "name": "stdout"
        },
        {
          "output_type": "error",
          "ename": "SystemExit",
          "evalue": "ignored",
          "traceback": [
            "An exception has occurred, use %tb to see the full traceback.\n",
            "\u001b[0;31mSystemExit\u001b[0m\u001b[0;31m:\u001b[0m Entry error: Please enter 1, 2, or 3 \n"
          ]
        },
        {
          "output_type": "stream",
          "text": [
            "/usr/local/lib/python3.6/dist-packages/IPython/core/interactiveshell.py:2890: UserWarning: To exit: use 'exit', 'quit', or Ctrl-D.\n",
            "  warn(\"To exit: use 'exit', 'quit', or Ctrl-D.\", stacklevel=1)\n"
          ],
          "name": "stderr"
        }
      ]
    },
    {
      "cell_type": "markdown",
      "metadata": {
        "id": "Ce048bKVV7k3"
      },
      "source": [
        "2. Write a function that returns the computer's choice. The function should randomly return 1, 2, or 3."
      ]
    },
    {
      "cell_type": "code",
      "metadata": {
        "id": "iU_gyQ0wWSgz",
        "outputId": "8d149de1-67d1-4b09-fdaa-5be700dbd40e",
        "colab": {
          "base_uri": "https://localhost:8080/"
        }
      },
      "source": [
        "def comp_choice() :\r\n",
        "  \"\"\"\r\n",
        "  The function returns a random choice for the computer:\r\n",
        "  1 = Rock\r\n",
        "  2 = Paper\r\n",
        "  3 = Scissors\r\n",
        "  \"\"\"\r\n",
        "  value = random.randint(1,3)\r\n",
        "  return value\r\n",
        "\r\n",
        "comp_choice"
      ],
      "execution_count": 48,
      "outputs": [
        {
          "output_type": "execute_result",
          "data": {
            "text/plain": [
              "<function __main__.comp_choice>"
            ]
          },
          "metadata": {
            "tags": []
          },
          "execution_count": 48
        }
      ]
    },
    {
      "cell_type": "markdown",
      "metadata": {
        "id": "_uv7D16jX3Mi"
      },
      "source": [
        "3. Define a dictionary that translates 1, 2, or 3 into the string \"rock\", \"paper\", or \"scissors\"."
      ]
    },
    {
      "cell_type": "code",
      "metadata": {
        "id": "oQ-mT1PTXj9x"
      },
      "source": [
        "choices = {\r\n",
        "   1 : \"rock\",\r\n",
        "   2 : \"paper\",\r\n",
        "   3 : \"scissors\"\r\n",
        "}"
      ],
      "execution_count": 49,
      "outputs": []
    },
    {
      "cell_type": "markdown",
      "metadata": {
        "id": "klnNHOmlYd9F"
      },
      "source": [
        "4. Define a dictionary that defines what beats each choice."
      ]
    },
    {
      "cell_type": "code",
      "metadata": {
        "id": "DH4sJ_WbYMap"
      },
      "source": [
        "beats = {\r\n",
        "    \"paper\" : \"scissors\",\r\n",
        "    \"scissors\" : \"rock\", \r\n",
        "    \"rock\" : \"paper\"\r\n",
        "}"
      ],
      "execution_count": 50,
      "outputs": []
    },
    {
      "cell_type": "markdown",
      "metadata": {
        "id": "9GT1phE6XBqq"
      },
      "source": [
        "5. Define a function that play the Rock, Paper, Scissors game using the functions and dictionaries defined above. The function should:\r\n",
        "\r\n",
        "\r\n",
        "*   Run the function to take the player's input\r\n",
        "*   Run the function to generate the computer's choice\r\n",
        "*   Prints the player's choice\r\n",
        "*   Prints the computer's choice\r\n",
        "*   Prints the winner of the game\r\n",
        "\r\n",
        "    **Bonus**: At the end of the game ask the player whether they would like to play again (Y/N). Replay the game until the player says No.\r\n",
        "\r\n",
        "\r\n",
        "\r\n",
        "\r\n",
        "\r\n"
      ]
    },
    {
      "cell_type": "code",
      "metadata": {
        "colab": {
          "base_uri": "https://localhost:8080/"
        },
        "id": "sbxnKshFasSZ",
        "outputId": "7808adc8-fc46-4b82-ae8f-8ab3e7066315"
      },
      "source": [
        "def play_game() :\r\n",
        "  \"\"\"\r\n",
        "  Plays Rock, Paper, Scissors!\r\n",
        "  \"\"\"\r\n",
        "  print(\"\")\r\n",
        "  again = \"Y\"\r\n",
        "\r\n",
        "  while again == \"Y\": \r\n",
        "    player_ch = player_choice()\r\n",
        "    user_in = choices.get(player_ch)\r\n",
        "    comp_in = choices.get(comp_choice())\r\n",
        "\r\n",
        "    print(\"Player's choice is: \" + user_in)\r\n",
        "    print(\"Computer's choice is: \" + comp_in)\r\n",
        "    print(\"\")\r\n",
        "\r\n",
        "    #If computer picks something that beats player, print computer wins\r\n",
        "    if beats.get(user_in) == comp_in:\r\n",
        "      print(\"Computer wins!: \" +  comp_in + \" beats \" + user_in)\r\n",
        "    #If player picks something that beats computer, print player wins\r\n",
        "    elif user_in == beats.get(comp_in):\r\n",
        "      print(\"Player wins!: \" +  user_in + \" beats \" + comp_in)\r\n",
        "    #If draw, print draw\r\n",
        "    else:\r\n",
        "      if user_in != comp_in: raise AssertionError\r\n",
        "      print(\"Tie!: Both player and computer selected \" + comp_in)\r\n",
        "\r\n",
        "    print(\"Would you like to play again? (Y/N)\")\r\n",
        "    again = input().upper()\r\n",
        "\r\n",
        "  if again != \"Y\":\r\n",
        "    print(\"Thanks for playing!\")\r\n",
        "\r\n",
        "play_game()"
      ],
      "execution_count": null,
      "outputs": [
        {
          "output_type": "stream",
          "text": [
            "\n",
            "Enter choice \n",
            " 1. rock \n",
            " 2. paper \n",
            " 3. scissor \n",
            "\n",
            "2\n",
            "User turn : 2\n",
            "Player's choice is: paper\n",
            "Computer's choice is: rock\n",
            "\n",
            "Player wins!: paper beats rock\n",
            "Would you like to play again? (Y/N)\n",
            "Y\n",
            "Enter choice \n",
            " 1. rock \n",
            " 2. paper \n",
            " 3. scissor \n",
            "\n",
            "3\n",
            "User turn : 3\n",
            "Player's choice is: scissors\n",
            "Computer's choice is: paper\n",
            "\n",
            "Player wins!: scissors beats paper\n",
            "Would you like to play again? (Y/N)\n",
            "Y\n",
            "Enter choice \n",
            " 1. rock \n",
            " 2. paper \n",
            " 3. scissor \n",
            "\n",
            "1\n",
            "User turn : 1\n",
            "Player's choice is: rock\n",
            "Computer's choice is: rock\n",
            "\n",
            "Tie!: Both player and computer selected rock\n",
            "Would you like to play again? (Y/N)\n"
          ],
          "name": "stdout"
        }
      ]
    },
    {
      "cell_type": "code",
      "metadata": {
        "id": "1o9u_PXC31L3"
      },
      "source": [
        ""
      ],
      "execution_count": null,
      "outputs": []
    }
  ]
}