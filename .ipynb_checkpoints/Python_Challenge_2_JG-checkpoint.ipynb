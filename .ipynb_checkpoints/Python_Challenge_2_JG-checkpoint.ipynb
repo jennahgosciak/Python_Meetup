{
 "cells": [
  {
   "cell_type": "code",
   "execution_count": 15,
   "metadata": {
    "id": "TldGQXKsPeDU"
   },
   "outputs": [],
   "source": [
    "import numpy as np\n",
    "import matplotlib.pyplot as plt"
   ]
  },
  {
   "cell_type": "markdown",
   "metadata": {
    "id": "Z7sXI_bS-rVM"
   },
   "source": [
    "# Simulate a coin flip\n",
    "1. Write a function that simulates a coin flip using the `randint()` function from random module of the numpy library. The function should return 0 or 1."
   ]
  },
  {
   "cell_type": "code",
   "execution_count": 126,
   "metadata": {
    "id": "uIA0-AfMPgNT"
   },
   "outputs": [],
   "source": [
    "def coin_flip(x) :\n",
    "    \"\"\"\n",
    "    The function simulates a coin flip. It returns 0 or 1.\n",
    "    \"\"\"\n",
    "    if x == 1:\n",
    "        return int(np.random.randint(100, size = x) > 50)\n",
    "    else:\n",
    "        return list(map(int, np.random.randint(100, size = x) > 50))"
   ]
  },
  {
   "cell_type": "markdown",
   "metadata": {
    "id": "nh8Tg4tNPKN5"
   },
   "source": [
    "2. Let 1 represent tails. Count the number of times tails is thrown in 10 coin flips. Repeat this 1000 times and store the final count of tails from each set of 10 flips in a list."
   ]
  },
  {
   "cell_type": "code",
   "execution_count": 138,
   "metadata": {
    "id": "FWU-6hJyNvjC"
   },
   "outputs": [],
   "source": [
    "# set a seed number\n",
    "np.random.seed(123)\n",
    "\n",
    "# define empty list to store number of tails from each set of 10 flips\n",
    "final_tails = []\n",
    "\n",
    "def count_tails(iter) :\n",
    "    return sum(coin_flip(iter))\n",
    "        \n",
    "# run trials\n",
    "for x in range(1000):  \n",
    "  final_tails += [count_tails(10)]"
   ]
  },
  {
   "cell_type": "markdown",
   "metadata": {
    "id": "TLX-fZIiN05Q"
   },
   "source": [
    "3. Plot the final tails count in a histogram using the `hist()` function from the pyplot module of the matplotlib library. Use 10 bins in the histogram.\n",
    "Remember to use the `show()` function to display the histogram."
   ]
  },
  {
   "cell_type": "code",
   "execution_count": 140,
   "metadata": {
    "colab": {
     "base_uri": "https://localhost:8080/",
     "height": 268
    },
    "id": "cjkoz4aM2WF8",
    "outputId": "9e4f5585-03b2-42c1-a883-eedfd4a9e5c0"
   },
   "outputs": [
    {
     "data": {
      "image/png": "[encoded data removed]",
      "text/plain": [
       "<Figure size 432x288 with 1 Axes>"
      ]
     },
     "metadata": {
      "needs_background": "light"
     },
     "output_type": "display_data"
    }
   ],
   "source": [
    "plt.hist(final_tails, bins = 10)\n",
    "plt.show()"
   ]
  },
  {
   "cell_type": "markdown",
   "metadata": {
    "id": "7q_HF3zS-xGq"
   },
   "source": [
    "# Rock, paper, scissors\n",
    "1. Write a series of function to play a Rock, Paper, Scissors game against the computer. First, write a function that takes the players choice of rock, paper, or scissors. Use the `input()` function to allow the player to enter 1 for rock, 2 for paper, or 3 for scissors.\n",
    "\n",
    "    **Bonus**: Include error-handling in your function."
   ]
  },
  {
   "cell_type": "code",
   "execution_count": 266,
   "metadata": {
    "colab": {
     "base_uri": "https://localhost:8080/"
    },
    "id": "v2S-0gNXVC4F",
    "outputId": "b8883845-d5c2-49b5-a97d-f9f1ebe4ace4"
   },
   "outputs": [],
   "source": [
    "def player_choice() :\n",
    "    \"\"\"\n",
    "    The function takes the players input for:\n",
    "    1 = Rock\n",
    "    2 = Paper\n",
    "    3 = Scissors\n",
    "    \"\"\"\n",
    "    print(\"Enter choice \\n 1. rock \\n 2. paper \\n 3. scissor \\n\")\n",
    "    \n",
    "    p = input()\n",
    "    \n",
    "    assert p in [\"1\",\"2\",\"3\"], print(\"Answer not in range!\")\n",
    "    return int(p)"
   ]
  },
  {
   "cell_type": "code",
   "execution_count": 267,
   "metadata": {},
   "outputs": [
    {
     "name": "stdout",
     "output_type": "stream",
     "text": [
      "Enter choice \n",
      " 1. rock \n",
      " 2. paper \n",
      " 3. scissor \n",
      "\n",
      "\n",
      "Answer not in range!\n"
     ]
    },
    {
     "ename": "AssertionError",
     "evalue": "None",
     "output_type": "error",
     "traceback": [
      "\u001b[1;31m---------------------------------------------------------------------------\u001b[0m",
      "\u001b[1;31mAssertionError\u001b[0m                            Traceback (most recent call last)",
      "\u001b[1;32m<ipython-input-267-0981e07aa5d0>\u001b[0m in \u001b[0;36m<module>\u001b[1;34m\u001b[0m\n\u001b[1;32m----> 1\u001b[1;33m \u001b[0mplayer_choice\u001b[0m\u001b[1;33m(\u001b[0m\u001b[1;33m)\u001b[0m\u001b[1;33m\u001b[0m\u001b[1;33m\u001b[0m\u001b[0m\n\u001b[0m",
      "\u001b[1;32m<ipython-input-266-378f6ca549ce>\u001b[0m in \u001b[0;36mplayer_choice\u001b[1;34m()\u001b[0m\n\u001b[0;32m     10\u001b[0m     \u001b[0mp\u001b[0m \u001b[1;33m=\u001b[0m \u001b[0minput\u001b[0m\u001b[1;33m(\u001b[0m\u001b[1;33m)\u001b[0m\u001b[1;33m\u001b[0m\u001b[1;33m\u001b[0m\u001b[0m\n\u001b[0;32m     11\u001b[0m \u001b[1;33m\u001b[0m\u001b[0m\n\u001b[1;32m---> 12\u001b[1;33m     \u001b[1;32massert\u001b[0m \u001b[0mp\u001b[0m \u001b[1;32min\u001b[0m \u001b[1;33m[\u001b[0m\u001b[1;34m\"1\"\u001b[0m\u001b[1;33m,\u001b[0m\u001b[1;34m\"2\"\u001b[0m\u001b[1;33m,\u001b[0m\u001b[1;34m\"3\"\u001b[0m\u001b[1;33m]\u001b[0m\u001b[1;33m,\u001b[0m \u001b[0mprint\u001b[0m\u001b[1;33m(\u001b[0m\u001b[1;34m\"Answer not in range!\"\u001b[0m\u001b[1;33m)\u001b[0m\u001b[1;33m\u001b[0m\u001b[1;33m\u001b[0m\u001b[0m\n\u001b[0m\u001b[0;32m     13\u001b[0m     \u001b[1;32mreturn\u001b[0m \u001b[0mint\u001b[0m\u001b[1;33m(\u001b[0m\u001b[0mp\u001b[0m\u001b[1;33m)\u001b[0m\u001b[1;33m\u001b[0m\u001b[1;33m\u001b[0m\u001b[0m\n",
      "\u001b[1;31mAssertionError\u001b[0m: None"
     ]
    }
   ],
   "source": [
    "player_choice()"
   ]
  },
  {
   "cell_type": "markdown",
   "metadata": {
    "id": "Ce048bKVV7k3"
   },
   "source": [
    "2. Write a function that returns the computer's choice. The function should randomly return 1, 2, or 3."
   ]
  },
  {
   "cell_type": "code",
   "execution_count": 268,
   "metadata": {
    "id": "iU_gyQ0wWSgz"
   },
   "outputs": [],
   "source": [
    "def comp_choice() :\n",
    "  \"\"\"\n",
    "  The function returns a random choice for the computer:\n",
    "  1 = Rock\n",
    "  2 = Paper\n",
    "  3 = Scissors\n",
    "  \"\"\"\n",
    "\n",
    "  return np.random.randint(1,3)"
   ]
  },
  {
   "cell_type": "markdown",
   "metadata": {
    "id": "_uv7D16jX3Mi"
   },
   "source": [
    "3. Define a dictionary that translates 1, 2, or 3 into the string \"rock\", \"paper\", or \"scissors\"."
   ]
  },
  {
   "cell_type": "code",
   "execution_count": 269,
   "metadata": {
    "id": "oQ-mT1PTXj9x"
   },
   "outputs": [],
   "source": [
    "choices = {\n",
    "    1 : \"rock\",\n",
    "    2 : \"paper\",\n",
    "    3 : \"scissors\"\n",
    "}"
   ]
  },
  {
   "cell_type": "markdown",
   "metadata": {
    "id": "klnNHOmlYd9F"
   },
   "source": [
    "4. Define a dictionary that defines what beats each choice."
   ]
  },
  {
   "cell_type": "code",
   "execution_count": 264,
   "metadata": {
    "id": "DH4sJ_WbYMap"
   },
   "outputs": [],
   "source": [
    "beats = {\n",
    "    \"paper\" : \"scissors\",\n",
    "    \"rock\"  : \"paper\",\n",
    "    \"scissors\" : \"rock\"\n",
    "}"
   ]
  },
  {
   "cell_type": "markdown",
   "metadata": {
    "id": "9GT1phE6XBqq"
   },
   "source": [
    "5. Define a function that play the Rock, Paper, Scissors game using the functions and dictionaries defined above. The function should:\n",
    "\n",
    "\n",
    "*   Run the function to take the player's input\n",
    "*   Run the function to generate the computer's choice\n",
    "*   Prints the player's choice\n",
    "*   Prints the computer's choice\n",
    "*   Prints the winner of the game\n",
    "\n",
    "    **Bonus**: At the end of the game ask the player whether they would like to play again (Y/N). Replay the game until the player says No.\n",
    "\n",
    "\n",
    "\n",
    "\n",
    "\n"
   ]
  },
  {
   "cell_type": "code",
   "execution_count": null,
   "metadata": {
    "colab": {
     "base_uri": "https://localhost:8080/"
    },
    "id": "sbxnKshFasSZ",
    "outputId": "e08c8855-58f0-485f-fb5c-f0c084a81967"
   },
   "outputs": [
    {
     "name": "stdout",
     "output_type": "stream",
     "text": [
      "Enter choice \n",
      " 1. rock \n",
      " 2. paper \n",
      " 3. scissor \n",
      "\n",
      "3\n",
      "Player's choice:  scissors\n",
      "Computer's choice:  rock\n",
      "\n",
      "Unfortunately, the computer won :C\n",
      "\n",
      "Play again?\n",
      "Enter Y or N: Y\n",
      "Enter choice \n",
      " 1. rock \n",
      " 2. paper \n",
      " 3. scissor \n",
      "\n",
      "1\n",
      "Player's choice:  rock\n",
      "Computer's choice:  paper\n",
      "\n",
      "Unfortunately, the computer won :C\n",
      "\n",
      "Play again?\n",
      "Enter Y or N: Y\n",
      "Enter choice \n",
      " 1. rock \n",
      " 2. paper \n",
      " 3. scissor \n",
      "\n",
      "3\n",
      "Player's choice:  scissors\n",
      "Computer's choice:  paper\n",
      "\n",
      "Player won!\n",
      "\n",
      "Play again?\n",
      "Enter Y or N: Y\n",
      "Enter choice \n",
      " 1. rock \n",
      " 2. paper \n",
      " 3. scissor \n",
      "\n",
      "2\n",
      "Player's choice:  paper\n",
      "Computer's choice:  rock\n",
      "\n",
      "Player won!\n",
      "\n",
      "Play again?\n",
      "Enter Y or N: Y\n",
      "Enter choice \n",
      " 1. rock \n",
      " 2. paper \n",
      " 3. scissor \n",
      "\n",
      "1\n",
      "Player's choice:  rock\n",
      "Computer's choice:  rock\n",
      "\n",
      "Tie! Play again...\n",
      "Enter choice \n",
      " 1. rock \n",
      " 2. paper \n",
      " 3. scissor \n",
      "\n",
      "3\n",
      "Player's choice:  scissors\n",
      "Computer's choice:  paper\n",
      "\n",
      "Player won!\n",
      "\n",
      "Play again?\n"
     ]
    }
   ],
   "source": [
    "def play_game() :\n",
    "    \"\"\"\n",
    "    Plays Rock, Paper, Scissors!\n",
    "    \"\"\"\n",
    "    p = choices[player_choice()]\n",
    "    c = choices[comp_choice()]\n",
    "    \n",
    "    print(\"Player's choice: \", p)\n",
    "    print(\"Computer's choice: \", c)\n",
    "    \n",
    "    print(\"\")\n",
    "\n",
    "    if p == beats[c]:\n",
    "        print(\"Player won!\")\n",
    "    elif c == beats[p]:\n",
    "        print(\"Unfortunately, the computer won :C\")\n",
    "    else : \n",
    "        print(\"Tie! Play again...\")\n",
    "        play_game()\n",
    "    \n",
    "    print(\"\\nPlay again?\")\n",
    "    repeat = input(\"Enter Y or N: \")\n",
    "    \n",
    "    assert repeat in [\"Y\",\"N\"], \"Answer not in range\"\n",
    "    if repeat == \"Y\" :\n",
    "        play_game()\n",
    "    else :\n",
    "        return\n",
    "    \n",
    "    return \n",
    "    \n",
    "play_game()\n",
    "    "
   ]
  },
  {
   "cell_type": "code",
   "execution_count": null,
   "metadata": {},
   "outputs": [],
   "source": []
  }
 ],
 "metadata": {
  "colab": {
   "collapsed_sections": [],
   "name": "Python_Challenge_2",
   "provenance": [],
   "toc_visible": true
  },
  "kernelspec": {
   "display_name": "Python 3",
   "language": "python",
   "name": "python3"
  },
  "language_info": {
   "codemirror_mode": {
    "name": "ipython",
    "version": 3
   },
   "file_extension": ".py",
   "mimetype": "text/x-python",
   "name": "python",
   "nbconvert_exporter": "python",
   "pygments_lexer": "ipython3",
   "version": "3.7.7"
  }
 },
 "nbformat": 4,
 "nbformat_minor": 1
}
