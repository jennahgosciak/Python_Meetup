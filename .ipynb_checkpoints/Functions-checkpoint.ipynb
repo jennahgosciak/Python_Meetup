{
 "cells": [
  {
   "cell_type": "markdown",
   "metadata": {
    "id": "Jec1Md0kJ-U-"
   },
   "source": [
    "# Functions\n",
    "\n",
    "A function is a piece of reuseable code. You can call a function instead of writing the code yourself."
   ]
  },
  {
   "cell_type": "markdown",
   "metadata": {
    "id": "lIBSUwDPdPAo"
   },
   "source": [
    "## Built-in Python functions\n",
    "\n",
    "Some functions are built into Python. The example below shows how to use the built-in functions `print()`, `str()`, and `round()`."
   ]
  },
  {
   "cell_type": "code",
   "execution_count": null,
   "metadata": {
    "colab": {
     "base_uri": "https://localhost:8080/"
    },
    "executionInfo": {
     "elapsed": 235,
     "status": "ok",
     "timestamp": 1604435832686,
     "user": {
      "displayName": "Clare Wolfendale",
      "photoUrl": "https://lh3.googleusercontent.com/a-/AOh14GjI2L9lH5C-yjbrYlEB6PFpcUYO5HWoosdDRFdsLw=s64",
      "userId": "03981592667884820104"
     },
     "user_tz": 300
    },
    "id": "rADK1fywePlG",
    "outputId": "2c90ac38-8a00-46aa-f799-a86fec23a0e7"
   },
   "outputs": [
    {
     "name": "stdout",
     "output_type": "stream",
     "text": [
      "Round x to one decimal place: 1.7\n"
     ]
    }
   ],
   "source": [
    "x = 1.68\n",
    "\n",
    "print(\"Round x to one decimal place: \" + str(round(x, 1)))"
   ]
  },
  {
   "cell_type": "markdown",
   "metadata": {
    "id": "5HIIz46hfGoE"
   },
   "source": [
    "### Documentation\n",
    "We can review the documentation for a function using the `help()` function. Below is the documentation for `round()`."
   ]
  },
  {
   "cell_type": "code",
   "execution_count": null,
   "metadata": {
    "colab": {
     "base_uri": "https://localhost:8080/"
    },
    "executionInfo": {
     "elapsed": 313,
     "status": "ok",
     "timestamp": 1604163518804,
     "user": {
      "displayName": "Clare Wolfendale",
      "photoUrl": "https://lh3.googleusercontent.com/a-/AOh14GjI2L9lH5C-yjbrYlEB6PFpcUYO5HWoosdDRFdsLw=s64",
      "userId": "03981592667884820104"
     },
     "user_tz": 240
    },
    "id": "BVdCEmvOfEXM",
    "outputId": "3aa84feb-bc9b-461d-c381-bf21e359b7ce"
   },
   "outputs": [
    {
     "name": "stdout",
     "output_type": "stream",
     "text": [
      "Help on built-in function round in module builtins:\n",
      "\n",
      "round(...)\n",
      "    round(number[, ndigits]) -> number\n",
      "    \n",
      "    Round a number to a given precision in decimal digits (default 0 digits).\n",
      "    This returns an int when called with one argument, otherwise the\n",
      "    same type as the number. ndigits may be negative.\n",
      "\n"
     ]
    }
   ],
   "source": [
    "help(round)"
   ]
  },
  {
   "cell_type": "markdown",
   "metadata": {
    "id": "JTpFkIAEeo5j"
   },
   "source": [
    "Note the brackets around `ndigits`. This indicates that it's an optional parameter. If no input given, it will default to 0."
   ]
  },
  {
   "cell_type": "code",
   "execution_count": null,
   "metadata": {
    "colab": {
     "base_uri": "https://localhost:8080/"
    },
    "executionInfo": {
     "elapsed": 427,
     "status": "ok",
     "timestamp": 1604435914092,
     "user": {
      "displayName": "Clare Wolfendale",
      "photoUrl": "https://lh3.googleusercontent.com/a-/AOh14GjI2L9lH5C-yjbrYlEB6PFpcUYO5HWoosdDRFdsLw=s64",
      "userId": "03981592667884820104"
     },
     "user_tz": 300
    },
    "id": "u8fnBRcfexAm",
    "outputId": "ebc5a5f1-e93b-488a-d222-86e19942034a"
   },
   "outputs": [
    {
     "data": {
      "text/plain": [
       "2"
      ]
     },
     "execution_count": 7,
     "metadata": {
      "tags": []
     },
     "output_type": "execute_result"
    }
   ],
   "source": [
    "round(x)"
   ]
  },
  {
   "cell_type": "markdown",
   "metadata": {
    "id": "NVF-arkweMAm"
   },
   "source": [
    "### Methods\n",
    "Python objects have associated \"functions\" called methods. The methods available to an object depends on it's type. They are called using dot notation. Here are examples of methods for string objects:"
   ]
  },
  {
   "cell_type": "code",
   "execution_count": null,
   "metadata": {
    "colab": {
     "base_uri": "https://localhost:8080/"
    },
    "executionInfo": {
     "elapsed": 303,
     "status": "ok",
     "timestamp": 1604163523075,
     "user": {
      "displayName": "Clare Wolfendale",
      "photoUrl": "https://lh3.googleusercontent.com/a-/AOh14GjI2L9lH5C-yjbrYlEB6PFpcUYO5HWoosdDRFdsLw=s64",
      "userId": "03981592667884820104"
     },
     "user_tz": 240
    },
    "id": "wTsXSAGle0zY",
    "outputId": "fa5b40bf-ae7f-4dd4-ad43-edad19256418"
   },
   "outputs": [
    {
     "name": "stdout",
     "output_type": "stream",
     "text": [
      "Clare\n",
      "CLARE\n",
      "clear\n"
     ]
    }
   ],
   "source": [
    "x = \"clare\"\n",
    "\n",
    "a = x.capitalize()          # capitalize first letter\n",
    "b = x.upper()               # all letters uppercase\n",
    "c = x.replace(\"are\", \"ear\") # string replace\n",
    "\n",
    "print(a)\n",
    "print(b)\n",
    "print(c)\n"
   ]
  },
  {
   "cell_type": "markdown",
   "metadata": {
    "id": "INMk3qOsj7jr"
   },
   "source": [
    "Some method are unique to an object type, and others can be used across multiple types of objects with varying results. For example the `index()` method can be called on both strings and lists."
   ]
  },
  {
   "cell_type": "code",
   "execution_count": null,
   "metadata": {
    "colab": {
     "base_uri": "https://localhost:8080/"
    },
    "executionInfo": {
     "elapsed": 444,
     "status": "ok",
     "timestamp": 1605141549183,
     "user": {
      "displayName": "Clare Wolfendale",
      "photoUrl": "https://lh3.googleusercontent.com/a-/AOh14GjI2L9lH5C-yjbrYlEB6PFpcUYO5HWoosdDRFdsLw=s64",
      "userId": "03981592667884820104"
     },
     "user_tz": 300
    },
    "id": "zv2lHlvAkRNk",
    "outputId": "b8496e1b-02f6-4dbf-c19e-7dae5b2bb862"
   },
   "outputs": [
    {
     "name": "stdout",
     "output_type": "stream",
     "text": [
      "The position of 'i'  in x1 is: 3\n",
      "The position of 'of' in x2 is: 2\n"
     ]
    }
   ],
   "source": [
    "x1 = \"string\"\n",
    "x2 = [\"a\", \"list\", \"of\", \"strings\"]\n",
    "\n",
    "print(\"The position of 'i'  in x1 is: \" + str(x1.index(\"i\" )))\n",
    "print(\"The position of 'of' in x2 is: \" + str(x2.index(\"of\")))"
   ]
  },
  {
   "cell_type": "markdown",
   "metadata": {
    "id": "RXT7qXUTkJwZ"
   },
   "source": [
    "Some method change the object they are called on while others do not."
   ]
  },
  {
   "cell_type": "code",
   "execution_count": null,
   "metadata": {
    "colab": {
     "base_uri": "https://localhost:8080/"
    },
    "executionInfo": {
     "elapsed": 464,
     "status": "ok",
     "timestamp": 1605141551346,
     "user": {
      "displayName": "Clare Wolfendale",
      "photoUrl": "https://lh3.googleusercontent.com/a-/AOh14GjI2L9lH5C-yjbrYlEB6PFpcUYO5HWoosdDRFdsLw=s64",
      "userId": "03981592667884820104"
     },
     "user_tz": 300
    },
    "id": "JnCPZ5kLladE",
    "outputId": "a02e4a59-3d92-4eec-8cfe-ccc53e10c2d3"
   },
   "outputs": [
    {
     "name": "stdout",
     "output_type": "stream",
     "text": [
      "string\n",
      "['a', 'list', 'of', 'strings', '!!!']\n"
     ]
    }
   ],
   "source": [
    "# the method capitalize() does not change a string object\n",
    "x1.capitalize()\n",
    "print(x1)\n",
    "\n",
    "# the method append() does change a list object\n",
    "x2.append(\"!!!\")\n",
    "print(x2)"
   ]
  },
  {
   "cell_type": "markdown",
   "metadata": {
    "id": "LrMHTUhBdeQw"
   },
   "source": [
    "## Functions from Python packages\n",
    "\n",
    "Functions can also be imported into Python from packages. A package is a series of python scripts (called modules) that define a set functions and methods.\n",
    "\n",
    "Packages can to be installed on your computer and then imported into your code. For example, you could install the `numpy` package from the terminal using `pip` (a Python package manager). "
   ]
  },
  {
   "cell_type": "code",
   "execution_count": null,
   "metadata": {
    "colab": {
     "base_uri": "https://localhost:8080/"
    },
    "executionInfo": {
     "elapsed": 3564,
     "status": "ok",
     "timestamp": 1605141569111,
     "user": {
      "displayName": "Clare Wolfendale",
      "photoUrl": "https://lh3.googleusercontent.com/a-/AOh14GjI2L9lH5C-yjbrYlEB6PFpcUYO5HWoosdDRFdsLw=s64",
      "userId": "03981592667884820104"
     },
     "user_tz": 300
    },
    "id": "efn4niZocK8v",
    "outputId": "da9e3948-ceb7-462e-d70d-948879fa7dbb"
   },
   "outputs": [
    {
     "name": "stdout",
     "output_type": "stream",
     "text": [
      "Requirement already satisfied: numpy in /usr/local/lib/python3.6/dist-packages (1.18.5)\n"
     ]
    }
   ],
   "source": [
    "pip install numpy"
   ]
  },
  {
   "cell_type": "markdown",
   "metadata": {
    "id": "tObGnNt92ns2"
   },
   "source": [
    "**Note**: Google CoLab is a virtual environment and already has most popular Python packages installed."
   ]
  },
  {
   "cell_type": "markdown",
   "metadata": {
    "id": "ZTl2-VLErfKF"
   },
   "source": [
    "You can import the full package, a specifc module, or a specif function from the package. The example below shows how you could use the `rand()` function from the `random` module of the `numpy` package under each senario."
   ]
  },
  {
   "cell_type": "code",
   "execution_count": null,
   "metadata": {
    "colab": {
     "base_uri": "https://localhost:8080/"
    },
    "executionInfo": {
     "elapsed": 264,
     "status": "ok",
     "timestamp": 1605141735572,
     "user": {
      "displayName": "Clare Wolfendale",
      "photoUrl": "https://lh3.googleusercontent.com/a-/AOh14GjI2L9lH5C-yjbrYlEB6PFpcUYO5HWoosdDRFdsLw=s64",
      "userId": "03981592667884820104"
     },
     "user_tz": 300
    },
    "id": "UI8fmxAYq8Uk",
    "outputId": "c559634c-bdf8-447b-a271-a5020b811ae0"
   },
   "outputs": [
    {
     "name": "stdout",
     "output_type": "stream",
     "text": [
      "0.4608572154465349\n",
      "0.9581168336196404\n",
      "0.47551381521422753\n"
     ]
    }
   ],
   "source": [
    "# imports the full numpy package\n",
    "import numpy as np\n",
    "\n",
    "# imports the random module from numpy\n",
    "import numpy.random as r\n",
    "\n",
    "# imports the rand function from the random module of numpy\n",
    "from numpy.random import rand\n",
    "\n",
    "# generate a random number between 0 and 1\n",
    "print(np.random.rand())\n",
    "print(r.rand())\n",
    "print(rand())"
   ]
  },
  {
   "cell_type": "markdown",
   "metadata": {
    "id": "rB8EQ63KdpqT"
   },
   "source": [
    "## Functions defined by you\n",
    "\n",
    "You can also define your own custom functions in Python. The function in the example below adds two values. The agrument `value2' is defined as a default agrument set to 1 if not otherwise defined.\n",
    "\n"
   ]
  },
  {
   "cell_type": "code",
   "execution_count": 1,
   "metadata": {
    "colab": {
     "base_uri": "https://localhost:8080/"
    },
    "executionInfo": {
     "elapsed": 673,
     "status": "ok",
     "timestamp": 1605227119223,
     "user": {
      "displayName": "Clare Wolfendale",
      "photoUrl": "https://lh3.googleusercontent.com/a-/AOh14GjI2L9lH5C-yjbrYlEB6PFpcUYO5HWoosdDRFdsLw=s64",
      "userId": "03981592667884820104"
     },
     "user_tz": 300
    },
    "id": "xcMx9MJN4cPl",
    "outputId": "dd7b0af8-f1a2-4e83-d2f1-010e9a9896a4"
   },
   "outputs": [
    {
     "name": "stdout",
     "output_type": "stream",
     "text": [
      "10\n",
      "5\n"
     ]
    }
   ],
   "source": [
    "def add_two_nums(value1, value2=1) :\n",
    "  \"\"\" Adds value1 and value2 together. \"\"\"\n",
    "  new_value = value1 + value2\n",
    "  return new_value\n",
    "\n",
    "\n",
    "x = add_two_nums(4, 6)\n",
    "y = add_two_nums(4)\n",
    "print(x)\n",
    "print(y)"
   ]
  },
  {
   "cell_type": "markdown",
   "metadata": {
    "id": "3lOMoFxq6dsV"
   },
   "source": [
    "The keyword `def` starts the function definition followed by its name, any function parameters in `()`, and a `:` to end the definition. The function body follows on indented lines. The function docstrings in between the `\"\"\"` describe what the function does. Finally, the `return` keyword allows you to pass the result of the function to an object."
   ]
  },
  {
   "cell_type": "markdown",
   "metadata": {
    "id": "JMx4A-DoE37l"
   },
   "source": [
    "You can also define functions that return multiple values. The values can be returned in a tuple (an immutable, ordered list). The function in the following example accepts a string and returns upper and lowercase versions of the string. "
   ]
  },
  {
   "cell_type": "code",
   "execution_count": null,
   "metadata": {
    "colab": {
     "base_uri": "https://localhost:8080/"
    },
    "executionInfo": {
     "elapsed": 299,
     "status": "ok",
     "timestamp": 1605060135442,
     "user": {
      "displayName": "Clare Wolfendale",
      "photoUrl": "https://lh3.googleusercontent.com/a-/AOh14GjI2L9lH5C-yjbrYlEB6PFpcUYO5HWoosdDRFdsLw=s64",
      "userId": "03981592667884820104"
     },
     "user_tz": 300
    },
    "id": "ZWwFbchwGsQS",
    "outputId": "4fbba49c-87a9-4ba7-b6a2-69c465d6b4a6"
   },
   "outputs": [
    {
     "name": "stdout",
     "output_type": "stream",
     "text": [
      "CLARE\n",
      "clare\n"
     ]
    }
   ],
   "source": [
    "def upper_lower(string) :\n",
    "  \"\"\" Returns upper and lowercase version of string \"\"\"\n",
    "  upper = string.upper()\n",
    "  lower = string.lower()\n",
    "  return (upper, lower)\n",
    "\n",
    "\n",
    "big, small = upper_lower(\"clare\")\n",
    "\n",
    "print(big)\n",
    "print(small)"
   ]
  },
  {
   "cell_type": "markdown",
   "metadata": {
    "id": "BQQG4Qzy6W0O"
   },
   "source": [
    "### Functions with flexible arguments\n",
    "Functions can be defined with a flexible number of agurments. \n",
    "You can use `*args` to define a function that take a variable number of agruments."
   ]
  },
  {
   "cell_type": "code",
   "execution_count": null,
   "metadata": {
    "colab": {
     "base_uri": "https://localhost:8080/"
    },
    "executionInfo": {
     "elapsed": 310,
     "status": "ok",
     "timestamp": 1605142209989,
     "user": {
      "displayName": "Clare Wolfendale",
      "photoUrl": "https://lh3.googleusercontent.com/a-/AOh14GjI2L9lH5C-yjbrYlEB6PFpcUYO5HWoosdDRFdsLw=s64",
      "userId": "03981592667884820104"
     },
     "user_tz": 300
    },
    "id": "UXDOz9Wl65MU",
    "outputId": "a93764a5-b5f8-47da-c836-168503318894"
   },
   "outputs": [
    {
     "name": "stdout",
     "output_type": "stream",
     "text": [
      "10\n"
     ]
    }
   ],
   "source": [
    "def add_n_nums(*args) :\n",
    "  \"\"\" Add the numbers in *args together. \"\"\"\n",
    "\n",
    "  # Initialize sum as 0\n",
    "  new_value = 0\n",
    "\n",
    "  # Add numbers in args\n",
    "  for value in args :\n",
    "    new_value += value\n",
    "\n",
    "  # Return sum\n",
    "  return new_value\n",
    "\n",
    "\n",
    "x = add_n_nums(2, 2, 5, 1)\n",
    "print(x)"
   ]
  },
  {
   "cell_type": "markdown",
   "metadata": {
    "id": "9Q1srNl-_y5T"
   },
   "source": [
    "You can use `*kwargs` to define a function that take a variable number of key word agruments."
   ]
  },
  {
   "cell_type": "code",
   "execution_count": null,
   "metadata": {
    "colab": {
     "base_uri": "https://localhost:8080/"
    },
    "executionInfo": {
     "elapsed": 338,
     "status": "ok",
     "timestamp": 1605142661249,
     "user": {
      "displayName": "Clare Wolfendale",
      "photoUrl": "https://lh3.googleusercontent.com/a-/AOh14GjI2L9lH5C-yjbrYlEB6PFpcUYO5HWoosdDRFdsLw=s64",
      "userId": "03981592667884820104"
     },
     "user_tz": 300
    },
    "id": "3VXl7QdF7oFq",
    "outputId": "7c4ee693-4cda-4586-d4a4-4c89f4a50079"
   },
   "outputs": [
    {
     "name": "stdout",
     "output_type": "stream",
     "text": [
      "employee: Clare\n",
      "supervisor: Nora\n",
      "status: doing alright\n"
     ]
    }
   ],
   "source": [
    "def print_report(**kwargs) :\n",
    "  \"\"\" Prints report. \"\"\"\n",
    "\n",
    "  # Loops over key-value pairs in kwargs\n",
    "  for key, value in kwargs.items() :\n",
    "    print(key + \": \" + value)\n",
    "\n",
    "\n",
    "print_report(employee=\"Clare\", supervisor=\"Nora\", status=\"doing alright\")"
   ]
  },
  {
   "cell_type": "markdown",
   "metadata": {
    "id": "67L4Vyqi9a89"
   },
   "source": [
    "### Error handling\n",
    "There are two types of error handling to that you can add to your functions.\n",
    "\n",
    "\n",
    "*   You can `raise` value and type errors.\n",
    "*   YOu can use `try` `except` to catch errors.\n",
    "\n"
   ]
  },
  {
   "cell_type": "code",
   "execution_count": null,
   "metadata": {
    "colab": {
     "base_uri": "https://localhost:8080/"
    },
    "executionInfo": {
     "elapsed": 321,
     "status": "ok",
     "timestamp": 1605143354052,
     "user": {
      "displayName": "Clare Wolfendale",
      "photoUrl": "https://lh3.googleusercontent.com/a-/AOh14GjI2L9lH5C-yjbrYlEB6PFpcUYO5HWoosdDRFdsLw=s64",
      "userId": "03981592667884820104"
     },
     "user_tz": 300
    },
    "id": "5tpuJmcB9gQn",
    "outputId": "ccf101c9-fa8f-4430-f087-32237ddca350"
   },
   "outputs": [
    {
     "data": {
      "text/plain": [
       "2.0"
      ]
     },
     "execution_count": 29,
     "metadata": {
      "tags": []
     },
     "output_type": "execute_result"
    }
   ],
   "source": [
    "def divide_nums(num, denom) :\n",
    "  \"\"\" Divides two numbers \"\"\"\n",
    "\n",
    "  if denom == 0 :\n",
    "    raise ValueError(\"No division by zero!!!\")\n",
    "  try :\n",
    "    return num/denom\n",
    "  except :\n",
    "    print(\"Invalid inputs for num, denom = \" + str(num) + \", \" + str(denom))\n",
    "\n",
    "\n",
    "divide_nums(4, 2)"
   ]
  },
  {
   "cell_type": "code",
   "execution_count": null,
   "metadata": {
    "colab": {
     "base_uri": "https://localhost:8080/"
    },
    "executionInfo": {
     "elapsed": 303,
     "status": "ok",
     "timestamp": 1605143383817,
     "user": {
      "displayName": "Clare Wolfendale",
      "photoUrl": "https://lh3.googleusercontent.com/a-/AOh14GjI2L9lH5C-yjbrYlEB6PFpcUYO5HWoosdDRFdsLw=s64",
      "userId": "03981592667884820104"
     },
     "user_tz": 300
    },
    "id": "j9DahVRv_p_V",
    "outputId": "5d8d7923-a71d-4fd5-c2d4-021a1e69e348"
   },
   "outputs": [
    {
     "name": "stdout",
     "output_type": "stream",
     "text": [
      "Invalid inputs for num, denom = 4, cat\n"
     ]
    }
   ],
   "source": [
    "divide_nums(4, \"cat\")"
   ]
  },
  {
   "cell_type": "code",
   "execution_count": null,
   "metadata": {
    "colab": {
     "base_uri": "https://localhost:8080/",
     "height": 282
    },
    "executionInfo": {
     "elapsed": 382,
     "status": "error",
     "timestamp": 1605143386415,
     "user": {
      "displayName": "Clare Wolfendale",
      "photoUrl": "https://lh3.googleusercontent.com/a-/AOh14GjI2L9lH5C-yjbrYlEB6PFpcUYO5HWoosdDRFdsLw=s64",
      "userId": "03981592667884820104"
     },
     "user_tz": 300
    },
    "id": "sgekGSoU_sBV",
    "outputId": "a61196da-87f7-45a3-bdc4-17714b96db07"
   },
   "outputs": [
    {
     "ename": "ValueError",
     "evalue": "ignored",
     "output_type": "error",
     "traceback": [
      "\u001b[0;31m---------------------------------------------------------------------------\u001b[0m",
      "\u001b[0;31mValueError\u001b[0m                                Traceback (most recent call last)",
      "\u001b[0;32m<ipython-input-32-2f9894b1f565>\u001b[0m in \u001b[0;36m<module>\u001b[0;34m()\u001b[0m\n\u001b[0;32m----> 1\u001b[0;31m \u001b[0mdivide_nums\u001b[0m\u001b[0;34m(\u001b[0m\u001b[0;36m4\u001b[0m\u001b[0;34m,\u001b[0m \u001b[0;36m0\u001b[0m\u001b[0;34m)\u001b[0m\u001b[0;34m\u001b[0m\u001b[0;34m\u001b[0m\u001b[0m\n\u001b[0m",
      "\u001b[0;32m<ipython-input-29-b7a343680503>\u001b[0m in \u001b[0;36mdivide_nums\u001b[0;34m(num, denom)\u001b[0m\n\u001b[1;32m      3\u001b[0m \u001b[0;34m\u001b[0m\u001b[0m\n\u001b[1;32m      4\u001b[0m   \u001b[0;32mif\u001b[0m \u001b[0mdenom\u001b[0m \u001b[0;34m==\u001b[0m \u001b[0;36m0\u001b[0m \u001b[0;34m:\u001b[0m\u001b[0;34m\u001b[0m\u001b[0;34m\u001b[0m\u001b[0m\n\u001b[0;32m----> 5\u001b[0;31m     \u001b[0;32mraise\u001b[0m \u001b[0mValueError\u001b[0m\u001b[0;34m(\u001b[0m\u001b[0;34m\"No division by zero!!!\"\u001b[0m\u001b[0;34m)\u001b[0m\u001b[0;34m\u001b[0m\u001b[0;34m\u001b[0m\u001b[0m\n\u001b[0m\u001b[1;32m      6\u001b[0m   \u001b[0;32mtry\u001b[0m \u001b[0;34m:\u001b[0m\u001b[0;34m\u001b[0m\u001b[0;34m\u001b[0m\u001b[0m\n\u001b[1;32m      7\u001b[0m     \u001b[0;32mreturn\u001b[0m \u001b[0mnum\u001b[0m\u001b[0;34m/\u001b[0m\u001b[0mdenom\u001b[0m\u001b[0;34m\u001b[0m\u001b[0;34m\u001b[0m\u001b[0m\n",
      "\u001b[0;31mValueError\u001b[0m: No division by zero!!!"
     ]
    }
   ],
   "source": [
    "divide_nums(4, 0)"
   ]
  }
 ],
 "metadata": {
  "colab": {
   "authorship_tag": "ABX9TyNAhMjN3QXKR8ycWXnjjEem",
   "collapsed_sections": [],
   "name": "Functions.ipynb",
   "provenance": [],
   "toc_visible": true
  },
  "kernelspec": {
   "display_name": "Python 3",
   "language": "python",
   "name": "python3"
  },
  "language_info": {
   "codemirror_mode": {
    "name": "ipython",
    "version": 3
   },
   "file_extension": ".py",
   "mimetype": "text/x-python",
   "name": "python",
   "nbconvert_exporter": "python",
   "pygments_lexer": "ipython3",
   "version": "3.6.3"
  }
 },
 "nbformat": 4,
 "nbformat_minor": 1
}
