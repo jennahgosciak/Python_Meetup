{
  "nbformat": 4,
  "nbformat_minor": 0,
  "metadata": {
    "colab": {
      "name": "Python_Challenge.ipynb",
      "provenance": [],
      "toc_visible": true,
      "authorship_tag": "ABX9TyP1vZIZOanEjMqqWpg0z9nY",
      "include_colab_link": true
    },
    "kernelspec": {
      "name": "python3",
      "display_name": "Python 3"
    }
  },
  "cells": [
    {
      "cell_type": "markdown",
      "metadata": {
        "id": "view-in-github",
        "colab_type": "text"
      },
      "source": [
        "<a href=\"https://colab.research.google.com/github/jennahgosciak/Python_Meetup/blob/master/Python_Challenge.ipynb\" target=\"_parent\"><img src=\"https://colab.research.google.com/assets/colab-badge.svg\" alt=\"Open In Colab\"/></a>"
      ]
    },
    {
      "cell_type": "markdown",
      "metadata": {
        "id": "WsMxqnaSaC7f",
        "colab_type": "text"
      },
      "source": [
        "# Python Challenge\n",
        "\n",
        "Complete a function (started below) that identifies whether some number \"x\" is in the ordered list l.\n",
        "\n",
        "There are different ways to approach this!"
      ]
    },
    {
      "cell_type": "code",
      "metadata": {
        "id": "qxiNHxblX3lQ",
        "colab_type": "code",
        "colab": {
          "base_uri": "https://localhost:8080/",
          "height": 35
        },
        "outputId": "ba63919c-ce69-45b2-d5cd-e99e715d6eb6"
      },
      "source": [
        "# One way to produce a list of numbers, from 0-9\n",
        "l = list(range(10))\n",
        "l"
      ],
      "execution_count": null,
      "outputs": [
        {
          "output_type": "execute_result",
          "data": {
            "text/plain": [
              "[0, 1, 2, 3, 4, 5, 6, 7, 8, 9]"
            ]
          },
          "metadata": {
            "tags": []
          },
          "execution_count": 59
        }
      ]
    },
    {
      "cell_type": "markdown",
      "metadata": {
        "id": "VXOj4KGzaY0U",
        "colab_type": "text"
      },
      "source": [
        "The simple way of doing this:"
      ]
    },
    {
      "cell_type": "code",
      "metadata": {
        "id": "Bl3w8tkZaV2E",
        "colab_type": "code",
        "colab": {
          "base_uri": "https://localhost:8080/",
          "height": 35
        },
        "outputId": "795d7e0c-8792-4abc-980e-5f6961cb5dbe"
      },
      "source": [
        "5 in l"
      ],
      "execution_count": null,
      "outputs": [
        {
          "output_type": "execute_result",
          "data": {
            "text/plain": [
              "True"
            ]
          },
          "metadata": {
            "tags": []
          },
          "execution_count": 60
        }
      ]
    },
    {
      "cell_type": "markdown",
      "metadata": {
        "id": "N4BgR9bcabOq",
        "colab_type": "text"
      },
      "source": [
        "Write a function that does the same thing using a loop:\n",
        "\n",
        "Concise and easier (rather than efficiently)."
      ]
    },
    {
      "cell_type": "code",
      "metadata": {
        "id": "lc2TAkL3Zr79",
        "colab_type": "code",
        "colab": {}
      },
      "source": [
        "def place_number(x,l):\n",
        "  \"\"\"\n",
        "  Identify whether x is in the ordered list l.\n",
        "  Use a docstring to describe what you want to be done.\n",
        "  \"\"\"\n",
        "  \n",
        "  #### for i in l:\n",
        "    if i == x:\n",
        "      return True\n",
        "  return False "
      ],
      "execution_count": null,
      "outputs": []
    },
    {
      "cell_type": "code",
      "metadata": {
        "id": "dxHQ9zzFatVC",
        "colab_type": "code",
        "colab": {}
      },
      "source": [
        "l = list(range(10))\n",
        "\n",
        "assert place_number(3,l) == True\n",
        "assert place_number(10,l) == False"
      ],
      "execution_count": null,
      "outputs": []
    },
    {
      "cell_type": "markdown",
      "metadata": {
        "id": "_RE-2sje52Kp",
        "colab_type": "text"
      },
      "source": [
        "## 1 -- for loop/iteration (with list)\n",
        "## 3 -- for loop/iteration (with a dictionary)"
      ]
    },
    {
      "cell_type": "markdown",
      "metadata": {
        "id": "K4w6ZxNcdMDP",
        "colab_type": "text"
      },
      "source": [
        "Write a similar function that does the same thing using a binary search:"
      ]
    },
    {
      "cell_type": "code",
      "metadata": {
        "id": "DrBtUAr0avuk",
        "colab_type": "code",
        "colab": {}
      },
      "source": [
        "def place_number(x, l):\n",
        "  \"\"\"\n",
        "  Identify whether x is in the ordered list l.\n",
        "  \"\"\"\n",
        "\n",
        "  # Using binary search, identify ways to break the problem up into\n",
        "  # smaller problems\n",
        "  a = 1\n",
        "  b = len(l) - 1\n",
        "  \n",
        "  while True:\n",
        "    i = (b+a)//2\n",
        "\n",
        "    mid = l[i]\n",
        "    if i == a or i == b:\n",
        "      return False\n",
        "\n",
        "    if mid==x:\n",
        "      return True\n",
        "    elif mid > x:\n",
        "      b = i\n",
        "    elif mid < x:\n",
        "      a = i"
      ],
      "execution_count": null,
      "outputs": []
    },
    {
      "cell_type": "code",
      "metadata": {
        "id": "UaU0PqM5h-UK",
        "colab_type": "code",
        "colab": {}
      },
      "source": [
        "l = list(range(10))\n",
        "assert place_number(4,l) == True\n",
        "assert place_number(11, l) == False\n",
        "\n",
        "l = [2, 4, 6, 8, 10, 12]\n",
        "assert place_number(7, l) == False\n",
        "assert place_number(-1, l) == False\n",
        "assert place_number(6, l) == True"
      ],
      "execution_count": null,
      "outputs": []
    },
    {
      "cell_type": "markdown",
      "metadata": {
        "id": "wB-zezstsB8r",
        "colab_type": "text"
      },
      "source": [
        "An alternate way of doing this--\n",
        "- Can it be done more efficiently? (probably...) "
      ]
    },
    {
      "cell_type": "code",
      "metadata": {
        "id": "rDuvitttmdoz",
        "colab_type": "code",
        "colab": {}
      },
      "source": [
        "def place_number(x, l):\n",
        "  \"\"\"\n",
        "  Identify whether x is in the ordered list l.\n",
        "  \"\"\"\n",
        "\n",
        "  while len(l) > 1:\n",
        "    if l[0] == x:\n",
        "      return True\n",
        "    else:\n",
        "      l = l[1:]\n",
        "      place_number(x,l)\n",
        "  \n",
        "  return(l[0]==x)\n"
      ],
      "execution_count": null,
      "outputs": []
    },
    {
      "cell_type": "code",
      "metadata": {
        "id": "EuWfNHxLm_6H",
        "colab_type": "code",
        "colab": {}
      },
      "source": [
        "assert place_number(2,l) == True\n",
        "assert place_number(6,l) == True\n",
        "assert place_number(5,l) == False\n",
        "assert place_number(-1,l) == False\n",
        "assert place_number(0.5,l) == False"
      ],
      "execution_count": null,
      "outputs": []
    }
  ]
}