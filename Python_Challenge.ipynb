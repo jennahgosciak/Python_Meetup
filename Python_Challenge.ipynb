{
  "nbformat": 4,
  "nbformat_minor": 0,
  "metadata": {
    "colab": {
      "name": "Python_Challenge.ipynb",
      "provenance": [],
      "toc_visible": true,
      "include_colab_link": true
    },
    "kernelspec": {
      "name": "python3",
      "display_name": "Python 3"
    }
  },
  "cells": [
    {
      "cell_type": "markdown",
      "metadata": {
        "id": "view-in-github",
        "colab_type": "text"
      },
      "source": [
        "<a href=\"https://colab.research.google.com/github/jennahgosciak/Python_Meetup/blob/kschellenberger/Python_Challenge.ipynb\" target=\"_parent\"><img src=\"https://colab.research.google.com/assets/colab-badge.svg\" alt=\"Open In Colab\"/></a>"
      ]
    },
    {
      "cell_type": "code",
      "metadata": {
        "id": "5M8IUXJRbuim"
      },
      "source": [
        "import matplotlib.pyplot as plt\n",
        "import requests\n",
        "import re"
      ],
      "execution_count": 127,
      "outputs": []
    },
    {
      "cell_type": "markdown",
      "metadata": {
        "id": "WsMxqnaSaC7f"
      },
      "source": [
        "# Python Challenge\n",
        "## For loop iteration with a list\n",
        "\n",
        "(1) Complete a function (started below) that identifies whether some number \"x\" is in the ordered list l.\n",
        "\n",
        "There are different ways to approach this!"
      ]
    },
    {
      "cell_type": "code",
      "metadata": {
        "id": "qxiNHxblX3lQ",
        "outputId": "e2f6e049-146d-44d5-cf36-8c976eb9f759",
        "colab": {
          "base_uri": "https://localhost:8080/"
        }
      },
      "source": [
        "# To produce a list of numbers use range and list\n",
        "l = list(range(10))\n",
        "l"
      ],
      "execution_count": 128,
      "outputs": [
        {
          "output_type": "execute_result",
          "data": {
            "text/plain": [
              "[0, 1, 2, 3, 4, 5, 6, 7, 8, 9]"
            ]
          },
          "metadata": {
            "tags": []
          },
          "execution_count": 128
        }
      ]
    },
    {
      "cell_type": "markdown",
      "metadata": {
        "id": "z8vjswjULJwu"
      },
      "source": [
        "*Range* produces a sequence of numbers ([documentation](https://docs.python.org/3.3/library/stdtypes.html?highlight=range#range)).\n",
        "\n",
        "A range type can be converted into a list using the constructor *list()* ([documentation](https://https://docs.python.org/3.3/library/stdtypes.html?highlight=range#lists)).\n",
        "\n",
        "Note the difference in the two examples below."
      ]
    },
    {
      "cell_type": "code",
      "metadata": {
        "id": "d2rx_RMuLIuw",
        "outputId": "b2714330-7a24-48ea-b400-7f0cdb0c4c88",
        "colab": {
          "base_uri": "https://localhost:8080/"
        }
      },
      "source": [
        "type(range(10))"
      ],
      "execution_count": 129,
      "outputs": [
        {
          "output_type": "execute_result",
          "data": {
            "text/plain": [
              "range"
            ]
          },
          "metadata": {
            "tags": []
          },
          "execution_count": 129
        }
      ]
    },
    {
      "cell_type": "code",
      "metadata": {
        "id": "D_O-yXNOMLIr",
        "outputId": "cd9a4b9b-0b68-4164-c12e-70a73ec42499",
        "colab": {
          "base_uri": "https://localhost:8080/"
        }
      },
      "source": [
        "type(list(range(10)))"
      ],
      "execution_count": 130,
      "outputs": [
        {
          "output_type": "execute_result",
          "data": {
            "text/plain": [
              "list"
            ]
          },
          "metadata": {
            "tags": []
          },
          "execution_count": 130
        }
      ]
    },
    {
      "cell_type": "markdown",
      "metadata": {
        "id": "VXOj4KGzaY0U"
      },
      "source": [
        "The simple way of doing this:"
      ]
    },
    {
      "cell_type": "code",
      "metadata": {
        "id": "Bl3w8tkZaV2E",
        "outputId": "6246c78b-9c81-4297-c0b4-4bc037d85870",
        "colab": {
          "base_uri": "https://localhost:8080/"
        }
      },
      "source": [
        "5 in l"
      ],
      "execution_count": 131,
      "outputs": [
        {
          "output_type": "execute_result",
          "data": {
            "text/plain": [
              "True"
            ]
          },
          "metadata": {
            "tags": []
          },
          "execution_count": 131
        }
      ]
    },
    {
      "cell_type": "markdown",
      "metadata": {
        "id": "N4BgR9bcabOq"
      },
      "source": [
        "Now write a function that does the same thing using a loop:"
      ]
    },
    {
      "cell_type": "code",
      "metadata": {
        "id": "lc2TAkL3Zr79"
      },
      "source": [
        "def place_number(x,l):\n",
        "  \"\"\"\n",
        "  Identify whether x is in the ordered list l.\n",
        "  Use a docstring to describe what you want the function to do.\n",
        "  \"\"\"\n",
        "  \n",
        "  if x in l:\n",
        "    return True\n",
        "  else: \n",
        "    return False\n",
        "\n",
        "  ## See below for an example of a conditional statement in Python.\n",
        "  ##if i == x:\n",
        "   ##return True\n",
        "  ## Indentation matters!"
      ],
      "execution_count": 132,
      "outputs": []
    },
    {
      "cell_type": "code",
      "metadata": {
        "id": "dxHQ9zzFatVC"
      },
      "source": [
        "l = list(range(10))\n",
        "\n",
        "# Check that the function worked\n",
        "assert place_number(3,l) == True\n",
        "assert place_number(10,l) == False"
      ],
      "execution_count": 133,
      "outputs": []
    },
    {
      "cell_type": "markdown",
      "metadata": {
        "id": "_RE-2sje52Kp"
      },
      "source": [
        "# Python Challenge\n",
        "## For loop iteration with a dictionary"
      ]
    },
    {
      "cell_type": "markdown",
      "metadata": {
        "id": "K4w6ZxNcdMDP"
      },
      "source": [
        "(2) Complete a function (started below) that identifies reads through a mail log, builds a histogram using a dictionary to count how many messages have come from each email address, and print the dictionary."
      ]
    },
    {
      "cell_type": "code",
      "metadata": {
        "id": "CSvSvqG9Pz01"
      },
      "source": [
        "url = \"http://www.py4inf.com/code/mbox-short.txt\"\n",
        "response = requests.get(url)\n",
        "file = response.text"
      ],
      "execution_count": 134,
      "outputs": []
    },
    {
      "cell_type": "code",
      "metadata": {
        "id": "O5zezFwMQKGt",
        "outputId": "1706e223-2c85-42b3-a86f-78a403d4f04f",
        "colab": {
          "base_uri": "https://localhost:8080/"
        }
      },
      "source": [
        "type(file)"
      ],
      "execution_count": 135,
      "outputs": [
        {
          "output_type": "execute_result",
          "data": {
            "text/plain": [
              "str"
            ]
          },
          "metadata": {
            "tags": []
          },
          "execution_count": 135
        }
      ]
    },
    {
      "cell_type": "code",
      "metadata": {
        "id": "04dMRsygRi3O"
      },
      "source": [
        "def count_emails(file):\n",
        "  emails = re.findall(\"[\\n][\\w]+ [:A-z:]+(?=@)\", file)\n",
        "  dict = {}\n",
        "\n",
        "  count = list()\n",
        "  # Create a dictionary with the number of times the name appears in the text file\n",
        "  for name in emails:\n",
        "    dict[name.replace(\"\\nFrom\",\"\")] = emails.count(name)\n",
        "\n",
        "  # Iterate through the dictionary and identify which name appears the most times\n",
        "  most = max(dict,key=dict.get)\n",
        "\n",
        "  # Print out who has the most emails\n",
        "  print(most, \"has the most emails in the file.\")\n",
        "  print(\"\")\n",
        "  \n",
        "  return(dict)\n"
      ],
      "execution_count": 136,
      "outputs": []
    },
    {
      "cell_type": "code",
      "metadata": {
        "id": "bzBbvUlfTflf",
        "outputId": "2c0c3dbb-70c4-4d99-9b61-a249880387f9",
        "colab": {
          "base_uri": "https://localhost:8080/"
        }
      },
      "source": [
        "email_dict = count_emails(file)"
      ],
      "execution_count": 137,
      "outputs": [
        {
          "output_type": "stream",
          "text": [
            " cwen has the most emails in the file.\n",
            "\n"
          ],
          "name": "stdout"
        }
      ]
    },
    {
      "cell_type": "code",
      "metadata": {
        "id": "2H6U5wj8YPgF",
        "outputId": "847eaecc-5530-4f89-9c49-bf597f263382",
        "colab": {
          "base_uri": "https://localhost:8080/"
        }
      },
      "source": [
        "print(email_dict)"
      ],
      "execution_count": 138,
      "outputs": [
        {
          "output_type": "stream",
          "text": [
            "{' louis': 3, ' zqian': 4, ' rjlowe': 2, ' cwen': 5, ' gsilver': 3, ' wagnermr': 1, ' antranig': 1, ' ray': 1}\n"
          ],
          "name": "stdout"
        }
      ]
    },
    {
      "cell_type": "code",
      "metadata": {
        "id": "UnX3Taz6YTe3",
        "outputId": "390ebe56-ce54-40d5-c8b5-95bfbc9c59b0",
        "colab": {
          "base_uri": "https://localhost:8080/",
          "height": 390
        }
      },
      "source": [
        "plt.figure(figsize = (12,6))\n",
        "plt.bar(*zip(*email_dict.items()), color = \"Coral\", width = .8)\n",
        "plt.title(\"Histogram of emails in text file\")\n",
        "plt.show()"
      ],
      "execution_count": 139,
      "outputs": [
        {
          "output_type": "display_data",
          "data": {
            "image/png": "[encoded data removed]",
            "text/plain": [
              "<Figure size 864x432 with 1 Axes>"
            ]
          },
          "metadata": {
            "tags": [],
            "needs_background": "light"
          }
        }
      ]
    },
    {
      "cell_type": "code",
      "metadata": {
        "id": "Xx5gMNOcYU30",
        "outputId": "1bc998b9-d922-44f9-9581-3c6fdac980fb",
        "colab": {
          "base_uri": "https://localhost:8080/"
        }
      },
      "source": [
        "# To see what is happening with zip, * unzips the dictionary key, value pairs:\n",
        "print(email_dict.items())\n",
        "unzipped_output = zip(*email_dict.items())\n",
        "print(unzipped_output)"
      ],
      "execution_count": 140,
      "outputs": [
        {
          "output_type": "stream",
          "text": [
            "dict_items([(' louis', 3), (' zqian', 4), (' rjlowe', 2), (' cwen', 5), (' gsilver', 3), (' wagnermr', 1), (' antranig', 1), (' ray', 1)])\n",
            "<zip object at 0x7f0fb1907b88>\n"
          ],
          "name": "stdout"
        }
      ]
    },
    {
      "cell_type": "code",
      "metadata": {
        "id": "Kg84YJyIYzia",
        "outputId": "f62c9245-e4f2-4894-b5f4-3a59d94bdff0",
        "colab": {
          "base_uri": "https://localhost:8080/"
        }
      },
      "source": [
        "x,y = unzipped_output\n",
        "print(x)\n",
        "print(y)\n",
        "print(*(x,y))"
      ],
      "execution_count": 141,
      "outputs": [
        {
          "output_type": "stream",
          "text": [
            "(' louis', ' zqian', ' rjlowe', ' cwen', ' gsilver', ' wagnermr', ' antranig', ' ray')\n",
            "(3, 4, 2, 5, 3, 1, 1, 1)\n",
            "(' louis', ' zqian', ' rjlowe', ' cwen', ' gsilver', ' wagnermr', ' antranig', ' ray') (3, 4, 2, 5, 3, 1, 1, 1)\n"
          ],
          "name": "stdout"
        }
      ]
    },
    {
      "cell_type": "code",
      "metadata": {
        "id": "wNbHfDgEZ2kD",
        "outputId": "b5018477-6af4-43b9-cc73-33607c59df27",
        "colab": {
          "base_uri": "https://localhost:8080/"
        }
      },
      "source": [
        "print(type(x))\n",
        "print(type(y))"
      ],
      "execution_count": 142,
      "outputs": [
        {
          "output_type": "stream",
          "text": [
            "<class 'tuple'>\n",
            "<class 'tuple'>\n"
          ],
          "name": "stdout"
        }
      ]
    },
    {
      "cell_type": "code",
      "metadata": {
        "id": "M_0OiO1_bQiT"
      },
      "source": [
        ""
      ],
      "execution_count": null,
      "outputs": []
    }
  ]
}