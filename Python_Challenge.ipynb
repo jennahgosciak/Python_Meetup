{
  "nbformat": 4,
  "nbformat_minor": 0,
  "metadata": {
    "colab": {
      "name": "Python_Challenge.ipynb",
      "provenance": [],
      "toc_visible": true,
      "authorship_tag": "ABX9TyM2XgWUQdf/9l66FGur1XG9",
      "include_colab_link": true
    },
    "kernelspec": {
      "name": "python3",
      "display_name": "Python 3"
    }
  },
  "cells": [
    {
      "cell_type": "markdown",
      "metadata": {
        "id": "view-in-github",
        "colab_type": "text"
      },
      "source": [
        "<a href=\"https://colab.research.google.com/github/jennahgosciak/Python_Meetup/blob/master/Python_Challenge.ipynb\" target=\"_parent\"><img src=\"https://colab.research.google.com/assets/colab-badge.svg\" alt=\"Open In Colab\"/></a>"
      ]
    },
    {
      "cell_type": "code",
      "metadata": {
        "id": "5M8IUXJRbuim",
        "colab_type": "code",
        "colab": {}
      },
      "source": [
        "import matplotlib.pyplot as plt\n",
        "import requests\n",
        "import re"
      ],
      "execution_count": null,
      "outputs": []
    },
    {
      "cell_type": "markdown",
      "metadata": {
        "id": "WsMxqnaSaC7f",
        "colab_type": "text"
      },
      "source": [
        "# Python Challenge\n",
        "## For loop iteration with a list\n",
        "\n",
        "(1) Complete a function (started below) that identifies whether some number \"x\" is in the ordered list l.\n",
        "\n",
        "There are different ways to approach this!"
      ]
    },
    {
      "cell_type": "code",
      "metadata": {
        "id": "qxiNHxblX3lQ",
        "colab_type": "code",
        "colab": {
          "base_uri": "https://localhost:8080/",
          "height": 35
        },
        "outputId": "959f1a91-a121-4f6d-94ce-24eec9885576"
      },
      "source": [
        "# To produce a list of numbers use range and list\n",
        "l = list(range(10))\n",
        "l"
      ],
      "execution_count": null,
      "outputs": [
        {
          "output_type": "execute_result",
          "data": {
            "text/plain": [
              "[0, 1, 2, 3, 4, 5, 6, 7, 8, 9]"
            ]
          },
          "metadata": {
            "tags": []
          },
          "execution_count": 209
        }
      ]
    },
    {
      "cell_type": "markdown",
      "metadata": {
        "id": "z8vjswjULJwu",
        "colab_type": "text"
      },
      "source": [
        "*Range* produces a sequence of numbers ([documentation](https://docs.python.org/3.3/library/stdtypes.html?highlight=range#range)).\n",
        "\n",
        "A range type can be converted into a list using the constructor *list()* ([documentation](https://https://docs.python.org/3.3/library/stdtypes.html?highlight=range#lists)).\n",
        "\n",
        "Note the difference in the two examples below."
      ]
    },
    {
      "cell_type": "code",
      "metadata": {
        "id": "d2rx_RMuLIuw",
        "colab_type": "code",
        "colab": {
          "base_uri": "https://localhost:8080/",
          "height": 35
        },
        "outputId": "3c5fc3d9-a88e-4f94-fea5-99878a794313"
      },
      "source": [
        "type(range(10))"
      ],
      "execution_count": null,
      "outputs": [
        {
          "output_type": "execute_result",
          "data": {
            "text/plain": [
              "range"
            ]
          },
          "metadata": {
            "tags": []
          },
          "execution_count": 210
        }
      ]
    },
    {
      "cell_type": "code",
      "metadata": {
        "id": "D_O-yXNOMLIr",
        "colab_type": "code",
        "colab": {
          "base_uri": "https://localhost:8080/",
          "height": 35
        },
        "outputId": "4c1e382a-3e89-49a2-de33-5a6b850cac44"
      },
      "source": [
        "type(list(range(10)))"
      ],
      "execution_count": null,
      "outputs": [
        {
          "output_type": "execute_result",
          "data": {
            "text/plain": [
              "list"
            ]
          },
          "metadata": {
            "tags": []
          },
          "execution_count": 211
        }
      ]
    },
    {
      "cell_type": "markdown",
      "metadata": {
        "id": "VXOj4KGzaY0U",
        "colab_type": "text"
      },
      "source": [
        "The simple way of doing this:"
      ]
    },
    {
      "cell_type": "code",
      "metadata": {
        "id": "Bl3w8tkZaV2E",
        "colab_type": "code",
        "colab": {
          "base_uri": "https://localhost:8080/",
          "height": 35
        },
        "outputId": "42ea88f1-7fa1-4f6d-cad4-0ce28af40808"
      },
      "source": [
        "5 in l"
      ],
      "execution_count": null,
      "outputs": [
        {
          "output_type": "execute_result",
          "data": {
            "text/plain": [
              "True"
            ]
          },
          "metadata": {
            "tags": []
          },
          "execution_count": 212
        }
      ]
    },
    {
      "cell_type": "markdown",
      "metadata": {
        "id": "N4BgR9bcabOq",
        "colab_type": "text"
      },
      "source": [
        "Now write a function that does the same thing using a loop:"
      ]
    },
    {
      "cell_type": "code",
      "metadata": {
        "id": "lc2TAkL3Zr79",
        "colab_type": "code",
        "colab": {}
      },
      "source": [
        "def place_number(x,l):\n",
        "  \"\"\"\n",
        "  Identify whether x is in the ordered list l.\n",
        "  Use a docstring to describe what you want the function to do.\n",
        "  \"\"\"\n",
        "  \n",
        "  ## See below for an example of a conditional statement in Python.\n",
        "  ## if i == x:\n",
        "    ## return True\n",
        "  ## Indentation matters!"
      ],
      "execution_count": null,
      "outputs": []
    },
    {
      "cell_type": "code",
      "metadata": {
        "id": "dxHQ9zzFatVC",
        "colab_type": "code",
        "colab": {}
      },
      "source": [
        "l = list(range(10))\n",
        "\n",
        "# Check that the function worked\n",
        "#assert place_number(3,l) == True\n",
        "#assert place_number(10,l) == False"
      ],
      "execution_count": null,
      "outputs": []
    },
    {
      "cell_type": "markdown",
      "metadata": {
        "id": "_RE-2sje52Kp",
        "colab_type": "text"
      },
      "source": [
        "# Python Challenge\n",
        "## For loop iteration with a dictionary"
      ]
    },
    {
      "cell_type": "markdown",
      "metadata": {
        "id": "K4w6ZxNcdMDP",
        "colab_type": "text"
      },
      "source": [
        "(2) Complete a function (started below) that identifies reads through a mail log, builds a histogram using a dictionary to count how many messages have come from each email address, and print the dictionary."
      ]
    },
    {
      "cell_type": "code",
      "metadata": {
        "id": "CSvSvqG9Pz01",
        "colab_type": "code",
        "colab": {}
      },
      "source": [
        "url = \"http://www.py4inf.com/code/mbox-short.txt\"\n",
        "response = requests.get(url)\n",
        "file = response.text"
      ],
      "execution_count": null,
      "outputs": []
    },
    {
      "cell_type": "code",
      "metadata": {
        "id": "O5zezFwMQKGt",
        "colab_type": "code",
        "colab": {
          "base_uri": "https://localhost:8080/",
          "height": 35
        },
        "outputId": "6d5e3629-72d3-4e39-94bf-bf4b9a87db3e"
      },
      "source": [
        "type(data)"
      ],
      "execution_count": null,
      "outputs": [
        {
          "output_type": "execute_result",
          "data": {
            "text/plain": [
              "str"
            ]
          },
          "metadata": {
            "tags": []
          },
          "execution_count": 217
        }
      ]
    },
    {
      "cell_type": "code",
      "metadata": {
        "id": "04dMRsygRi3O",
        "colab_type": "code",
        "colab": {}
      },
      "source": [
        "def count_emails(file):\n",
        "  emails = re.findall(\"(?<=@)[:A-z:]+\", file)\n",
        "  dict = {}\n",
        "\n",
        "  # Create a dictionary with the number of times the name appears in the text file\n",
        "  for name in emails:\n",
        "    if name in dict.keys():\n",
        "      dict[str(name)] += 1\n",
        "    else:\n",
        "      dict[str(name)] = 1\n",
        "\n",
        "  # Iterate through the dictionary and identify which name appears the most times\n",
        "  for name, value in dict.items():\n",
        "    max = value\n",
        "    max_name = name\n",
        "    if value > max:\n",
        "      max = value\n",
        "      max_name = name \n",
        "\n",
        "  # Print out who has the most emails, using format()\n",
        "  print(\"{} has the most emails in the file.\".format(max_name))\n",
        "  print(\"\")\n",
        "  \n",
        "  return(dict)\n"
      ],
      "execution_count": null,
      "outputs": []
    },
    {
      "cell_type": "code",
      "metadata": {
        "id": "bzBbvUlfTflf",
        "colab_type": "code",
        "colab": {
          "base_uri": "https://localhost:8080/",
          "height": 52
        },
        "outputId": "9fe6dded-26c1-46d0-c881-a5ac8e5f62b0"
      },
      "source": [
        "email_dict = count_emails(file)"
      ],
      "execution_count": null,
      "outputs": [
        {
          "output_type": "stream",
          "text": [
            "david has the most emails in the file.\n",
            "\n"
          ],
          "name": "stdout"
        }
      ]
    },
    {
      "cell_type": "code",
      "metadata": {
        "id": "2H6U5wj8YPgF",
        "colab_type": "code",
        "colab": {
          "base_uri": "https://localhost:8080/",
          "height": 55
        },
        "outputId": "e4b58e70-40fb-4f0a-efcf-35204e7ca7ec"
      },
      "source": [
        "print(email_dict)"
      ],
      "execution_count": null,
      "outputs": [
        {
          "output_type": "stream",
          "text": [
            "{'uct': 25, 'collab': 162, 'nakamura': 27, 'localhost': 27, 'media': 16, 'umich': 29, 'iupui': 38, 'caret': 4, 'gmail': 4, 'david': 4}\n"
          ],
          "name": "stdout"
        }
      ]
    },
    {
      "cell_type": "code",
      "metadata": {
        "id": "UnX3Taz6YTe3",
        "colab_type": "code",
        "colab": {
          "base_uri": "https://localhost:8080/",
          "height": 390
        },
        "outputId": "fed8a736-15fe-4b31-8b7b-55a4076831ef"
      },
      "source": [
        "plt.figure(figsize = (10,6))\n",
        "plt.bar(*zip(*email_dict.items()), color = \"Coral\", width = .8)\n",
        "plt.title(\"Histogram of emails in text file\")\n",
        "plt.show()"
      ],
      "execution_count": null,
      "outputs": [
        {
          "output_type": "display_data",
          "data": {
            "image/png": "[encoded data removed]",
            "text/plain": [
              "<Figure size 720x432 with 1 Axes>"
            ]
          },
          "metadata": {
            "tags": [],
            "needs_background": "light"
          }
        }
      ]
    },
    {
      "cell_type": "code",
      "metadata": {
        "id": "Xx5gMNOcYU30",
        "colab_type": "code",
        "colab": {
          "base_uri": "https://localhost:8080/",
          "height": 72
        },
        "outputId": "bc24fcd9-b1f2-4870-9547-a5887af91091"
      },
      "source": [
        "# To see what is happening with zip, * unzips the dictionary key, value pairs:\n",
        "print(email_dict.items())\n",
        "unzipped_output = zip(*email_dict.items())\n",
        "print(unzipped_output)"
      ],
      "execution_count": null,
      "outputs": [
        {
          "output_type": "stream",
          "text": [
            "dict_items([('uct', 25), ('collab', 162), ('nakamura', 27), ('localhost', 27), ('media', 16), ('umich', 29), ('iupui', 38), ('caret', 4), ('gmail', 4), ('david', 4)])\n",
            "<zip object at 0x7fdb6b7585c8>\n"
          ],
          "name": "stdout"
        }
      ]
    },
    {
      "cell_type": "code",
      "metadata": {
        "id": "Kg84YJyIYzia",
        "colab_type": "code",
        "colab": {
          "base_uri": "https://localhost:8080/",
          "height": 89
        },
        "outputId": "26761311-8fa7-44a2-dbbf-f2bd8d9dae55"
      },
      "source": [
        "x,y = unzipped_output\n",
        "print(x)\n",
        "print(y)\n",
        "print(*(x,y))"
      ],
      "execution_count": null,
      "outputs": [
        {
          "output_type": "stream",
          "text": [
            "('uct', 'collab', 'nakamura', 'localhost', 'media', 'umich', 'iupui', 'caret', 'gmail', 'david')\n",
            "(25, 162, 27, 27, 16, 29, 38, 4, 4, 4)\n",
            "('uct', 'collab', 'nakamura', 'localhost', 'media', 'umich', 'iupui', 'caret', 'gmail', 'david') (25, 162, 27, 27, 16, 29, 38, 4, 4, 4)\n"
          ],
          "name": "stdout"
        }
      ]
    },
    {
      "cell_type": "code",
      "metadata": {
        "id": "wNbHfDgEZ2kD",
        "colab_type": "code",
        "colab": {
          "base_uri": "https://localhost:8080/",
          "height": 52
        },
        "outputId": "2f2e6e00-c80c-45df-d306-3e174dfaef97"
      },
      "source": [
        "print(type(x))\n",
        "print(type(y))"
      ],
      "execution_count": null,
      "outputs": [
        {
          "output_type": "stream",
          "text": [
            "<class 'tuple'>\n",
            "<class 'tuple'>\n"
          ],
          "name": "stdout"
        }
      ]
    },
    {
      "cell_type": "code",
      "metadata": {
        "id": "M_0OiO1_bQiT",
        "colab_type": "code",
        "colab": {}
      },
      "source": [
        ""
      ],
      "execution_count": null,
      "outputs": []
    }
  ]
}