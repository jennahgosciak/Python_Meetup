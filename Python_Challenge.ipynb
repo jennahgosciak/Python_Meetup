{
  "nbformat": 4,
  "nbformat_minor": 0,
  "metadata": {
    "colab": {
      "name": "Python_Challenge.ipynb",
      "provenance": [],
      "authorship_tag": "ABX9TyOLx9njrWirv0ahn/hzkTVO",
      "include_colab_link": true
    },
    "kernelspec": {
      "name": "python3",
      "display_name": "Python 3"
    }
  },
  "cells": [
    {
      "cell_type": "markdown",
      "metadata": {
        "id": "view-in-github",
        "colab_type": "text"
      },
      "source": [
        "<a href=\"https://colab.research.google.com/github/jennahgosciak/Python_Meetup/blob/master/Python_Challenge.ipynb\" target=\"_parent\"><img src=\"https://colab.research.google.com/assets/colab-badge.svg\" alt=\"Open In Colab\"/></a>"
      ]
    },
    {
      "cell_type": "markdown",
      "metadata": {
        "id": "WsMxqnaSaC7f",
        "colab_type": "text"
      },
      "source": [
        "# Python Challenge\n",
        "\n",
        "Complete a function (started below) that identifies whether some number \"x\" is in the ordered list l.\n",
        "\n",
        "There are different ways to approach this!"
      ]
    },
    {
      "cell_type": "code",
      "metadata": {
        "id": "qxiNHxblX3lQ",
        "colab_type": "code",
        "colab": {
          "base_uri": "https://localhost:8080/",
          "height": 35
        },
        "outputId": "b114c0a2-11f4-40ab-8d6a-aacc8a2694ad"
      },
      "source": [
        "l = list(range(10))\n",
        "l"
      ],
      "execution_count": 2,
      "outputs": [
        {
          "output_type": "execute_result",
          "data": {
            "text/plain": [
              "[0, 1, 2, 3, 4, 5, 6, 7, 8, 9]"
            ]
          },
          "metadata": {
            "tags": []
          },
          "execution_count": 2
        }
      ]
    },
    {
      "cell_type": "markdown",
      "metadata": {
        "id": "VXOj4KGzaY0U",
        "colab_type": "text"
      },
      "source": [
        "The simple way of doing this:"
      ]
    },
    {
      "cell_type": "code",
      "metadata": {
        "id": "Bl3w8tkZaV2E",
        "colab_type": "code",
        "colab": {
          "base_uri": "https://localhost:8080/",
          "height": 35
        },
        "outputId": "704326f7-ed23-44e6-c99a-1def298ed719"
      },
      "source": [
        "5 in l"
      ],
      "execution_count": 3,
      "outputs": [
        {
          "output_type": "execute_result",
          "data": {
            "text/plain": [
              "True"
            ]
          },
          "metadata": {
            "tags": []
          },
          "execution_count": 3
        }
      ]
    },
    {
      "cell_type": "markdown",
      "metadata": {
        "id": "N4BgR9bcabOq",
        "colab_type": "text"
      },
      "source": [
        "Write a function that does the same thing using a loop:"
      ]
    },
    {
      "cell_type": "code",
      "metadata": {
        "id": "lc2TAkL3Zr79",
        "colab_type": "code",
        "colab": {}
      },
      "source": [
        "def place_number(x):\n",
        "  \"\"\"\n",
        "  Identify whether x is in the ordered list l.\n",
        "  \"\"\"\n",
        "\n",
        "  l = list(range(10))\n",
        "\n",
        "  for i in l:\n",
        "    if i == x:\n",
        "      return True\n",
        "  return False "
      ],
      "execution_count": 4,
      "outputs": []
    },
    {
      "cell_type": "code",
      "metadata": {
        "id": "dxHQ9zzFatVC",
        "colab_type": "code",
        "colab": {
          "base_uri": "https://localhost:8080/",
          "height": 35
        },
        "outputId": "6aa494b1-17bc-42cc-886d-186579563691"
      },
      "source": [
        "place_number(3)"
      ],
      "execution_count": 5,
      "outputs": [
        {
          "output_type": "execute_result",
          "data": {
            "text/plain": [
              "True"
            ]
          },
          "metadata": {
            "tags": []
          },
          "execution_count": 5
        }
      ]
    },
    {
      "cell_type": "code",
      "metadata": {
        "id": "ZbAuF7NCaui_",
        "colab_type": "code",
        "colab": {
          "base_uri": "https://localhost:8080/",
          "height": 35
        },
        "outputId": "b26ca84f-bc94-4ef9-f342-bac620500637"
      },
      "source": [
        "place_number(10)"
      ],
      "execution_count": 6,
      "outputs": [
        {
          "output_type": "execute_result",
          "data": {
            "text/plain": [
              "False"
            ]
          },
          "metadata": {
            "tags": []
          },
          "execution_count": 6
        }
      ]
    },
    {
      "cell_type": "markdown",
      "metadata": {
        "id": "K4w6ZxNcdMDP",
        "colab_type": "text"
      },
      "source": [
        "Write a similar function that does the same thing using a binary search:"
      ]
    },
    {
      "cell_type": "code",
      "metadata": {
        "id": "DrBtUAr0avuk",
        "colab_type": "code",
        "colab": {}
      },
      "source": [
        "def place_number(x, l):\n",
        "  \"\"\"\n",
        "  Identify whether x is in the ordered list l.\n",
        "  \"\"\"\n",
        "\n",
        "  # Using a binary search, identify ways to break the problem up into\n",
        "  # smaller problems\n",
        "  a = 1\n",
        "  b = len(l) - 1\n",
        "  \n",
        "  while True:\n",
        "    i = (b+a)//2\n",
        "\n",
        "    mid = l[i]\n",
        "    if i == a or i == b:\n",
        "      return False\n",
        "\n",
        "    if mid==x:\n",
        "      return True\n",
        "    elif mid > x:\n",
        "      b = i\n",
        "    elif mid < x:\n",
        "      a = i"
      ],
      "execution_count": 14,
      "outputs": []
    },
    {
      "cell_type": "code",
      "metadata": {
        "id": "UaU0PqM5h-UK",
        "colab_type": "code",
        "colab": {
          "base_uri": "https://localhost:8080/",
          "height": 35
        },
        "outputId": "bd271621-df53-4b85-d298-3e1ecb40657a"
      },
      "source": [
        "l = list(range(10))\n",
        "place_number(4,l)"
      ],
      "execution_count": 8,
      "outputs": [
        {
          "output_type": "execute_result",
          "data": {
            "text/plain": [
              "True"
            ]
          },
          "metadata": {
            "tags": []
          },
          "execution_count": 8
        }
      ]
    },
    {
      "cell_type": "code",
      "metadata": {
        "id": "ZkDRl7JVcIS5",
        "colab_type": "code",
        "colab": {
          "base_uri": "https://localhost:8080/",
          "height": 35
        },
        "outputId": "3e28ed5e-5658-409e-b03e-28fd65fea4a8"
      },
      "source": [
        "place_number(11, l)"
      ],
      "execution_count": 9,
      "outputs": [
        {
          "output_type": "execute_result",
          "data": {
            "text/plain": [
              "False"
            ]
          },
          "metadata": {
            "tags": []
          },
          "execution_count": 9
        }
      ]
    },
    {
      "cell_type": "code",
      "metadata": {
        "id": "sNamPIiofllj",
        "colab_type": "code",
        "colab": {
          "base_uri": "https://localhost:8080/",
          "height": 35
        },
        "outputId": "0ce53590-f6b3-4a14-f5c5-a168364773ef"
      },
      "source": [
        "l = [2, 4, 6, 8, 10, 12]\n",
        "place_number(7, l)"
      ],
      "execution_count": 10,
      "outputs": [
        {
          "output_type": "execute_result",
          "data": {
            "text/plain": [
              "False"
            ]
          },
          "metadata": {
            "tags": []
          },
          "execution_count": 10
        }
      ]
    },
    {
      "cell_type": "code",
      "metadata": {
        "id": "frazxhySjWkV",
        "colab_type": "code",
        "colab": {
          "base_uri": "https://localhost:8080/",
          "height": 35
        },
        "outputId": "97ed0529-b3f7-4e56-f748-6713117d4c49"
      },
      "source": [
        "place_number(-1, l)"
      ],
      "execution_count": 11,
      "outputs": [
        {
          "output_type": "execute_result",
          "data": {
            "text/plain": [
              "False"
            ]
          },
          "metadata": {
            "tags": []
          },
          "execution_count": 11
        }
      ]
    },
    {
      "cell_type": "code",
      "metadata": {
        "id": "ygvhe6rbjX3n",
        "colab_type": "code",
        "colab": {
          "base_uri": "https://localhost:8080/",
          "height": 35
        },
        "outputId": "1ccf6b37-6880-4645-de3f-29f783c62883"
      },
      "source": [
        "place_number(6, l)"
      ],
      "execution_count": 12,
      "outputs": [
        {
          "output_type": "execute_result",
          "data": {
            "text/plain": [
              "True"
            ]
          },
          "metadata": {
            "tags": []
          },
          "execution_count": 12
        }
      ]
    }
  ]
}