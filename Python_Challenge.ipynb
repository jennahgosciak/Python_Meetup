{
  "nbformat": 4,
  "nbformat_minor": 0,
  "metadata": {
    "colab": {
      "name": "Python_Challenge.ipynb",
      "provenance": [],
      "toc_visible": true,
      "include_colab_link": true
    },
    "kernelspec": {
      "name": "python3",
      "display_name": "Python 3"
    }
  },
  "cells": [
    {
      "cell_type": "markdown",
      "metadata": {
        "id": "view-in-github",
        "colab_type": "text"
      },
      "source": [
        "<a href=\"https://colab.research.google.com/github/jennahgosciak/Python_Meetup/blob/mjacobus/Python_Challenge.ipynb\" target=\"_parent\"><img src=\"https://colab.research.google.com/assets/colab-badge.svg\" alt=\"Open In Colab\"/></a>"
      ]
    },
    {
      "cell_type": "code",
      "metadata": {
        "id": "5M8IUXJRbuim"
      },
      "source": [
        "import matplotlib.pyplot as plt\n",
        "import requests\n",
        "import re"
      ],
      "execution_count": 3,
      "outputs": []
    },
    {
      "cell_type": "markdown",
      "metadata": {
        "id": "WsMxqnaSaC7f"
      },
      "source": [
        "# Python Challenge\n",
        "## For loop iteration with a list\n",
        "\n",
        "(1) Complete a function (started below) that identifies whether some number \"x\" is in the ordered list l.\n",
        "\n",
        "There are different ways to approach this!"
      ]
    },
    {
      "cell_type": "code",
      "metadata": {
        "id": "qxiNHxblX3lQ",
        "outputId": "920053ca-9649-4ede-efeb-5b6e5dbf39c9",
        "colab": {
          "base_uri": "https://localhost:8080/"
        }
      },
      "source": [
        "# To produce a list of numbers use range and list\n",
        "l = list(range(10))\n",
        "l"
      ],
      "execution_count": 4,
      "outputs": [
        {
          "output_type": "execute_result",
          "data": {
            "text/plain": [
              "[0, 1, 2, 3, 4, 5, 6, 7, 8, 9]"
            ]
          },
          "metadata": {
            "tags": []
          },
          "execution_count": 4
        }
      ]
    },
    {
      "cell_type": "markdown",
      "metadata": {
        "id": "z8vjswjULJwu"
      },
      "source": [
        "*Range* produces a sequence of numbers ([documentation](https://docs.python.org/3.3/library/stdtypes.html?highlight=range#range)).\n",
        "\n",
        "A range type can be converted into a list using the constructor *list()* ([documentation](https://https://docs.python.org/3.3/library/stdtypes.html?highlight=range#lists)).\n",
        "\n",
        "Note the difference in the two examples below."
      ]
    },
    {
      "cell_type": "code",
      "metadata": {
        "id": "d2rx_RMuLIuw",
        "outputId": "909f3ba9-0083-4224-c6bb-d73400973be3",
        "colab": {
          "base_uri": "https://localhost:8080/",
          "height": 35
        }
      },
      "source": [
        "type(range(10))"
      ],
      "execution_count": null,
      "outputs": [
        {
          "output_type": "execute_result",
          "data": {
            "text/plain": [
              "range"
            ]
          },
          "metadata": {
            "tags": []
          },
          "execution_count": 64
        }
      ]
    },
    {
      "cell_type": "code",
      "metadata": {
        "id": "D_O-yXNOMLIr",
        "outputId": "27db0e1b-d4c3-45f0-b02c-4614ea0ee64d",
        "colab": {
          "base_uri": "https://localhost:8080/",
          "height": 35
        }
      },
      "source": [
        "type(list(range(10)))"
      ],
      "execution_count": null,
      "outputs": [
        {
          "output_type": "execute_result",
          "data": {
            "text/plain": [
              "list"
            ]
          },
          "metadata": {
            "tags": []
          },
          "execution_count": 65
        }
      ]
    },
    {
      "cell_type": "markdown",
      "metadata": {
        "id": "VXOj4KGzaY0U"
      },
      "source": [
        "The simple way of doing this:"
      ]
    },
    {
      "cell_type": "code",
      "metadata": {
        "id": "Bl3w8tkZaV2E",
        "outputId": "5f78abd4-cf19-470e-8e51-e9898ea8f873",
        "colab": {
          "base_uri": "https://localhost:8080/",
          "height": 35
        }
      },
      "source": [
        "5 in l"
      ],
      "execution_count": null,
      "outputs": [
        {
          "output_type": "execute_result",
          "data": {
            "text/plain": [
              "True"
            ]
          },
          "metadata": {
            "tags": []
          },
          "execution_count": 66
        }
      ]
    },
    {
      "cell_type": "markdown",
      "metadata": {
        "id": "N4BgR9bcabOq"
      },
      "source": [
        "Now write a function that does the same thing using a loop:"
      ]
    },
    {
      "cell_type": "code",
      "metadata": {
        "id": "lc2TAkL3Zr79"
      },
      "source": [
        "def place_number(x,l_full):\n",
        "  '''Returns True if number is found in list, otherwise False'''\n",
        "  l = list(set(l_full))\n",
        "  for i in l:\n",
        "    if i == x:\n",
        "      print(\"Found it!\")\n",
        "      return(True)\n",
        "      break\n",
        "  print(\"No luck :/\")\n",
        "  return(False)"
      ],
      "execution_count": 30,
      "outputs": []
    },
    {
      "cell_type": "code",
      "metadata": {
        "id": "dxHQ9zzFatVC",
        "outputId": "e70a1327-67b5-4b14-f2d8-d2d234fe0176",
        "colab": {
          "base_uri": "https://localhost:8080/"
        }
      },
      "source": [
        "l = list(range(10))\n",
        "m = list([-2, -2, -1, -1, -1, 0])\n",
        "\n",
        "# Check that the function worked\n",
        "assert place_number(3,l) == True\n",
        "assert place_number(10,l) == False\n",
        "assert place_number(-3, m) == False\n",
        "assert place_number(-1, m) == True"
      ],
      "execution_count": 33,
      "outputs": [
        {
          "output_type": "stream",
          "text": [
            "Found it!\n",
            "No luck :/\n",
            "No luck :/\n",
            "Found it!\n"
          ],
          "name": "stdout"
        }
      ]
    },
    {
      "cell_type": "markdown",
      "metadata": {
        "id": "_RE-2sje52Kp"
      },
      "source": [
        "# Python Challenge\n",
        "## For loop iteration with a dictionary"
      ]
    },
    {
      "cell_type": "markdown",
      "metadata": {
        "id": "K4w6ZxNcdMDP"
      },
      "source": [
        "(2) Complete a function (started below) that identifies reads through a mail log, builds a histogram using a dictionary to count how many messages have come from each email address, and print the dictionary."
      ]
    },
    {
      "cell_type": "code",
      "metadata": {
        "id": "CSvSvqG9Pz01"
      },
      "source": [
        "url = \"http://www.py4inf.com/code/mbox-short.txt\"\n",
        "response = requests.get(url)\n",
        "file = response.text"
      ],
      "execution_count": 34,
      "outputs": []
    },
    {
      "cell_type": "code",
      "metadata": {
        "id": "O5zezFwMQKGt",
        "outputId": "3cc335f8-a42b-4a18-df9e-2f542eb7326f",
        "colab": {
          "base_uri": "https://localhost:8080/"
        }
      },
      "source": [
        "type(file)"
      ],
      "execution_count": 35,
      "outputs": [
        {
          "output_type": "execute_result",
          "data": {
            "text/plain": [
              "str"
            ]
          },
          "metadata": {
            "tags": []
          },
          "execution_count": 35
        }
      ]
    },
    {
      "cell_type": "code",
      "metadata": {
        "id": "04dMRsygRi3O"
      },
      "source": [
        "def count_emails(file):\n",
        "  emails = re.findall(\"[:A-z.-:]+(?=@)\", file)\n",
        "  dict = {}\n",
        "\n",
        "  emails_distinct = sorted(list(set(emails)))\n",
        "\n",
        "  # Create a dictionary with the number of times the name appears in the text file\n",
        "  for name in emails_distinct:\n",
        "\n",
        "    dict[name] = emails.count(name)  \n",
        "\n",
        "    max_count = 0\n",
        "    max_name  = \"_NULL_\"\n",
        "\n",
        "  # Iterate through the dictionary and identify which name appears the most times\n",
        "  for name, value in dict.items():\n",
        "\n",
        "    if value > max_count:\n",
        "      max_count = value\n",
        "      max_name = name\n",
        "    \n",
        "  #Print out who has the most emails\n",
        "  print(max_name, \"has the most emails in the file.\")\n",
        "  print(\"\")\n",
        "  \n",
        "  return(dict)\n"
      ],
      "execution_count": 97,
      "outputs": []
    },
    {
      "cell_type": "code",
      "metadata": {
        "id": "bzBbvUlfTflf",
        "outputId": "6b5e80f6-0d8d-42c4-b996-a1e0d19020cf",
        "colab": {
          "base_uri": "https://localhost:8080/"
        }
      },
      "source": [
        "email_dict = count_emails(file)"
      ],
      "execution_count": 98,
      "outputs": [
        {
          "output_type": "stream",
          "text": [
            "source has the most emails in the file.\n",
            "\n"
          ],
          "name": "stdout"
        }
      ]
    },
    {
      "cell_type": "code",
      "metadata": {
        "id": "2H6U5wj8YPgF",
        "outputId": "a23baf47-c410-4bdf-fe64-8dcbd0e6398b",
        "colab": {
          "base_uri": "https://localhost:8080/"
        }
      },
      "source": [
        "print(email_dict)"
      ],
      "execution_count": 99,
      "outputs": [
        {
          "output_type": "stream",
          "text": [
            "{'200801032122.m03LMFo4005148': 1, '200801032127.m03LRUqH005177': 1, '200801032133.m03LX3gG005191': 1, '200801032205.m03M5Ea7005273': 1, '200801032216.m03MGhDa005292': 1, '200801040023.m040NpCc005473': 1, '200801040905.m0495rWB006420': 1, '200801040932.m049W2i5006493': 1, '200801040947.m049lUxo006517': 1, '200801041106.m04B6lK3006677': 1, '200801041200.m04C0gfK006793': 1, '200801041403.m04E3psW006926': 1, '200801041502.m04F21Jo007031': 1, '200801041515.m04FFv42007050': 1, '200801041537.m04Fb6Ci007092': 1, '200801041608.m04G8d7w007184': 1, '200801041609.m04G9EuX007197': 1, '200801041610.m04GA5KP007209': 1, '200801041611.m04GB1Lb007221': 1, '200801041633.m04GX6eG007292': 1, '200801041635.m04GZQGZ007313': 1, '200801041948.m04JmdwO007705': 1, '200801042001.m04K1cO0007738': 1, '200801042044.m04Kiem3007881': 1, '200801042109.m04L92hb007923': 1, '200801042308.m04N8v6O008125': 1, '200801051412.m05ECIaH010327': 1, 'antranig': 4, 'apache': 27, 'cwen': 20, 'david.horwitz': 17, 'dhorwitz': 4, 'gopal.ramasammycook': 4, 'gsilver': 12, 'hu2': 2, 'josrodri': 2, 'louis': 12, 'postmaster': 27, 'ray': 4, 'rjlowe': 8, 'source': 135, 'stephen.marquard': 8, 'wagnermr': 6, 'zqian': 17}\n"
          ],
          "name": "stdout"
        }
      ]
    },
    {
      "cell_type": "code",
      "metadata": {
        "id": "UnX3Taz6YTe3",
        "outputId": "e1f356b7-ae87-47ac-b07f-9fbd6a3e954c",
        "colab": {
          "base_uri": "https://localhost:8080/",
          "height": 390
        }
      },
      "source": [
        "plt.figure(figsize = (12,6))\n",
        "plt.bar(*zip(*email_dict.items()), color = \"Coral\", width = .8)\n",
        "plt.title(\"Histogram of emails in text file\")\n",
        "plt.show()"
      ],
      "execution_count": 78,
      "outputs": [
        {
          "output_type": "display_data",
          "data": {
            "image/png": "[encoded data removed]",
            "text/plain": [
              "<Figure size 864x432 with 1 Axes>"
            ]
          },
          "metadata": {
            "tags": [],
            "needs_background": "light"
          }
        }
      ]
    },
    {
      "cell_type": "code",
      "metadata": {
        "id": "Xx5gMNOcYU30",
        "outputId": "fb64d288-f86d-46e5-9204-633bfa389cfc",
        "colab": {
          "base_uri": "https://localhost:8080/"
        }
      },
      "source": [
        "# To see what is happening with zip, * unzips the dictionary key, value pairs:\n",
        "print(email_dict.items())\n",
        "unzipped_output = zip(*email_dict.items())\n",
        "print(unzipped_output)"
      ],
      "execution_count": 79,
      "outputs": [
        {
          "output_type": "stream",
          "text": [
            "dict_items([('antranig', 4), ('apache', 27), ('cwen', 20), ('dhorwitz', 4), ('gsilver', 12), ('horwitz', 17), ('josrodri', 2), ('louis', 12), ('marquard', 8), ('postmaster', 27), ('ramasammycook', 4), ('ray', 4), ('rjlowe', 8), ('source', 135), ('wagnermr', 6), ('zqian', 17)])\n",
            "<zip object at 0x7f1c0b9643c8>\n"
          ],
          "name": "stdout"
        }
      ]
    },
    {
      "cell_type": "code",
      "metadata": {
        "id": "Kg84YJyIYzia",
        "outputId": "64734117-0c8b-4b73-908b-ecffa65bfd5b",
        "colab": {
          "base_uri": "https://localhost:8080/"
        }
      },
      "source": [
        "x,y = unzipped_output\n",
        "print(x)\n",
        "print(y)\n",
        "print(*(x,y))"
      ],
      "execution_count": 80,
      "outputs": [
        {
          "output_type": "stream",
          "text": [
            "('antranig', 'apache', 'cwen', 'dhorwitz', 'gsilver', 'horwitz', 'josrodri', 'louis', 'marquard', 'postmaster', 'ramasammycook', 'ray', 'rjlowe', 'source', 'wagnermr', 'zqian')\n",
            "(4, 27, 20, 4, 12, 17, 2, 12, 8, 27, 4, 4, 8, 135, 6, 17)\n",
            "('antranig', 'apache', 'cwen', 'dhorwitz', 'gsilver', 'horwitz', 'josrodri', 'louis', 'marquard', 'postmaster', 'ramasammycook', 'ray', 'rjlowe', 'source', 'wagnermr', 'zqian') (4, 27, 20, 4, 12, 17, 2, 12, 8, 27, 4, 4, 8, 135, 6, 17)\n"
          ],
          "name": "stdout"
        }
      ]
    },
    {
      "cell_type": "code",
      "metadata": {
        "id": "wNbHfDgEZ2kD",
        "outputId": "c6cc6899-b840-410a-d56a-c4ffea14f53c",
        "colab": {
          "base_uri": "https://localhost:8080/"
        }
      },
      "source": [
        "print(type(x))\n",
        "print(type(y))"
      ],
      "execution_count": 81,
      "outputs": [
        {
          "output_type": "stream",
          "text": [
            "<class 'tuple'>\n",
            "<class 'tuple'>\n"
          ],
          "name": "stdout"
        }
      ]
    },
    {
      "cell_type": "code",
      "metadata": {
        "id": "M_0OiO1_bQiT"
      },
      "source": [
        ""
      ],
      "execution_count": null,
      "outputs": []
    }
  ]
}